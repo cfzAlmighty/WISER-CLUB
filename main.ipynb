{
 "cells": [
  {
   "cell_type": "markdown",
   "metadata": {},
   "source": [
    "# Project Introduction"
   ]
  },
  {
   "cell_type": "markdown",
   "metadata": {},
   "source": [
    "<font size=4, face=\"Calibri\">\n",
    "This is a comprehensive data science project for the Final of WISERCLUB 2019-2020. <br/>\n",
    "The project is about **<font>Business Analytics<font/>** and **<font>Data Mining</font>**. It consists of three parts: <br/>\n",
    "&emsp;&emsp;Part 1: Explorative Data Analysis <br/>\n",
    "&emsp;&emsp;Part 2: Data Preprocessing <br/>\n",
    "&emsp;&emsp;Part 3: Model Training and Prediction <br/>\n",
    "Each part has seversal problems. We have got two csv files, named *<font>data.csv</font>* and *<font>holiday.csv</font>*, derived from<br/> a new retail specialty coffee operator. The task is to use data and models to find hidden information.\n",
    "</font>"
   ]
  },
  {
   "cell_type": "markdown",
   "metadata": {},
   "source": [
    "## Packages used in the project"
   ]
  },
  {
   "cell_type": "markdown",
   "metadata": {},
   "source": [
    "<font size=4, face=\"Calibri\">\n",
    "pandas, numpy, matplotlib, scipy, math, datetime, sklearn, xgboost, imblearn\n",
    "</font>"
   ]
  },
  {
   "cell_type": "markdown",
   "metadata": {},
   "source": [
    "## Methods used in the project"
   ]
  },
  {
   "cell_type": "markdown",
   "metadata": {},
   "source": [
    "<font size=4, face=\"Calibri\">\n",
    "Aggregate Functions (groupby in Pandas), Hypothesis Testing (T test, F test), String Format, Lambda Expression, <br/>\n",
    "Adaboost, Random Forest, Cross Validation, Xgboost, GridSearchCV, Oversampling \n",
    "</font>"
   ]
  },
  {
   "cell_type": "markdown",
   "metadata": {},
   "source": [
    "<font color='red'>\n",
    "<font size=4, face=\"Calibri\">\n",
    "Now, let's begin the exploration in the ocean of data.<br/>\n",
    "    Since the project is very informative, you can use the contents of Jupyter Notebook to help you locate and read for convenience.\n",
    "</font>"
   ]
  },
  {
   "cell_type": "markdown",
   "metadata": {},
   "source": [
    "# <font color='#6495ED'>Part 1: Explorative Data Analysis</font>"
   ]
  },
  {
   "cell_type": "markdown",
   "metadata": {},
   "source": [
    "<font size=4, face=\"Calibri\">\n",
    "    \n",
    "1.\tFind the time span of the order data. <br/>\n",
    "\n",
    "2.\tFind the number of orders each day. <br/>\n",
    "&emsp;a.\t<font color = blue>Boss: we need to design two different strategies for sales in workdays and sales in weekends.</font> <br/> &emsp;&emsp;True or False? Explain. <br/>\n",
    "\n",
    "3.\tFind the number of users. <br/>\n",
    "\n",
    "4.\tFind ten commodities with the highest sales and draw graphs with x-axis the commodity name and y-axis<br/> &emsp;the # of orders. <br/>\n",
    "\n",
    "5.  Find the discount rate of each order and concat it onto the original dataset with column name *<font>discount_rate</font>*.<br/>&emsp;You may use *<font>pay_money</font>*, *<font>coffeestore_share_money</font>*, *<font>commodity_origin_money</font>* and *<font>commodity_income</font>*. <br/>\n",
    "\n",
    "6.\tFind the average discount of each week. One week should consist of Sunday to Saturday. <br/>\n",
    "\n",
    "7.\tFind the *<font>Retention Rate</font>* of any five days. It is the ratio of users purchasing again on the next day. <br/>&emsp;For example, if you want to compute the *<font>Retention Rate</font>* on 2019-02-10, then you need to find users who <br/>&emsp;bought goods on 02-09 and 02-10. <br/>\n",
    "\n",
    "8. Find the *<font>Week Retention Rate</font>* of any day, which means finding users buying at that day and buying again <br/>&emsp;within the next seven days. <br/>\n",
    "\n",
    "9. Find the *<font>Week Retention Rate</font>* of any day for *<font>new users</font>*  , which means finding users buying at that day <br/>&emsp;*<font>for the first time</font>*  and buying again within the next seven days. <br/>\n",
    "\n",
    "10. Find the *<font>Retention Rate</font>* *<font>WITHIN</font>* one week of new users. You could choose any week you want, but it must <br/> &emsp;&ensp;consist of Sunday to Saturday. You need to find users buying the first product and buying again within that week. <br/>\n",
    "\n",
    "11. Find “Active Users” (which means the number of orders of one user is greater equal to 5). <br/>\n",
    "\n",
    "12. Write the table you get in 11 as a csv file with filename *<font>ActiveUser.csv</font>*. <br/>\n",
    "\n",
    "13. Provide a description of the number of orders for each active user (# of ActiveUser, mean, range, std, variance,<br/>&emsp;&ensp;skewness and kurtosis). \n",
    "</font>"
   ]
  },
  {
   "cell_type": "code",
   "execution_count": 1,
   "metadata": {},
   "outputs": [],
   "source": [
    "import numpy as np\n",
    "import pandas as pd\n",
    "import matplotlib.pyplot as plt\n",
    "import matplotlib\n",
    "matplotlib.rcParams['font.family'] = 'SimHei'"
   ]
  },
  {
   "cell_type": "code",
   "execution_count": 2,
   "metadata": {},
   "outputs": [
    {
     "data": {
      "text/html": [
       "<div>\n",
       "<style scoped>\n",
       "    .dataframe tbody tr th:only-of-type {\n",
       "        vertical-align: middle;\n",
       "    }\n",
       "\n",
       "    .dataframe tbody tr th {\n",
       "        vertical-align: top;\n",
       "    }\n",
       "\n",
       "    .dataframe thead th {\n",
       "        text-align: right;\n",
       "    }\n",
       "</style>\n",
       "<table border=\"1\" class=\"dataframe\">\n",
       "  <thead>\n",
       "    <tr style=\"text-align: right;\">\n",
       "      <th></th>\n",
       "      <th>Unnamed: 0</th>\n",
       "      <th>Unnamed: 0.1</th>\n",
       "      <th>dt</th>\n",
       "      <th>phone_no</th>\n",
       "      <th>member_id</th>\n",
       "      <th>commodity_code</th>\n",
       "      <th>commodity_name</th>\n",
       "      <th>commodity_origin_money</th>\n",
       "      <th>coupon_id</th>\n",
       "      <th>coupon_money</th>\n",
       "      <th>one_category_name</th>\n",
       "      <th>two_category_name</th>\n",
       "      <th>commodity_income</th>\n",
       "      <th>pay_money</th>\n",
       "      <th>coffeestore_share_money</th>\n",
       "    </tr>\n",
       "  </thead>\n",
       "  <tbody>\n",
       "    <tr>\n",
       "      <th>0</th>\n",
       "      <td>0</td>\n",
       "      <td>0</td>\n",
       "      <td>2019-01-25</td>\n",
       "      <td>13901387938</td>\n",
       "      <td>14442</td>\n",
       "      <td>SP025</td>\n",
       "      <td>榛果拿铁</td>\n",
       "      <td>27.0</td>\n",
       "      <td>7045.0</td>\n",
       "      <td>19.44</td>\n",
       "      <td>饮品</td>\n",
       "      <td>现磨咖啡</td>\n",
       "      <td>7.56</td>\n",
       "      <td>7.56</td>\n",
       "      <td>0.0</td>\n",
       "    </tr>\n",
       "    <tr>\n",
       "      <th>1</th>\n",
       "      <td>1</td>\n",
       "      <td>1</td>\n",
       "      <td>2019-01-27</td>\n",
       "      <td>13901387938</td>\n",
       "      <td>14442</td>\n",
       "      <td>SP209</td>\n",
       "      <td>NFC鲜榨橙汁</td>\n",
       "      <td>24.0</td>\n",
       "      <td>NaN</td>\n",
       "      <td>0.00</td>\n",
       "      <td>饮品</td>\n",
       "      <td>鲜榨果蔬汁</td>\n",
       "      <td>0.00</td>\n",
       "      <td>0.00</td>\n",
       "      <td>0.0</td>\n",
       "    </tr>\n",
       "    <tr>\n",
       "      <th>2</th>\n",
       "      <td>2</td>\n",
       "      <td>2</td>\n",
       "      <td>2019-01-23</td>\n",
       "      <td>13901387938</td>\n",
       "      <td>14442</td>\n",
       "      <td>SP025</td>\n",
       "      <td>榛果拿铁</td>\n",
       "      <td>27.0</td>\n",
       "      <td>5589.0</td>\n",
       "      <td>22.14</td>\n",
       "      <td>饮品</td>\n",
       "      <td>现磨咖啡</td>\n",
       "      <td>4.86</td>\n",
       "      <td>4.86</td>\n",
       "      <td>0.0</td>\n",
       "    </tr>\n",
       "    <tr>\n",
       "      <th>3</th>\n",
       "      <td>3</td>\n",
       "      <td>3</td>\n",
       "      <td>2019-02-01</td>\n",
       "      <td>13901387938</td>\n",
       "      <td>14442</td>\n",
       "      <td>SP025</td>\n",
       "      <td>榛果拿铁</td>\n",
       "      <td>27.0</td>\n",
       "      <td>6604.0</td>\n",
       "      <td>19.44</td>\n",
       "      <td>饮品</td>\n",
       "      <td>现磨咖啡</td>\n",
       "      <td>7.56</td>\n",
       "      <td>7.56</td>\n",
       "      <td>0.0</td>\n",
       "    </tr>\n",
       "    <tr>\n",
       "      <th>4</th>\n",
       "      <td>4</td>\n",
       "      <td>4</td>\n",
       "      <td>2019-01-27</td>\n",
       "      <td>13901387938</td>\n",
       "      <td>14442</td>\n",
       "      <td>SP010</td>\n",
       "      <td>巧克力瑞纳冰</td>\n",
       "      <td>27.0</td>\n",
       "      <td>6947.0</td>\n",
       "      <td>14.04</td>\n",
       "      <td>饮品</td>\n",
       "      <td>瑞纳冰</td>\n",
       "      <td>12.96</td>\n",
       "      <td>12.96</td>\n",
       "      <td>0.0</td>\n",
       "    </tr>\n",
       "  </tbody>\n",
       "</table>\n",
       "</div>"
      ],
      "text/plain": [
       "   Unnamed: 0  Unnamed: 0.1          dt     phone_no  member_id  \\\n",
       "0           0             0  2019-01-25  13901387938      14442   \n",
       "1           1             1  2019-01-27  13901387938      14442   \n",
       "2           2             2  2019-01-23  13901387938      14442   \n",
       "3           3             3  2019-02-01  13901387938      14442   \n",
       "4           4             4  2019-01-27  13901387938      14442   \n",
       "\n",
       "  commodity_code commodity_name  commodity_origin_money  coupon_id  \\\n",
       "0          SP025           榛果拿铁                    27.0     7045.0   \n",
       "1          SP209        NFC鲜榨橙汁                    24.0        NaN   \n",
       "2          SP025           榛果拿铁                    27.0     5589.0   \n",
       "3          SP025           榛果拿铁                    27.0     6604.0   \n",
       "4          SP010         巧克力瑞纳冰                    27.0     6947.0   \n",
       "\n",
       "   coupon_money one_category_name two_category_name  commodity_income  \\\n",
       "0         19.44                饮品              现磨咖啡              7.56   \n",
       "1          0.00                饮品             鲜榨果蔬汁              0.00   \n",
       "2         22.14                饮品              现磨咖啡              4.86   \n",
       "3         19.44                饮品              现磨咖啡              7.56   \n",
       "4         14.04                饮品               瑞纳冰             12.96   \n",
       "\n",
       "   pay_money  coffeestore_share_money  \n",
       "0       7.56                      0.0  \n",
       "1       0.00                      0.0  \n",
       "2       4.86                      0.0  \n",
       "3       7.56                      0.0  \n",
       "4      12.96                      0.0  "
      ]
     },
     "execution_count": 2,
     "metadata": {},
     "output_type": "execute_result"
    }
   ],
   "source": [
    "Data = pd.read_csv(\"data.csv\", encoding = \"UTF-8\")\n",
    "Data.head()"
   ]
  },
  {
   "cell_type": "code",
   "execution_count": 3,
   "metadata": {},
   "outputs": [
    {
     "data": {
      "text/html": [
       "<div>\n",
       "<style scoped>\n",
       "    .dataframe tbody tr th:only-of-type {\n",
       "        vertical-align: middle;\n",
       "    }\n",
       "\n",
       "    .dataframe tbody tr th {\n",
       "        vertical-align: top;\n",
       "    }\n",
       "\n",
       "    .dataframe thead th {\n",
       "        text-align: right;\n",
       "    }\n",
       "</style>\n",
       "<table border=\"1\" class=\"dataframe\">\n",
       "  <thead>\n",
       "    <tr style=\"text-align: right;\">\n",
       "      <th></th>\n",
       "      <th>dt</th>\n",
       "      <th>month</th>\n",
       "      <th>weekday</th>\n",
       "      <th>week_of_year</th>\n",
       "      <th>type</th>\n",
       "      <th>last_type</th>\n",
       "      <th>holiday_distance</th>\n",
       "      <th>holiday_code</th>\n",
       "    </tr>\n",
       "  </thead>\n",
       "  <tbody>\n",
       "    <tr>\n",
       "      <th>0</th>\n",
       "      <td>2017-10-09</td>\n",
       "      <td>10</td>\n",
       "      <td>1</td>\n",
       "      <td>41</td>\n",
       "      <td>0</td>\n",
       "      <td>0</td>\n",
       "      <td>-82</td>\n",
       "      <td>0</td>\n",
       "    </tr>\n",
       "    <tr>\n",
       "      <th>1</th>\n",
       "      <td>2017-10-10</td>\n",
       "      <td>10</td>\n",
       "      <td>2</td>\n",
       "      <td>41</td>\n",
       "      <td>0</td>\n",
       "      <td>0</td>\n",
       "      <td>-81</td>\n",
       "      <td>0</td>\n",
       "    </tr>\n",
       "    <tr>\n",
       "      <th>2</th>\n",
       "      <td>2017-10-11</td>\n",
       "      <td>10</td>\n",
       "      <td>3</td>\n",
       "      <td>41</td>\n",
       "      <td>0</td>\n",
       "      <td>0</td>\n",
       "      <td>-80</td>\n",
       "      <td>0</td>\n",
       "    </tr>\n",
       "    <tr>\n",
       "      <th>3</th>\n",
       "      <td>2017-10-12</td>\n",
       "      <td>10</td>\n",
       "      <td>4</td>\n",
       "      <td>41</td>\n",
       "      <td>0</td>\n",
       "      <td>0</td>\n",
       "      <td>-79</td>\n",
       "      <td>0</td>\n",
       "    </tr>\n",
       "    <tr>\n",
       "      <th>4</th>\n",
       "      <td>2017-10-13</td>\n",
       "      <td>10</td>\n",
       "      <td>5</td>\n",
       "      <td>41</td>\n",
       "      <td>0</td>\n",
       "      <td>0</td>\n",
       "      <td>-78</td>\n",
       "      <td>0</td>\n",
       "    </tr>\n",
       "  </tbody>\n",
       "</table>\n",
       "</div>"
      ],
      "text/plain": [
       "           dt  month  weekday  week_of_year  type  last_type  \\\n",
       "0  2017-10-09     10        1            41     0          0   \n",
       "1  2017-10-10     10        2            41     0          0   \n",
       "2  2017-10-11     10        3            41     0          0   \n",
       "3  2017-10-12     10        4            41     0          0   \n",
       "4  2017-10-13     10        5            41     0          0   \n",
       "\n",
       "   holiday_distance  holiday_code  \n",
       "0               -82             0  \n",
       "1               -81             0  \n",
       "2               -80             0  \n",
       "3               -79             0  \n",
       "4               -78             0  "
      ]
     },
     "execution_count": 3,
     "metadata": {},
     "output_type": "execute_result"
    }
   ],
   "source": [
    "Holiday = pd.read_csv(\"holiday.csv\", encoding = \"UTF-8\")\n",
    "Holiday.head()"
   ]
  },
  {
   "cell_type": "markdown",
   "metadata": {},
   "source": [
    "## Problem 1&emsp;Find the time span of the order data."
   ]
  },
  {
   "cell_type": "markdown",
   "metadata": {},
   "source": [
    "<font size=4>\n",
    "**<font color='blue'>Method 1: groupby</font>**"
   ]
  },
  {
   "cell_type": "code",
   "execution_count": 4,
   "metadata": {},
   "outputs": [
    {
     "data": {
      "text/html": [
       "<div>\n",
       "<style scoped>\n",
       "    .dataframe tbody tr th:only-of-type {\n",
       "        vertical-align: middle;\n",
       "    }\n",
       "\n",
       "    .dataframe tbody tr th {\n",
       "        vertical-align: top;\n",
       "    }\n",
       "\n",
       "    .dataframe thead th {\n",
       "        text-align: right;\n",
       "    }\n",
       "</style>\n",
       "<table border=\"1\" class=\"dataframe\">\n",
       "  <thead>\n",
       "    <tr style=\"text-align: right;\">\n",
       "      <th></th>\n",
       "      <th>dt</th>\n",
       "    </tr>\n",
       "    <tr>\n",
       "      <th>dt</th>\n",
       "      <th></th>\n",
       "    </tr>\n",
       "  </thead>\n",
       "  <tbody>\n",
       "    <tr>\n",
       "      <th>2019-01-20</th>\n",
       "      <td>69859</td>\n",
       "    </tr>\n",
       "  </tbody>\n",
       "</table>\n",
       "</div>"
      ],
      "text/plain": [
       "               dt\n",
       "dt               \n",
       "2019-01-20  69859"
      ]
     },
     "execution_count": 4,
     "metadata": {},
     "output_type": "execute_result"
    }
   ],
   "source": [
    "Data.groupby('dt')[['dt']].count().head(1)"
   ]
  },
  {
   "cell_type": "code",
   "execution_count": 5,
   "metadata": {},
   "outputs": [
    {
     "data": {
      "text/html": [
       "<div>\n",
       "<style scoped>\n",
       "    .dataframe tbody tr th:only-of-type {\n",
       "        vertical-align: middle;\n",
       "    }\n",
       "\n",
       "    .dataframe tbody tr th {\n",
       "        vertical-align: top;\n",
       "    }\n",
       "\n",
       "    .dataframe thead th {\n",
       "        text-align: right;\n",
       "    }\n",
       "</style>\n",
       "<table border=\"1\" class=\"dataframe\">\n",
       "  <thead>\n",
       "    <tr style=\"text-align: right;\">\n",
       "      <th></th>\n",
       "      <th>dt</th>\n",
       "    </tr>\n",
       "    <tr>\n",
       "      <th>dt</th>\n",
       "      <th></th>\n",
       "    </tr>\n",
       "  </thead>\n",
       "  <tbody>\n",
       "    <tr>\n",
       "      <th>2019-03-01</th>\n",
       "      <td>53279</td>\n",
       "    </tr>\n",
       "  </tbody>\n",
       "</table>\n",
       "</div>"
      ],
      "text/plain": [
       "               dt\n",
       "dt               \n",
       "2019-03-01  53279"
      ]
     },
     "execution_count": 5,
     "metadata": {},
     "output_type": "execute_result"
    }
   ],
   "source": [
    "Data.groupby('dt')[['dt']].count().tail(1)"
   ]
  },
  {
   "cell_type": "markdown",
   "metadata": {},
   "source": [
    "<font size=4>\n",
    "**<font color='blue'>Method 2: loop</font>**"
   ]
  },
  {
   "cell_type": "code",
   "execution_count": 6,
   "metadata": {},
   "outputs": [
    {
     "name": "stdout",
     "output_type": "stream",
     "text": [
      "The time span of the order data: 2019-01-20 to 2019-03-01\n"
     ]
    }
   ],
   "source": [
    "print('The time span of the order data:',Data['dt'].min(),'to', Data['dt'].max())"
   ]
  },
  {
   "cell_type": "markdown",
   "metadata": {},
   "source": [
    "## Problem 2&emsp;Find the number of orders each day."
   ]
  },
  {
   "cell_type": "code",
   "execution_count": 7,
   "metadata": {
    "scrolled": true
   },
   "outputs": [
    {
     "name": "stdout",
     "output_type": "stream",
     "text": [
      "The number of orders each day:\n"
     ]
    },
    {
     "data": {
      "text/html": [
       "<div>\n",
       "<style scoped>\n",
       "    .dataframe tbody tr th:only-of-type {\n",
       "        vertical-align: middle;\n",
       "    }\n",
       "\n",
       "    .dataframe tbody tr th {\n",
       "        vertical-align: top;\n",
       "    }\n",
       "\n",
       "    .dataframe thead th {\n",
       "        text-align: right;\n",
       "    }\n",
       "</style>\n",
       "<table border=\"1\" class=\"dataframe\">\n",
       "  <thead>\n",
       "    <tr style=\"text-align: right;\">\n",
       "      <th></th>\n",
       "      <th>daily_orders</th>\n",
       "    </tr>\n",
       "    <tr>\n",
       "      <th>dt</th>\n",
       "      <th></th>\n",
       "    </tr>\n",
       "  </thead>\n",
       "  <tbody>\n",
       "    <tr>\n",
       "      <th>2019-01-20</th>\n",
       "      <td>69859</td>\n",
       "    </tr>\n",
       "    <tr>\n",
       "      <th>2019-01-21</th>\n",
       "      <td>117686</td>\n",
       "    </tr>\n",
       "    <tr>\n",
       "      <th>2019-01-22</th>\n",
       "      <td>118409</td>\n",
       "    </tr>\n",
       "    <tr>\n",
       "      <th>2019-01-23</th>\n",
       "      <td>126331</td>\n",
       "    </tr>\n",
       "    <tr>\n",
       "      <th>2019-01-24</th>\n",
       "      <td>125764</td>\n",
       "    </tr>\n",
       "    <tr>\n",
       "      <th>2019-01-25</th>\n",
       "      <td>122092</td>\n",
       "    </tr>\n",
       "    <tr>\n",
       "      <th>2019-01-26</th>\n",
       "      <td>77779</td>\n",
       "    </tr>\n",
       "    <tr>\n",
       "      <th>2019-01-27</th>\n",
       "      <td>66399</td>\n",
       "    </tr>\n",
       "    <tr>\n",
       "      <th>2019-01-28</th>\n",
       "      <td>106025</td>\n",
       "    </tr>\n",
       "    <tr>\n",
       "      <th>2019-01-29</th>\n",
       "      <td>104704</td>\n",
       "    </tr>\n",
       "    <tr>\n",
       "      <th>2019-01-30</th>\n",
       "      <td>101047</td>\n",
       "    </tr>\n",
       "    <tr>\n",
       "      <th>2019-01-31</th>\n",
       "      <td>97701</td>\n",
       "    </tr>\n",
       "    <tr>\n",
       "      <th>2019-02-01</th>\n",
       "      <td>87458</td>\n",
       "    </tr>\n",
       "    <tr>\n",
       "      <th>2019-02-02</th>\n",
       "      <td>64267</td>\n",
       "    </tr>\n",
       "    <tr>\n",
       "      <th>2019-02-03</th>\n",
       "      <td>43106</td>\n",
       "    </tr>\n",
       "    <tr>\n",
       "      <th>2019-02-04</th>\n",
       "      <td>7113</td>\n",
       "    </tr>\n",
       "    <tr>\n",
       "      <th>2019-02-05</th>\n",
       "      <td>8516</td>\n",
       "    </tr>\n",
       "    <tr>\n",
       "      <th>2019-02-06</th>\n",
       "      <td>7769</td>\n",
       "    </tr>\n",
       "    <tr>\n",
       "      <th>2019-02-07</th>\n",
       "      <td>7655</td>\n",
       "    </tr>\n",
       "    <tr>\n",
       "      <th>2019-02-08</th>\n",
       "      <td>7822</td>\n",
       "    </tr>\n",
       "    <tr>\n",
       "      <th>2019-02-09</th>\n",
       "      <td>8452</td>\n",
       "    </tr>\n",
       "    <tr>\n",
       "      <th>2019-02-10</th>\n",
       "      <td>8241</td>\n",
       "    </tr>\n",
       "    <tr>\n",
       "      <th>2019-02-11</th>\n",
       "      <td>40365</td>\n",
       "    </tr>\n",
       "    <tr>\n",
       "      <th>2019-02-12</th>\n",
       "      <td>43334</td>\n",
       "    </tr>\n",
       "    <tr>\n",
       "      <th>2019-02-13</th>\n",
       "      <td>50789</td>\n",
       "    </tr>\n",
       "    <tr>\n",
       "      <th>2019-02-14</th>\n",
       "      <td>49092</td>\n",
       "    </tr>\n",
       "    <tr>\n",
       "      <th>2019-02-15</th>\n",
       "      <td>49836</td>\n",
       "    </tr>\n",
       "    <tr>\n",
       "      <th>2019-02-16</th>\n",
       "      <td>29672</td>\n",
       "    </tr>\n",
       "    <tr>\n",
       "      <th>2019-02-17</th>\n",
       "      <td>25179</td>\n",
       "    </tr>\n",
       "    <tr>\n",
       "      <th>2019-02-18</th>\n",
       "      <td>52260</td>\n",
       "    </tr>\n",
       "    <tr>\n",
       "      <th>2019-02-19</th>\n",
       "      <td>51624</td>\n",
       "    </tr>\n",
       "    <tr>\n",
       "      <th>2019-02-20</th>\n",
       "      <td>53121</td>\n",
       "    </tr>\n",
       "    <tr>\n",
       "      <th>2019-02-21</th>\n",
       "      <td>51817</td>\n",
       "    </tr>\n",
       "    <tr>\n",
       "      <th>2019-02-22</th>\n",
       "      <td>53685</td>\n",
       "    </tr>\n",
       "    <tr>\n",
       "      <th>2019-02-23</th>\n",
       "      <td>31964</td>\n",
       "    </tr>\n",
       "    <tr>\n",
       "      <th>2019-02-24</th>\n",
       "      <td>27414</td>\n",
       "    </tr>\n",
       "    <tr>\n",
       "      <th>2019-02-25</th>\n",
       "      <td>53969</td>\n",
       "    </tr>\n",
       "    <tr>\n",
       "      <th>2019-02-26</th>\n",
       "      <td>50018</td>\n",
       "    </tr>\n",
       "    <tr>\n",
       "      <th>2019-02-27</th>\n",
       "      <td>48970</td>\n",
       "    </tr>\n",
       "    <tr>\n",
       "      <th>2019-02-28</th>\n",
       "      <td>51272</td>\n",
       "    </tr>\n",
       "    <tr>\n",
       "      <th>2019-03-01</th>\n",
       "      <td>53279</td>\n",
       "    </tr>\n",
       "  </tbody>\n",
       "</table>\n",
       "</div>"
      ],
      "text/plain": [
       "            daily_orders\n",
       "dt                      \n",
       "2019-01-20         69859\n",
       "2019-01-21        117686\n",
       "2019-01-22        118409\n",
       "2019-01-23        126331\n",
       "2019-01-24        125764\n",
       "2019-01-25        122092\n",
       "2019-01-26         77779\n",
       "2019-01-27         66399\n",
       "2019-01-28        106025\n",
       "2019-01-29        104704\n",
       "2019-01-30        101047\n",
       "2019-01-31         97701\n",
       "2019-02-01         87458\n",
       "2019-02-02         64267\n",
       "2019-02-03         43106\n",
       "2019-02-04          7113\n",
       "2019-02-05          8516\n",
       "2019-02-06          7769\n",
       "2019-02-07          7655\n",
       "2019-02-08          7822\n",
       "2019-02-09          8452\n",
       "2019-02-10          8241\n",
       "2019-02-11         40365\n",
       "2019-02-12         43334\n",
       "2019-02-13         50789\n",
       "2019-02-14         49092\n",
       "2019-02-15         49836\n",
       "2019-02-16         29672\n",
       "2019-02-17         25179\n",
       "2019-02-18         52260\n",
       "2019-02-19         51624\n",
       "2019-02-20         53121\n",
       "2019-02-21         51817\n",
       "2019-02-22         53685\n",
       "2019-02-23         31964\n",
       "2019-02-24         27414\n",
       "2019-02-25         53969\n",
       "2019-02-26         50018\n",
       "2019-02-27         48970\n",
       "2019-02-28         51272\n",
       "2019-03-01         53279"
      ]
     },
     "execution_count": 7,
     "metadata": {},
     "output_type": "execute_result"
    }
   ],
   "source": [
    "dt_sales = Data.groupby('dt')[['member_id']].count()\n",
    "dt_sales.columns = ['daily_orders']\n",
    "print('The number of orders each day:')\n",
    "dt_sales"
   ]
  },
  {
   "cell_type": "markdown",
   "metadata": {},
   "source": [
    "### Problem 2-a&emsp;<font color = blue>Boss: we need to design two different strategies for sales in workdays and sales in weekends. </font>"
   ]
  },
  {
   "cell_type": "markdown",
   "metadata": {},
   "source": [
    "**<font size=4, face=\"Calibri\">Answer:</font>** \n",
    "<font size=4, face=\"Calibri\">\n",
    "True. As you can see from the data above, the orders in workdays are much greater than orders in weekends. Thus, different strategies for sales should be designed. Here are the relevant descriptive statistics and hypothesis testings.\n",
    "</font>"
   ]
  },
  {
   "cell_type": "markdown",
   "metadata": {},
   "source": [
    "#### <font color='red'>1. Separate weekdays and weekends</font>"
   ]
  },
  {
   "cell_type": "code",
   "execution_count": 8,
   "metadata": {},
   "outputs": [
    {
     "data": {
      "text/html": [
       "<div>\n",
       "<style scoped>\n",
       "    .dataframe tbody tr th:only-of-type {\n",
       "        vertical-align: middle;\n",
       "    }\n",
       "\n",
       "    .dataframe tbody tr th {\n",
       "        vertical-align: top;\n",
       "    }\n",
       "\n",
       "    .dataframe thead th {\n",
       "        text-align: right;\n",
       "    }\n",
       "</style>\n",
       "<table border=\"1\" class=\"dataframe\">\n",
       "  <thead>\n",
       "    <tr style=\"text-align: right;\">\n",
       "      <th></th>\n",
       "      <th>dt</th>\n",
       "      <th>month</th>\n",
       "      <th>weekday</th>\n",
       "      <th>week_of_year</th>\n",
       "      <th>type</th>\n",
       "      <th>last_type</th>\n",
       "      <th>holiday_distance</th>\n",
       "      <th>holiday_code</th>\n",
       "    </tr>\n",
       "  </thead>\n",
       "  <tbody>\n",
       "    <tr>\n",
       "      <th>468</th>\n",
       "      <td>2019-01-20</td>\n",
       "      <td>1</td>\n",
       "      <td>7</td>\n",
       "      <td>3</td>\n",
       "      <td>1</td>\n",
       "      <td>0</td>\n",
       "      <td>-15</td>\n",
       "      <td>0</td>\n",
       "    </tr>\n",
       "    <tr>\n",
       "      <th>469</th>\n",
       "      <td>2019-01-21</td>\n",
       "      <td>1</td>\n",
       "      <td>1</td>\n",
       "      <td>4</td>\n",
       "      <td>0</td>\n",
       "      <td>0</td>\n",
       "      <td>-14</td>\n",
       "      <td>0</td>\n",
       "    </tr>\n",
       "    <tr>\n",
       "      <th>470</th>\n",
       "      <td>2019-01-22</td>\n",
       "      <td>1</td>\n",
       "      <td>2</td>\n",
       "      <td>4</td>\n",
       "      <td>0</td>\n",
       "      <td>0</td>\n",
       "      <td>-13</td>\n",
       "      <td>0</td>\n",
       "    </tr>\n",
       "    <tr>\n",
       "      <th>471</th>\n",
       "      <td>2019-01-23</td>\n",
       "      <td>1</td>\n",
       "      <td>3</td>\n",
       "      <td>4</td>\n",
       "      <td>0</td>\n",
       "      <td>0</td>\n",
       "      <td>-12</td>\n",
       "      <td>0</td>\n",
       "    </tr>\n",
       "    <tr>\n",
       "      <th>472</th>\n",
       "      <td>2019-01-24</td>\n",
       "      <td>1</td>\n",
       "      <td>4</td>\n",
       "      <td>4</td>\n",
       "      <td>0</td>\n",
       "      <td>0</td>\n",
       "      <td>-11</td>\n",
       "      <td>0</td>\n",
       "    </tr>\n",
       "  </tbody>\n",
       "</table>\n",
       "</div>"
      ],
      "text/plain": [
       "             dt  month  weekday  week_of_year  type  last_type  \\\n",
       "468  2019-01-20      1        7             3     1          0   \n",
       "469  2019-01-21      1        1             4     0          0   \n",
       "470  2019-01-22      1        2             4     0          0   \n",
       "471  2019-01-23      1        3             4     0          0   \n",
       "472  2019-01-24      1        4             4     0          0   \n",
       "\n",
       "     holiday_distance  holiday_code  \n",
       "468               -15             0  \n",
       "469               -14             0  \n",
       "470               -13             0  \n",
       "471               -12             0  \n",
       "472               -11             0  "
      ]
     },
     "execution_count": 8,
     "metadata": {},
     "output_type": "execute_result"
    }
   ],
   "source": [
    "Holiday =  Holiday[(Holiday['dt'] > '2019-01-19') & (Holiday['dt'] < '2019-03-02')] # Note: don't miss ()\n",
    "Holiday.head()"
   ]
  },
  {
   "cell_type": "code",
   "execution_count": 9,
   "metadata": {},
   "outputs": [
    {
     "data": {
      "text/html": [
       "<div>\n",
       "<style scoped>\n",
       "    .dataframe tbody tr th:only-of-type {\n",
       "        vertical-align: middle;\n",
       "    }\n",
       "\n",
       "    .dataframe tbody tr th {\n",
       "        vertical-align: top;\n",
       "    }\n",
       "\n",
       "    .dataframe thead th {\n",
       "        text-align: right;\n",
       "    }\n",
       "</style>\n",
       "<table border=\"1\" class=\"dataframe\">\n",
       "  <thead>\n",
       "    <tr style=\"text-align: right;\">\n",
       "      <th></th>\n",
       "      <th>daily_orders</th>\n",
       "      <th>weekday</th>\n",
       "    </tr>\n",
       "    <tr>\n",
       "      <th>dt</th>\n",
       "      <th></th>\n",
       "      <th></th>\n",
       "    </tr>\n",
       "  </thead>\n",
       "  <tbody>\n",
       "    <tr>\n",
       "      <th>2019-01-20</th>\n",
       "      <td>69859</td>\n",
       "      <td>7</td>\n",
       "    </tr>\n",
       "    <tr>\n",
       "      <th>2019-01-21</th>\n",
       "      <td>117686</td>\n",
       "      <td>1</td>\n",
       "    </tr>\n",
       "    <tr>\n",
       "      <th>2019-01-22</th>\n",
       "      <td>118409</td>\n",
       "      <td>2</td>\n",
       "    </tr>\n",
       "    <tr>\n",
       "      <th>2019-01-23</th>\n",
       "      <td>126331</td>\n",
       "      <td>3</td>\n",
       "    </tr>\n",
       "    <tr>\n",
       "      <th>2019-01-24</th>\n",
       "      <td>125764</td>\n",
       "      <td>4</td>\n",
       "    </tr>\n",
       "  </tbody>\n",
       "</table>\n",
       "</div>"
      ],
      "text/plain": [
       "            daily_orders  weekday\n",
       "dt                               \n",
       "2019-01-20         69859        7\n",
       "2019-01-21        117686        1\n",
       "2019-01-22        118409        2\n",
       "2019-01-23        126331        3\n",
       "2019-01-24        125764        4"
      ]
     },
     "execution_count": 9,
     "metadata": {},
     "output_type": "execute_result"
    }
   ],
   "source": [
    "orders = Data.groupby('dt')[['dt']].count()\n",
    "orders.columns = ['daily_orders']\n",
    "\n",
    "holiday_weekday = Holiday['weekday']\n",
    "holiday_weekday = holiday_weekday.to_frame()\n",
    "holiday_weekday.index = Holiday['dt']\n",
    "holiday_weekday.columns = ['weekday']\n",
    "\n",
    "orders_day = pd.concat([orders, holiday_weekday], axis = 1)\n",
    "orders_day.head()"
   ]
  },
  {
   "cell_type": "code",
   "execution_count": 10,
   "metadata": {},
   "outputs": [],
   "source": [
    "orders_weekday = orders_day[orders_day['weekday'] < 6]\n",
    "orders_weekend = orders_day[orders_day['weekday'] > 5]"
   ]
  },
  {
   "cell_type": "markdown",
   "metadata": {},
   "source": [
    "#### <font color='red'>2. Descriptive statistics of weekdays and weekends</font>"
   ]
  },
  {
   "cell_type": "code",
   "execution_count": 11,
   "metadata": {
    "scrolled": true
   },
   "outputs": [
    {
     "data": {
      "text/html": [
       "<div>\n",
       "<style scoped>\n",
       "    .dataframe tbody tr th:only-of-type {\n",
       "        vertical-align: middle;\n",
       "    }\n",
       "\n",
       "    .dataframe tbody tr th {\n",
       "        vertical-align: top;\n",
       "    }\n",
       "\n",
       "    .dataframe thead th {\n",
       "        text-align: right;\n",
       "    }\n",
       "</style>\n",
       "<table border=\"1\" class=\"dataframe\">\n",
       "  <thead>\n",
       "    <tr style=\"text-align: right;\">\n",
       "      <th></th>\n",
       "      <th>daily_orders_weekday</th>\n",
       "      <th>daily_orders_weekend</th>\n",
       "    </tr>\n",
       "  </thead>\n",
       "  <tbody>\n",
       "    <tr>\n",
       "      <th>count</th>\n",
       "      <td>30.000000</td>\n",
       "      <td>11.000000</td>\n",
       "    </tr>\n",
       "    <tr>\n",
       "      <th>mean</th>\n",
       "      <td>63317.433333</td>\n",
       "      <td>41121.090909</td>\n",
       "    </tr>\n",
       "    <tr>\n",
       "      <th>std</th>\n",
       "      <td>38163.933323</td>\n",
       "      <td>24806.559328</td>\n",
       "    </tr>\n",
       "    <tr>\n",
       "      <th>min</th>\n",
       "      <td>7113.000000</td>\n",
       "      <td>8241.000000</td>\n",
       "    </tr>\n",
       "    <tr>\n",
       "      <th>25%</th>\n",
       "      <td>49000.500000</td>\n",
       "      <td>26296.500000</td>\n",
       "    </tr>\n",
       "    <tr>\n",
       "      <th>50%</th>\n",
       "      <td>52038.500000</td>\n",
       "      <td>31964.000000</td>\n",
       "    </tr>\n",
       "    <tr>\n",
       "      <th>75%</th>\n",
       "      <td>100210.500000</td>\n",
       "      <td>65333.000000</td>\n",
       "    </tr>\n",
       "    <tr>\n",
       "      <th>max</th>\n",
       "      <td>126331.000000</td>\n",
       "      <td>77779.000000</td>\n",
       "    </tr>\n",
       "  </tbody>\n",
       "</table>\n",
       "</div>"
      ],
      "text/plain": [
       "       daily_orders_weekday  daily_orders_weekend\n",
       "count             30.000000             11.000000\n",
       "mean           63317.433333          41121.090909\n",
       "std            38163.933323          24806.559328\n",
       "min             7113.000000           8241.000000\n",
       "25%            49000.500000          26296.500000\n",
       "50%            52038.500000          31964.000000\n",
       "75%           100210.500000          65333.000000\n",
       "max           126331.000000          77779.000000"
      ]
     },
     "execution_count": 11,
     "metadata": {},
     "output_type": "execute_result"
    }
   ],
   "source": [
    "desc_weekday = orders_weekday['daily_orders'].to_frame().describe()\n",
    "desc_weekday.columns = ['daily_orders_weekday']\n",
    "desc_weekend = orders_weekend['daily_orders'].to_frame().describe()\n",
    "desc_weekend.columns = ['daily_orders_weekend']\n",
    "pd.concat([desc_weekday, desc_weekend], axis = 1)"
   ]
  },
  {
   "cell_type": "code",
   "execution_count": 12,
   "metadata": {},
   "outputs": [
    {
     "data": {
      "image/png": "[encoded data removed]",
      "text/plain": [
       "<Figure size 1152x360 with 2 Axes>"
      ]
     },
     "metadata": {},
     "output_type": "display_data"
    }
   ],
   "source": [
    "plt.figure(figsize = (16,5))\n",
    "plt.subplot(1,2,1)\n",
    "plt.hist(orders_weekday['daily_orders'], edgecolor='black')\n",
    "plt.title('Distribution of orders on weekdays', fontsize = 20)\n",
    "plt.xticks(fontsize = 12)\n",
    "plt.yticks(fontsize = 16)\n",
    "plt.xlabel('daily orders', fontsize = 16)\n",
    "plt.xlim(0, 130000)\n",
    "plt.subplot(1,2,2)\n",
    "plt.hist(orders_weekend['daily_orders'], edgecolor='black')\n",
    "plt.title('Distribution of orders on weekends', fontsize = 20)\n",
    "plt.xticks(fontsize = 12)\n",
    "plt.yticks(fontsize = 16)\n",
    "plt.xlabel('daily orders', fontsize = 16)\n",
    "plt.xlim(0, 130000)\n",
    "plt.show()"
   ]
  },
  {
   "cell_type": "code",
   "execution_count": 13,
   "metadata": {},
   "outputs": [
    {
     "data": {
      "image/png": "[encoded data removed]",
      "text/plain": [
       "<Figure size 1152x360 with 2 Axes>"
      ]
     },
     "metadata": {},
     "output_type": "display_data"
    }
   ],
   "source": [
    "import matplotlib.lines as mlines\n",
    "\n",
    "plt.figure(figsize = (16,5))\n",
    "plt.subplot(1,2,1)\n",
    "plt.boxplot(orders_weekday['daily_orders'], widths = 0.7, labels = ['daily orders'],\n",
    "            meanline = True, showmeans = True, medianprops = {'color': 'red', 'linewidth': '2'})\n",
    "plt.title('Distribution of orders on weekdays', fontsize = 20)\n",
    "plt.ylim(0, 130000)\n",
    "plt.xticks(fontsize = 16)\n",
    "plt.yticks(fontsize = 16)\n",
    "median_line = mlines.Line2D([], [], color = 'red', label = 'median')\n",
    "plt.legend(handles=[median_line], fontsize=16)\n",
    "\n",
    "plt.subplot(1,2,2)\n",
    "plt.boxplot(orders_weekend['daily_orders'], widths = 0.7, labels = ['daily orders'], \n",
    "            meanline = True, showmeans = True, medianprops = {'color': 'red', 'linewidth': '2'})\n",
    "plt.title('Distribution of orders on weekends', fontsize = 20)\n",
    "plt.ylim(0, 130000)\n",
    "plt.xticks(fontsize = 16)\n",
    "plt.yticks(fontsize = 16)\n",
    "plt.legend(handles=[median_line], fontsize = 16)\n",
    "plt.show()"
   ]
  },
  {
   "cell_type": "markdown",
   "metadata": {},
   "source": [
    "#### <font color='red'>3. Test whether var(orders_weekday) = var(orders_weekend)</font>"
   ]
  },
  {
   "cell_type": "code",
   "execution_count": 14,
   "metadata": {},
   "outputs": [],
   "source": [
    "orders_weekday_mean = orders_weekday['daily_orders'].mean()\n",
    "orders_weekend_mean = orders_weekend['daily_orders'].mean()\n",
    "orders_weekday_var = orders_weekday['daily_orders'].var()\n",
    "orders_weekend_var = orders_weekend['daily_orders'].var()\n",
    "\n",
    "n1 = len(orders_weekday)\n",
    "n2 = len(orders_weekend)"
   ]
  },
  {
   "cell_type": "markdown",
   "metadata": {},
   "source": [
    "<font size=4>\n",
    "**<font color='blue'>Method 1: F Test</font>**"
   ]
  },
  {
   "cell_type": "code",
   "execution_count": 15,
   "metadata": {},
   "outputs": [
    {
     "name": "stdout",
     "output_type": "stream",
     "text": [
      "F = 2.366863\n",
      "critical_region: F < 0.39548 or F > 3.318587\n",
      "p-value= 0.152171\n",
      "Accept the hypothesis orders_weekder_var = orders_weekend_var.\n",
      "Thus, orders_weekday_mean = orders_weekend_mean at 5% confidence level.\n"
     ]
    }
   ],
   "source": [
    "from scipy.stats import f\n",
    "\n",
    "def ftest(n1, n2, var1, var2):\n",
    "    '''\n",
    "        F test\n",
    "    '''\n",
    "    F = var1 / var2\n",
    "    p_value = 2 * min(f.sf(F, n1-1, n2-1), 1 - f.sf(F, n1-1, n2-1))\n",
    "    print('F =',round(F, 6))\n",
    "    print('critical_region:','F <',round(f.isf(0.975, 29, 10),6),'or','F >',round(f.isf(0.025, 29, 10),6))\n",
    "    if p_value < 0.05:    # at the 5% signiﬁcance level\n",
    "        print('p-value=',round(p_value, 6))\n",
    "        print('Reject the hypothesis orders_weekday_var = orders_weekend_var.')\n",
    "        print('Thus, orders_weekday_mean is not equal to orders_weekend_mean at 5% confidence level.')\n",
    "    else:\n",
    "        print('p-value=',round(p_value, 6))\n",
    "        print('Accept the hypothesis orders_weekder_var = orders_weekend_var.')\n",
    "        print('Thus, orders_weekday_mean = orders_weekend_mean at 5% confidence level.')\n",
    "\n",
    "ftest(n1, n2, orders_weekday_var, orders_weekend_var)"
   ]
  },
  {
   "cell_type": "markdown",
   "metadata": {},
   "source": [
    "<font size=4>\n",
    "**<font color='blue'>Method 2: Levene Test</font>**"
   ]
  },
  {
   "cell_type": "code",
   "execution_count": 16,
   "metadata": {},
   "outputs": [
    {
     "name": "stdout",
     "output_type": "stream",
     "text": [
      "w-value=0.8195, p-value=0.3709\n"
     ]
    }
   ],
   "source": [
    "from scipy import stats\n",
    "'''\n",
    "Levene test: Homogeneity test of variances\n",
    "'''\n",
    "leveneTestRes = stats.levene(orders_weekday['daily_orders'], orders_weekend['daily_orders'], center='median')\n",
    "print('w-value=%6.4f, p-value=%6.4f' %leveneTestRes)"
   ]
  },
  {
   "cell_type": "markdown",
   "metadata": {},
   "source": [
    "#### <font color='red'>4. Test whether mean(orders_weekday) = mean(orders_weekend)</font>"
   ]
  },
  {
   "cell_type": "markdown",
   "metadata": {},
   "source": [
    "<font size=4>\n",
    "**<font color='blue'>Method 1: Self-defining Two Sample T Test Function</font>**"
   ]
  },
  {
   "cell_type": "code",
   "execution_count": 17,
   "metadata": {},
   "outputs": [
    {
     "name": "stdout",
     "output_type": "stream",
     "text": [
      "T = 1.787694\n",
      "critical_region: T > 1.684875\n",
      "p-value= 0.040799\n",
      "Reject the hypothesis orders_weekday_mean = orders_weekend_mean.\n",
      "Thus, orders_weekday_mean > orders_weekend_mean at 5% confidence level.\n"
     ]
    }
   ],
   "source": [
    "# two sample t test with equal variance, one-sided\n",
    "from scipy.stats import t\n",
    "\n",
    "def ttest(n1, n2, mean1, mean2, var1, var2):\n",
    "    '''\n",
    "        two sample T test with equal unknown variance, one-sided\n",
    "    '''\n",
    "    sp2 = ((n1-1)*var1 + (n2-1)*var2)/(n1+n2-2) # sp2 = 1240813903.8532245\n",
    "    T = (orders_weekday_mean - orders_weekend_mean) / ((sp2/n1+sp2/n2) ** 0.5)  # T  = 1.7876937920463836\n",
    "    p_value = t.sf(T, n1+n2-2)\n",
    "    print('T =',round(T, 6)) \n",
    "    print('critical_region:','T >',round(t.isf(0.05, n1+n2-2),6))\n",
    "    if p_value < 0.05:    # at the 5% signiﬁcance level\n",
    "        print('p-value=',round(p_value ,6))\n",
    "        print('Reject the hypothesis orders_weekday_mean = orders_weekend_mean.')\n",
    "        print('Thus, orders_weekday_mean > orders_weekend_mean at 5% confidence level.')\n",
    "    else:\n",
    "        print('p-value=',round(p_value ,6))\n",
    "        print('Accept the hypothesis orders_weekday_mean = orders_weekend_mean.')\n",
    "        print('Thus, orders_weekday_mean = orders_weekend_mean at 5% confidence level.')\n",
    "\n",
    "ttest(n1, n2, orders_weekday_mean, orders_weekend_mean, orders_weekday_var, orders_weekend_var) "
   ]
  },
  {
   "cell_type": "markdown",
   "metadata": {},
   "source": [
    "<font size=4>\n",
    "**<font color='blue'>Method 2: Two Sample T Test by using  'from scipy import stats'</font>**"
   ]
  },
  {
   "cell_type": "code",
   "execution_count": 18,
   "metadata": {},
   "outputs": [
    {
     "name": "stdout",
     "output_type": "stream",
     "text": [
      "T-statistic=1.7877, p-value=0.0816\n"
     ]
    }
   ],
   "source": [
    "# two-sided, 5% confidence level\n",
    "tTestRes = stats.stats.ttest_ind(orders_weekday['daily_orders'], orders_weekend['daily_orders'], equal_var = True)\n",
    "print('T-statistic=%6.4f, p-value=%6.4f' %tTestRes)"
   ]
  },
  {
   "cell_type": "markdown",
   "metadata": {},
   "source": [
    "<font size=4, face=\"Calibri\">\n",
    "Though we cannot reject the hyphothesis that sales in workdays and sales in weekends are different at 5% confidence level for two-sided test, **<font>we can reject it at 5% confidence level for one-sided test</font>**. Thus, the sales in weekdays are higher than sales in weekends.\n",
    "</font>"
   ]
  },
  {
   "cell_type": "markdown",
   "metadata": {},
   "source": [
    "<font size=4, face=\"Calibri\">\n",
    "From the histograms and boxplots above, it is noted that the number of some daily orders are below 20000 both on weekdays and weekends. Looking up the corresponding dates in the calendar according to the specific data we get in Problem 2, we find that the dates with orders below 20000 is during the Spring Festival of 2019.\n",
    "</font>"
   ]
  },
  {
   "cell_type": "code",
   "execution_count": 19,
   "metadata": {},
   "outputs": [
    {
     "data": {
      "text/html": [
       "<div>\n",
       "<style scoped>\n",
       "    .dataframe tbody tr th:only-of-type {\n",
       "        vertical-align: middle;\n",
       "    }\n",
       "\n",
       "    .dataframe tbody tr th {\n",
       "        vertical-align: top;\n",
       "    }\n",
       "\n",
       "    .dataframe thead th {\n",
       "        text-align: right;\n",
       "    }\n",
       "</style>\n",
       "<table border=\"1\" class=\"dataframe\">\n",
       "  <thead>\n",
       "    <tr style=\"text-align: right;\">\n",
       "      <th></th>\n",
       "      <th>daily_orders</th>\n",
       "      <th>weekday</th>\n",
       "    </tr>\n",
       "    <tr>\n",
       "      <th>dt</th>\n",
       "      <th></th>\n",
       "      <th></th>\n",
       "    </tr>\n",
       "  </thead>\n",
       "  <tbody>\n",
       "    <tr>\n",
       "      <th>2019-02-04</th>\n",
       "      <td>7113</td>\n",
       "      <td>1</td>\n",
       "    </tr>\n",
       "    <tr>\n",
       "      <th>2019-02-05</th>\n",
       "      <td>8516</td>\n",
       "      <td>2</td>\n",
       "    </tr>\n",
       "    <tr>\n",
       "      <th>2019-02-06</th>\n",
       "      <td>7769</td>\n",
       "      <td>3</td>\n",
       "    </tr>\n",
       "    <tr>\n",
       "      <th>2019-02-07</th>\n",
       "      <td>7655</td>\n",
       "      <td>4</td>\n",
       "    </tr>\n",
       "    <tr>\n",
       "      <th>2019-02-08</th>\n",
       "      <td>7822</td>\n",
       "      <td>5</td>\n",
       "    </tr>\n",
       "    <tr>\n",
       "      <th>2019-02-09</th>\n",
       "      <td>8452</td>\n",
       "      <td>6</td>\n",
       "    </tr>\n",
       "    <tr>\n",
       "      <th>2019-02-10</th>\n",
       "      <td>8241</td>\n",
       "      <td>7</td>\n",
       "    </tr>\n",
       "  </tbody>\n",
       "</table>\n",
       "</div>"
      ],
      "text/plain": [
       "            daily_orders  weekday\n",
       "dt                               \n",
       "2019-02-04          7113        1\n",
       "2019-02-05          8516        2\n",
       "2019-02-06          7769        3\n",
       "2019-02-07          7655        4\n",
       "2019-02-08          7822        5\n",
       "2019-02-09          8452        6\n",
       "2019-02-10          8241        7"
      ]
     },
     "execution_count": 19,
     "metadata": {},
     "output_type": "execute_result"
    }
   ],
   "source": [
    "slice_orders_day = orders_day[orders_day['daily_orders'] < 20000]\n",
    "slice_orders_day"
   ]
  },
  {
   "cell_type": "markdown",
   "metadata": {},
   "source": [
    "<font size=4, face=\"Calibri\">\n",
    "From the table above, it can be considered that there is no difference between the number of orders on weekdays and weekends during the Spring Festival. This is a special case. However, after dropping the data during the Spring Festival, as you can see from the table and boxplots below, it is obvious that the difference between the number of orders on weekdays and weekends is significant. \n",
    "</font>"
   ]
  },
  {
   "cell_type": "code",
   "execution_count": 20,
   "metadata": {},
   "outputs": [
    {
     "data": {
      "text/html": [
       "<div>\n",
       "<style scoped>\n",
       "    .dataframe tbody tr th:only-of-type {\n",
       "        vertical-align: middle;\n",
       "    }\n",
       "\n",
       "    .dataframe tbody tr th {\n",
       "        vertical-align: top;\n",
       "    }\n",
       "\n",
       "    .dataframe thead th {\n",
       "        text-align: right;\n",
       "    }\n",
       "</style>\n",
       "<table border=\"1\" class=\"dataframe\">\n",
       "  <thead>\n",
       "    <tr style=\"text-align: right;\">\n",
       "      <th></th>\n",
       "      <th>daily_orders_weekday</th>\n",
       "      <th>daily_orders_weekend</th>\n",
       "    </tr>\n",
       "  </thead>\n",
       "  <tbody>\n",
       "    <tr>\n",
       "      <th>count</th>\n",
       "      <td>25.000000</td>\n",
       "      <td>9.000000</td>\n",
       "    </tr>\n",
       "    <tr>\n",
       "      <th>mean</th>\n",
       "      <td>74425.920000</td>\n",
       "      <td>48404.333333</td>\n",
       "    </tr>\n",
       "    <tr>\n",
       "      <th>std</th>\n",
       "      <td>31442.615071</td>\n",
       "      <td>20999.623199</td>\n",
       "    </tr>\n",
       "    <tr>\n",
       "      <th>min</th>\n",
       "      <td>40365.000000</td>\n",
       "      <td>25179.000000</td>\n",
       "    </tr>\n",
       "    <tr>\n",
       "      <th>25%</th>\n",
       "      <td>50789.000000</td>\n",
       "      <td>29672.000000</td>\n",
       "    </tr>\n",
       "    <tr>\n",
       "      <th>50%</th>\n",
       "      <td>53279.000000</td>\n",
       "      <td>43106.000000</td>\n",
       "    </tr>\n",
       "    <tr>\n",
       "      <th>75%</th>\n",
       "      <td>104704.000000</td>\n",
       "      <td>66399.000000</td>\n",
       "    </tr>\n",
       "    <tr>\n",
       "      <th>max</th>\n",
       "      <td>126331.000000</td>\n",
       "      <td>77779.000000</td>\n",
       "    </tr>\n",
       "  </tbody>\n",
       "</table>\n",
       "</div>"
      ],
      "text/plain": [
       "       daily_orders_weekday  daily_orders_weekend\n",
       "count             25.000000              9.000000\n",
       "mean           74425.920000          48404.333333\n",
       "std            31442.615071          20999.623199\n",
       "min            40365.000000          25179.000000\n",
       "25%            50789.000000          29672.000000\n",
       "50%            53279.000000          43106.000000\n",
       "75%           104704.000000          66399.000000\n",
       "max           126331.000000          77779.000000"
      ]
     },
     "execution_count": 20,
     "metadata": {},
     "output_type": "execute_result"
    }
   ],
   "source": [
    "slice_orders_weekday = orders_weekday[orders_weekday['daily_orders'] > 20000]\n",
    "slice_orders_weekend = orders_weekend[orders_weekend['daily_orders'] > 20000]\n",
    "desc_slice_weekday = slice_orders_weekday['daily_orders'].to_frame().describe()\n",
    "desc_slice_weekday.columns = ['daily_orders_weekday']\n",
    "desc_slice_weekend = slice_orders_weekend['daily_orders'].to_frame().describe()\n",
    "desc_slice_weekend.columns = ['daily_orders_weekend']\n",
    "pd.concat([desc_slice_weekday, desc_slice_weekend], axis = 1)"
   ]
  },
  {
   "cell_type": "code",
   "execution_count": 21,
   "metadata": {},
   "outputs": [
    {
     "data": {
      "image/png": "[encoded data removed]",
      "text/plain": [
       "<Figure size 1152x360 with 2 Axes>"
      ]
     },
     "metadata": {},
     "output_type": "display_data"
    }
   ],
   "source": [
    "import matplotlib.lines as mlines\n",
    "\n",
    "plt.figure(figsize = (16,5))\n",
    "plt.subplot(1,2,1)\n",
    "plt.boxplot(slice_orders_weekday['daily_orders'], widths = 0.7, labels = ['daily orders'],\n",
    "            meanline = True, showmeans = True, medianprops = {'color': 'red', 'linewidth': '2'})\n",
    "plt.title('Distribution of orders on weekdays\\n(except the days during the Spring Festival)', fontsize = 20)\n",
    "plt.ylim(0, 130000)\n",
    "plt.xticks(fontsize = 16)\n",
    "plt.yticks(fontsize = 16)\n",
    "median_line = mlines.Line2D([], [], color = 'red', label = 'median')\n",
    "plt.legend(handles=[median_line], fontsize=16)\n",
    "\n",
    "plt.subplot(1,2,2)\n",
    "plt.boxplot(slice_orders_weekend['daily_orders'], widths = 0.7, labels = ['daily orders'], \n",
    "            meanline = True, showmeans = True, medianprops = {'color': 'red', 'linewidth': '2'})\n",
    "plt.title('Distribution of orders on weekends\\n(except the days during the Spring Festival)', fontsize = 20)\n",
    "plt.ylim(0, 130000)\n",
    "plt.xticks(fontsize = 16)\n",
    "plt.yticks(fontsize = 16)\n",
    "plt.legend(handles=[median_line], fontsize = 16)\n",
    "plt.show()"
   ]
  },
  {
   "cell_type": "markdown",
   "metadata": {},
   "source": [
    "<font size=4, face=\"Calibri\">\n",
    "We can also do the hypothesis testings to verify our conclusion.\n",
    "</font>"
   ]
  },
  {
   "cell_type": "code",
   "execution_count": 22,
   "metadata": {},
   "outputs": [
    {
     "name": "stdout",
     "output_type": "stream",
     "text": [
      "(Except the days during the Spring Festival)\n",
      "F = 2.24189\n",
      "critical_region: F < 0.39548 or F > 3.318587\n",
      "p-value= 0.237908\n",
      "Accept the hypothesis orders_weekder_var = orders_weekend_var.\n",
      "Thus, orders_weekday_mean = orders_weekend_mean at 5% confidence level.\n"
     ]
    }
   ],
   "source": [
    "n3 = len(slice_orders_weekday)\n",
    "n4 = len(slice_orders_weekend)\n",
    "slice_orders_weekday_mean = slice_orders_weekday['daily_orders'].mean()\n",
    "slice_orders_weekend_mean = slice_orders_weekend['daily_orders'].mean()\n",
    "slice_orders_weekday_var = slice_orders_weekday['daily_orders'].var()\n",
    "slice_orders_weekend_var = slice_orders_weekend['daily_orders'].var()\n",
    "\n",
    "print('(Except the days during the Spring Festival)')\n",
    "ftest(n3, n4, slice_orders_weekday_var, slice_orders_weekend_var)"
   ]
  },
  {
   "cell_type": "code",
   "execution_count": 23,
   "metadata": {},
   "outputs": [
    {
     "name": "stdout",
     "output_type": "stream",
     "text": [
      "(Except the days during the Spring Festival)\n",
      "T = 1.956517\n",
      "critical_region: T > 1.693889\n",
      "p-value= 0.029589\n",
      "Reject the hypothesis orders_weekday_mean = orders_weekend_mean.\n",
      "Thus, orders_weekday_mean > orders_weekend_mean at 5% confidence level.\n"
     ]
    }
   ],
   "source": [
    "# two sample t test with equal variance, one-sided\n",
    "print('(Except the days during the Spring Festival)')\n",
    "ttest(n3, n4, slice_orders_weekday_mean, slice_orders_weekend_mean, slice_orders_weekday_var, slice_orders_weekend_var) "
   ]
  },
  {
   "cell_type": "markdown",
   "metadata": {},
   "source": [
    "## Problem 3&emsp;Find the number of users."
   ]
  },
  {
   "cell_type": "code",
   "execution_count": 24,
   "metadata": {},
   "outputs": [
    {
     "name": "stdout",
     "output_type": "stream",
     "text": [
      "The number of users is 466886\n"
     ]
    }
   ],
   "source": [
    "user_num = len(Data.groupby('member_id')[['member_id']].count())\n",
    "print('The number of users is', user_num)"
   ]
  },
  {
   "cell_type": "markdown",
   "metadata": {},
   "source": [
    "## Problem 4&emsp;Find ten commodities with the highest sales.  \n",
    "<font size=4>**Draw graphs with x-axis the commodity name and y-axis the # of orders.</font>**"
   ]
  },
  {
   "cell_type": "code",
   "execution_count": 25,
   "metadata": {},
   "outputs": [
    {
     "name": "stdout",
     "output_type": "stream",
     "text": [
      "The ten commodities with the highest sales:\n"
     ]
    },
    {
     "data": {
      "text/html": [
       "<div>\n",
       "<style scoped>\n",
       "    .dataframe tbody tr th:only-of-type {\n",
       "        vertical-align: middle;\n",
       "    }\n",
       "\n",
       "    .dataframe tbody tr th {\n",
       "        vertical-align: top;\n",
       "    }\n",
       "\n",
       "    .dataframe thead th {\n",
       "        text-align: right;\n",
       "    }\n",
       "</style>\n",
       "<table border=\"1\" class=\"dataframe\">\n",
       "  <thead>\n",
       "    <tr style=\"text-align: right;\">\n",
       "      <th></th>\n",
       "      <th>orders</th>\n",
       "    </tr>\n",
       "    <tr>\n",
       "      <th>commodity_name</th>\n",
       "      <th></th>\n",
       "    </tr>\n",
       "  </thead>\n",
       "  <tbody>\n",
       "    <tr>\n",
       "      <th>拿铁</th>\n",
       "      <td>425514</td>\n",
       "    </tr>\n",
       "    <tr>\n",
       "      <th>榛果拿铁</th>\n",
       "      <td>219627</td>\n",
       "    </tr>\n",
       "    <tr>\n",
       "      <th>澳瑞白</th>\n",
       "      <td>155506</td>\n",
       "    </tr>\n",
       "    <tr>\n",
       "      <th>标准美式</th>\n",
       "      <td>148666</td>\n",
       "    </tr>\n",
       "    <tr>\n",
       "      <th>香草拿铁</th>\n",
       "      <td>136841</td>\n",
       "    </tr>\n",
       "    <tr>\n",
       "      <th>卡布奇诺</th>\n",
       "      <td>115475</td>\n",
       "    </tr>\n",
       "    <tr>\n",
       "      <th>摩卡</th>\n",
       "      <td>113754</td>\n",
       "    </tr>\n",
       "    <tr>\n",
       "      <th>加浓美式</th>\n",
       "      <td>110526</td>\n",
       "    </tr>\n",
       "    <tr>\n",
       "      <th>焦糖玛奇朵</th>\n",
       "      <td>105081</td>\n",
       "    </tr>\n",
       "    <tr>\n",
       "      <th>焦糖拿铁</th>\n",
       "      <td>81120</td>\n",
       "    </tr>\n",
       "  </tbody>\n",
       "</table>\n",
       "</div>"
      ],
      "text/plain": [
       "                orders\n",
       "commodity_name        \n",
       "拿铁              425514\n",
       "榛果拿铁            219627\n",
       "澳瑞白             155506\n",
       "标准美式            148666\n",
       "香草拿铁            136841\n",
       "卡布奇诺            115475\n",
       "摩卡              113754\n",
       "加浓美式            110526\n",
       "焦糖玛奇朵           105081\n",
       "焦糖拿铁             81120"
      ]
     },
     "execution_count": 25,
     "metadata": {},
     "output_type": "execute_result"
    }
   ],
   "source": [
    "commodities = Data.groupby('commodity_name')[['commodity_name']].count()\n",
    "commodities.columns = ['orders']  \n",
    "top10_commodities = commodities.sort_values(by = ['orders'], ascending = False).head(10)\n",
    "print('The ten commodities with the highest sales:')\n",
    "top10_commodities"
   ]
  },
  {
   "cell_type": "code",
   "execution_count": 26,
   "metadata": {},
   "outputs": [
    {
     "data": {
      "image/png": "[encoded data removed]",
      "text/plain": [
       "<Figure size 1152x576 with 1 Axes>"
      ]
     },
     "metadata": {},
     "output_type": "display_data"
    }
   ],
   "source": [
    "# top10_commodities.reset_index()\n",
    "top10_commodities.insert(0, 'commodity_name', top10_commodities.index)\n",
    "list_names = top10_commodities.commodity_name.tolist()\n",
    "list_sales = top10_commodities.orders.tolist()\n",
    "plt.figure(figsize = (16, 8))\n",
    "plt.bar(list_names, height = list_sales, width = 0.5)\n",
    "plt.title('The ten commodities with the highest sales', fontsize = 20)\n",
    "plt.xticks(fontsize = 16)\n",
    "plt.yticks(fontsize = 20)\n",
    "plt.xlabel('commodity name', fontsize = 20)\n",
    "plt.ylabel('# of orders', fontsize = 20)\n",
    "plt.show()"
   ]
  },
  {
   "cell_type": "markdown",
   "metadata": {},
   "source": [
    "## Problem 5&emsp;Find the discount rate of each order and concat it onto the original dataset with column name *<font>discount_rate</font>*."
   ]
  },
  {
   "cell_type": "code",
   "execution_count": 27,
   "metadata": {},
   "outputs": [
    {
     "data": {
      "text/html": [
       "<div>\n",
       "<style scoped>\n",
       "    .dataframe tbody tr th:only-of-type {\n",
       "        vertical-align: middle;\n",
       "    }\n",
       "\n",
       "    .dataframe tbody tr th {\n",
       "        vertical-align: top;\n",
       "    }\n",
       "\n",
       "    .dataframe thead th {\n",
       "        text-align: right;\n",
       "    }\n",
       "</style>\n",
       "<table border=\"1\" class=\"dataframe\">\n",
       "  <thead>\n",
       "    <tr style=\"text-align: right;\">\n",
       "      <th></th>\n",
       "      <th>Unnamed: 0</th>\n",
       "      <th>Unnamed: 0.1</th>\n",
       "      <th>dt</th>\n",
       "      <th>phone_no</th>\n",
       "      <th>member_id</th>\n",
       "      <th>commodity_code</th>\n",
       "      <th>commodity_name</th>\n",
       "      <th>commodity_origin_money</th>\n",
       "      <th>coupon_id</th>\n",
       "      <th>coupon_money</th>\n",
       "      <th>one_category_name</th>\n",
       "      <th>two_category_name</th>\n",
       "      <th>commodity_income</th>\n",
       "      <th>pay_money</th>\n",
       "      <th>coffeestore_share_money</th>\n",
       "      <th>discount_rate</th>\n",
       "    </tr>\n",
       "  </thead>\n",
       "  <tbody>\n",
       "    <tr>\n",
       "      <th>0</th>\n",
       "      <td>0</td>\n",
       "      <td>0</td>\n",
       "      <td>2019-01-25</td>\n",
       "      <td>13901387938</td>\n",
       "      <td>14442</td>\n",
       "      <td>SP025</td>\n",
       "      <td>榛果拿铁</td>\n",
       "      <td>27.0</td>\n",
       "      <td>7045.0</td>\n",
       "      <td>19.44</td>\n",
       "      <td>饮品</td>\n",
       "      <td>现磨咖啡</td>\n",
       "      <td>7.56</td>\n",
       "      <td>7.56</td>\n",
       "      <td>0.0</td>\n",
       "      <td>0.28</td>\n",
       "    </tr>\n",
       "    <tr>\n",
       "      <th>1</th>\n",
       "      <td>1</td>\n",
       "      <td>1</td>\n",
       "      <td>2019-01-27</td>\n",
       "      <td>13901387938</td>\n",
       "      <td>14442</td>\n",
       "      <td>SP209</td>\n",
       "      <td>NFC鲜榨橙汁</td>\n",
       "      <td>24.0</td>\n",
       "      <td>NaN</td>\n",
       "      <td>0.00</td>\n",
       "      <td>饮品</td>\n",
       "      <td>鲜榨果蔬汁</td>\n",
       "      <td>0.00</td>\n",
       "      <td>0.00</td>\n",
       "      <td>0.0</td>\n",
       "      <td>0.00</td>\n",
       "    </tr>\n",
       "    <tr>\n",
       "      <th>2</th>\n",
       "      <td>2</td>\n",
       "      <td>2</td>\n",
       "      <td>2019-01-23</td>\n",
       "      <td>13901387938</td>\n",
       "      <td>14442</td>\n",
       "      <td>SP025</td>\n",
       "      <td>榛果拿铁</td>\n",
       "      <td>27.0</td>\n",
       "      <td>5589.0</td>\n",
       "      <td>22.14</td>\n",
       "      <td>饮品</td>\n",
       "      <td>现磨咖啡</td>\n",
       "      <td>4.86</td>\n",
       "      <td>4.86</td>\n",
       "      <td>0.0</td>\n",
       "      <td>0.18</td>\n",
       "    </tr>\n",
       "    <tr>\n",
       "      <th>3</th>\n",
       "      <td>3</td>\n",
       "      <td>3</td>\n",
       "      <td>2019-02-01</td>\n",
       "      <td>13901387938</td>\n",
       "      <td>14442</td>\n",
       "      <td>SP025</td>\n",
       "      <td>榛果拿铁</td>\n",
       "      <td>27.0</td>\n",
       "      <td>6604.0</td>\n",
       "      <td>19.44</td>\n",
       "      <td>饮品</td>\n",
       "      <td>现磨咖啡</td>\n",
       "      <td>7.56</td>\n",
       "      <td>7.56</td>\n",
       "      <td>0.0</td>\n",
       "      <td>0.28</td>\n",
       "    </tr>\n",
       "    <tr>\n",
       "      <th>4</th>\n",
       "      <td>4</td>\n",
       "      <td>4</td>\n",
       "      <td>2019-01-27</td>\n",
       "      <td>13901387938</td>\n",
       "      <td>14442</td>\n",
       "      <td>SP010</td>\n",
       "      <td>巧克力瑞纳冰</td>\n",
       "      <td>27.0</td>\n",
       "      <td>6947.0</td>\n",
       "      <td>14.04</td>\n",
       "      <td>饮品</td>\n",
       "      <td>瑞纳冰</td>\n",
       "      <td>12.96</td>\n",
       "      <td>12.96</td>\n",
       "      <td>0.0</td>\n",
       "      <td>0.48</td>\n",
       "    </tr>\n",
       "  </tbody>\n",
       "</table>\n",
       "</div>"
      ],
      "text/plain": [
       "   Unnamed: 0  Unnamed: 0.1          dt     phone_no  member_id  \\\n",
       "0           0             0  2019-01-25  13901387938      14442   \n",
       "1           1             1  2019-01-27  13901387938      14442   \n",
       "2           2             2  2019-01-23  13901387938      14442   \n",
       "3           3             3  2019-02-01  13901387938      14442   \n",
       "4           4             4  2019-01-27  13901387938      14442   \n",
       "\n",
       "  commodity_code commodity_name  commodity_origin_money  coupon_id  \\\n",
       "0          SP025           榛果拿铁                    27.0     7045.0   \n",
       "1          SP209        NFC鲜榨橙汁                    24.0        NaN   \n",
       "2          SP025           榛果拿铁                    27.0     5589.0   \n",
       "3          SP025           榛果拿铁                    27.0     6604.0   \n",
       "4          SP010         巧克力瑞纳冰                    27.0     6947.0   \n",
       "\n",
       "   coupon_money one_category_name two_category_name  commodity_income  \\\n",
       "0         19.44                饮品              现磨咖啡              7.56   \n",
       "1          0.00                饮品             鲜榨果蔬汁              0.00   \n",
       "2         22.14                饮品              现磨咖啡              4.86   \n",
       "3         19.44                饮品              现磨咖啡              7.56   \n",
       "4         14.04                饮品               瑞纳冰             12.96   \n",
       "\n",
       "   pay_money  coffeestore_share_money  discount_rate  \n",
       "0       7.56                      0.0           0.28  \n",
       "1       0.00                      0.0           0.00  \n",
       "2       4.86                      0.0           0.18  \n",
       "3       7.56                      0.0           0.28  \n",
       "4      12.96                      0.0           0.48  "
      ]
     },
     "execution_count": 27,
     "metadata": {},
     "output_type": "execute_result"
    }
   ],
   "source": [
    "discount_rate = Data.commodity_income / Data.commodity_origin_money # Series\n",
    "discount_rate = discount_rate.to_frame()\n",
    "discount_rate.columns=['discount_rate'] \n",
    "Data = pd.concat([Data, discount_rate], axis = 1)\n",
    "Data.head()"
   ]
  },
  {
   "cell_type": "markdown",
   "metadata": {},
   "source": [
    "## Problem 6&emsp;Find the average discount of each week. (One week should consist of Sunday to Saturday.)"
   ]
  },
  {
   "cell_type": "code",
   "execution_count": 28,
   "metadata": {},
   "outputs": [
    {
     "data": {
      "text/html": [
       "<div>\n",
       "<style scoped>\n",
       "    .dataframe tbody tr th:only-of-type {\n",
       "        vertical-align: middle;\n",
       "    }\n",
       "\n",
       "    .dataframe tbody tr th {\n",
       "        vertical-align: top;\n",
       "    }\n",
       "\n",
       "    .dataframe thead th {\n",
       "        text-align: right;\n",
       "    }\n",
       "</style>\n",
       "<table border=\"1\" class=\"dataframe\">\n",
       "  <thead>\n",
       "    <tr style=\"text-align: right;\">\n",
       "      <th></th>\n",
       "      <th>days</th>\n",
       "    </tr>\n",
       "    <tr>\n",
       "      <th>week_of_year</th>\n",
       "      <th></th>\n",
       "    </tr>\n",
       "  </thead>\n",
       "  <tbody>\n",
       "    <tr>\n",
       "      <th>3</th>\n",
       "      <td>1</td>\n",
       "    </tr>\n",
       "    <tr>\n",
       "      <th>4</th>\n",
       "      <td>7</td>\n",
       "    </tr>\n",
       "    <tr>\n",
       "      <th>5</th>\n",
       "      <td>7</td>\n",
       "    </tr>\n",
       "    <tr>\n",
       "      <th>6</th>\n",
       "      <td>7</td>\n",
       "    </tr>\n",
       "    <tr>\n",
       "      <th>7</th>\n",
       "      <td>7</td>\n",
       "    </tr>\n",
       "    <tr>\n",
       "      <th>8</th>\n",
       "      <td>7</td>\n",
       "    </tr>\n",
       "    <tr>\n",
       "      <th>9</th>\n",
       "      <td>5</td>\n",
       "    </tr>\n",
       "  </tbody>\n",
       "</table>\n",
       "</div>"
      ],
      "text/plain": [
       "              days\n",
       "week_of_year      \n",
       "3                1\n",
       "4                7\n",
       "5                7\n",
       "6                7\n",
       "7                7\n",
       "8                7\n",
       "9                5"
      ]
     },
     "execution_count": 28,
     "metadata": {},
     "output_type": "execute_result"
    }
   ],
   "source": [
    "# find which seven days could be combined into one week\n",
    "holiday_day = Holiday.groupby(['week_of_year'])[['week_of_year']].count()\n",
    "holiday_day.columns = ['days']\n",
    "holiday_day"
   ]
  },
  {
   "cell_type": "code",
   "execution_count": 29,
   "metadata": {
    "scrolled": true
   },
   "outputs": [
    {
     "data": {
      "text/html": [
       "<div>\n",
       "<style scoped>\n",
       "    .dataframe tbody tr th:only-of-type {\n",
       "        vertical-align: middle;\n",
       "    }\n",
       "\n",
       "    .dataframe tbody tr th {\n",
       "        vertical-align: top;\n",
       "    }\n",
       "\n",
       "    .dataframe thead th {\n",
       "        text-align: right;\n",
       "    }\n",
       "</style>\n",
       "<table border=\"1\" class=\"dataframe\">\n",
       "  <thead>\n",
       "    <tr style=\"text-align: right;\">\n",
       "      <th></th>\n",
       "      <th>daily_orders</th>\n",
       "      <th>discount_rate_sum</th>\n",
       "      <th>week_of_year</th>\n",
       "    </tr>\n",
       "    <tr>\n",
       "      <th>dt</th>\n",
       "      <th></th>\n",
       "      <th></th>\n",
       "      <th></th>\n",
       "    </tr>\n",
       "  </thead>\n",
       "  <tbody>\n",
       "    <tr>\n",
       "      <th>2019-01-20</th>\n",
       "      <td>69859</td>\n",
       "      <td>25703.825175</td>\n",
       "      <td>3</td>\n",
       "    </tr>\n",
       "    <tr>\n",
       "      <th>2019-01-21</th>\n",
       "      <td>117686</td>\n",
       "      <td>44597.227917</td>\n",
       "      <td>4</td>\n",
       "    </tr>\n",
       "    <tr>\n",
       "      <th>2019-01-22</th>\n",
       "      <td>118409</td>\n",
       "      <td>44737.627817</td>\n",
       "      <td>4</td>\n",
       "    </tr>\n",
       "    <tr>\n",
       "      <th>2019-01-23</th>\n",
       "      <td>126331</td>\n",
       "      <td>47913.169124</td>\n",
       "      <td>4</td>\n",
       "    </tr>\n",
       "    <tr>\n",
       "      <th>2019-01-24</th>\n",
       "      <td>125764</td>\n",
       "      <td>48211.078974</td>\n",
       "      <td>4</td>\n",
       "    </tr>\n",
       "  </tbody>\n",
       "</table>\n",
       "</div>"
      ],
      "text/plain": [
       "            daily_orders  discount_rate_sum  week_of_year\n",
       "dt                                                       \n",
       "2019-01-20         69859       25703.825175             3\n",
       "2019-01-21        117686       44597.227917             4\n",
       "2019-01-22        118409       44737.627817             4\n",
       "2019-01-23        126331       47913.169124             4\n",
       "2019-01-24        125764       48211.078974             4"
      ]
     },
     "execution_count": 29,
     "metadata": {},
     "output_type": "execute_result"
    }
   ],
   "source": [
    "holiday_week_of_year = Holiday['week_of_year']\n",
    "holiday_week_of_year = holiday_week_of_year.to_frame()\n",
    "holiday_week_of_year.index = Holiday['dt']\n",
    "holiday_week_of_year.columns = ['week_of_year']\n",
    "\n",
    "discount_rate_sum = Data.groupby('dt')[['discount_rate']].sum()\n",
    "discount_rate_sum.columns = ['discount_rate_sum']\n",
    "\n",
    "discount = pd.concat([dt_sales, discount_rate_sum, holiday_week_of_year], axis = 1)\n",
    "discount.head()"
   ]
  },
  {
   "cell_type": "code",
   "execution_count": 30,
   "metadata": {},
   "outputs": [
    {
     "data": {
      "text/html": [
       "<div>\n",
       "<style scoped>\n",
       "    .dataframe tbody tr th:only-of-type {\n",
       "        vertical-align: middle;\n",
       "    }\n",
       "\n",
       "    .dataframe tbody tr th {\n",
       "        vertical-align: top;\n",
       "    }\n",
       "\n",
       "    .dataframe thead th {\n",
       "        text-align: right;\n",
       "    }\n",
       "</style>\n",
       "<table border=\"1\" class=\"dataframe\">\n",
       "  <thead>\n",
       "    <tr style=\"text-align: right;\">\n",
       "      <th></th>\n",
       "      <th>weekly_orders</th>\n",
       "      <th>discount_rate_sum</th>\n",
       "      <th>discount_rate_weekly</th>\n",
       "    </tr>\n",
       "    <tr>\n",
       "      <th>week_of_year</th>\n",
       "      <th></th>\n",
       "      <th></th>\n",
       "      <th></th>\n",
       "    </tr>\n",
       "  </thead>\n",
       "  <tbody>\n",
       "    <tr>\n",
       "      <th>4</th>\n",
       "      <td>754460</td>\n",
       "      <td>286698.672087</td>\n",
       "      <td>0.380005</td>\n",
       "    </tr>\n",
       "    <tr>\n",
       "      <th>5</th>\n",
       "      <td>604308</td>\n",
       "      <td>241709.679206</td>\n",
       "      <td>0.399978</td>\n",
       "    </tr>\n",
       "    <tr>\n",
       "      <th>6</th>\n",
       "      <td>55568</td>\n",
       "      <td>19649.704967</td>\n",
       "      <td>0.353615</td>\n",
       "    </tr>\n",
       "    <tr>\n",
       "      <th>7</th>\n",
       "      <td>288267</td>\n",
       "      <td>135698.193614</td>\n",
       "      <td>0.470738</td>\n",
       "    </tr>\n",
       "    <tr>\n",
       "      <th>8</th>\n",
       "      <td>321885</td>\n",
       "      <td>149798.599166</td>\n",
       "      <td>0.465379</td>\n",
       "    </tr>\n",
       "  </tbody>\n",
       "</table>\n",
       "</div>"
      ],
      "text/plain": [
       "              weekly_orders  discount_rate_sum  discount_rate_weekly\n",
       "week_of_year                                                        \n",
       "4                    754460      286698.672087              0.380005\n",
       "5                    604308      241709.679206              0.399978\n",
       "6                     55568       19649.704967              0.353615\n",
       "7                    288267      135698.193614              0.470738\n",
       "8                    321885      149798.599166              0.465379"
      ]
     },
     "execution_count": 30,
     "metadata": {},
     "output_type": "execute_result"
    }
   ],
   "source": [
    "average_discount = discount.groupby('week_of_year')['daily_orders', 'discount_rate_sum'].sum()\n",
    "average_discount = average_discount[(average_discount.index > 3) & (average_discount.index < 9)] \n",
    "# Note: One week should consist of 7 days\n",
    "discount_rate_weekly = average_discount.discount_rate_sum / average_discount.daily_orders # Series\n",
    "discount_rate_weekly = discount_rate_weekly.to_frame()\n",
    "discount_rate_weekly.columns=['discount_rate_weekly']\n",
    "average_discount = pd.concat([average_discount, discount_rate_weekly], axis = 1)\n",
    "average_discount.rename(columns = {\"daily_orders\": \"weekly_orders\"}, inplace = True)\n",
    "average_discount"
   ]
  },
  {
   "cell_type": "code",
   "execution_count": 31,
   "metadata": {},
   "outputs": [
    {
     "name": "stdout",
     "output_type": "stream",
     "text": [
      "The average discount of each week:\n"
     ]
    },
    {
     "data": {
      "text/html": [
       "<div>\n",
       "<style scoped>\n",
       "    .dataframe tbody tr th:only-of-type {\n",
       "        vertical-align: middle;\n",
       "    }\n",
       "\n",
       "    .dataframe tbody tr th {\n",
       "        vertical-align: top;\n",
       "    }\n",
       "\n",
       "    .dataframe thead th {\n",
       "        text-align: right;\n",
       "    }\n",
       "</style>\n",
       "<table border=\"1\" class=\"dataframe\">\n",
       "  <thead>\n",
       "    <tr style=\"text-align: right;\">\n",
       "      <th></th>\n",
       "      <th>discount_rate_weekly</th>\n",
       "    </tr>\n",
       "    <tr>\n",
       "      <th>week_of_year</th>\n",
       "      <th></th>\n",
       "    </tr>\n",
       "  </thead>\n",
       "  <tbody>\n",
       "    <tr>\n",
       "      <th>4</th>\n",
       "      <td>0.380005</td>\n",
       "    </tr>\n",
       "    <tr>\n",
       "      <th>5</th>\n",
       "      <td>0.399978</td>\n",
       "    </tr>\n",
       "    <tr>\n",
       "      <th>6</th>\n",
       "      <td>0.353615</td>\n",
       "    </tr>\n",
       "    <tr>\n",
       "      <th>7</th>\n",
       "      <td>0.470738</td>\n",
       "    </tr>\n",
       "    <tr>\n",
       "      <th>8</th>\n",
       "      <td>0.465379</td>\n",
       "    </tr>\n",
       "  </tbody>\n",
       "</table>\n",
       "</div>"
      ],
      "text/plain": [
       "              discount_rate_weekly\n",
       "week_of_year                      \n",
       "4                         0.380005\n",
       "5                         0.399978\n",
       "6                         0.353615\n",
       "7                         0.470738\n",
       "8                         0.465379"
      ]
     },
     "execution_count": 31,
     "metadata": {},
     "output_type": "execute_result"
    }
   ],
   "source": [
    "print('The average discount of each week:')\n",
    "average_discount.drop(['weekly_orders','discount_rate_sum'], axis = 1, inplace = True)\n",
    "average_discount"
   ]
  },
  {
   "cell_type": "markdown",
   "metadata": {},
   "source": [
    "## Problem 7&emsp;Find the *<font>Retention Rate</font>* of any five days. It is the ratio of users purchasing again on the next day."
   ]
  },
  {
   "cell_type": "markdown",
   "metadata": {},
   "source": [
    "<font size=4, face=\"Calibri\">\n",
    "Here are three methods. Method 1 is easy to figure out but it is tedious. Method 2 is an improvement on Method 1.<br/> Method 3 is is an improvement on Method 2. It is recommended and more useful.\n",
    "</font>"
   ]
  },
  {
   "cell_type": "markdown",
   "metadata": {},
   "source": [
    "<font size=4>\n",
    "**<font color='blue'>Method 1: Compute Retention Rate of given five days directly</font>**"
   ]
  },
  {
   "cell_type": "code",
   "execution_count": 32,
   "metadata": {},
   "outputs": [
    {
     "name": "stdout",
     "output_type": "stream",
     "text": [
      "The retention rate of 2019-01-21 to 2019-01-25: 0.1523 0.2463 0.2353 0.2278 0.221\n"
     ]
    }
   ],
   "source": [
    "# The conditions of the slice will change with the specific dates\n",
    "# We use the example 2019-01-21 to 2019-01-25 \n",
    "slice_0120a =  Data[Data['dt'] < '2019-01-21']                                 # 2019-01-20\n",
    "slice_0121a =  Data[(Data['dt'] > '2019-01-20') & (Data['dt'] < '2019-01-22')] # 2019-01-21\n",
    "slice_0122a =  Data[(Data['dt'] > '2019-01-21') & (Data['dt'] < '2019-01-23')] # 2019-01-22\n",
    "slice_0123a =  Data[(Data['dt'] > '2019-01-22') & (Data['dt'] < '2019-01-24')] # 2019-01-23\n",
    "slice_0124a =  Data[(Data['dt'] > '2019-01-23') & (Data['dt'] < '2019-01-25')] # 2019-01-24\n",
    "slice_0125a =  Data[(Data['dt'] > '2019-01-24') & (Data['dt'] < '2019-01-26')] # 2019-01-25\n",
    "\n",
    "slice_0120 = slice_0120a.drop_duplicates(subset = ['member_id'], keep = 'first', inplace = False)\n",
    "slice_0121 = slice_0121a.drop_duplicates(subset = ['member_id'], keep = 'first', inplace = False)\n",
    "slice_0122 = slice_0122a.drop_duplicates(subset = ['member_id'], keep = 'first', inplace = False)\n",
    "slice_0123 = slice_0123a.drop_duplicates(subset = ['member_id'], keep = 'first', inplace = False)\n",
    "slice_0124 = slice_0124a.drop_duplicates(subset = ['member_id'], keep = 'first', inplace = False)\n",
    "slice_0125 = slice_0125a.drop_duplicates(subset = ['member_id'], keep = 'first', inplace = False)\n",
    "\n",
    "print('The retention rate of 2019-01-21 to 2019-01-25:',\n",
    "      round(len(slice_0120['member_id'].loc[slice_0120['member_id'].isin(slice_0121['member_id'])]) / len(slice_0120), 4),\n",
    "      round(len(slice_0121['member_id'].loc[slice_0121['member_id'].isin(slice_0122['member_id'])]) / len(slice_0121), 4),\n",
    "      round(len(slice_0122['member_id'].loc[slice_0122['member_id'].isin(slice_0123['member_id'])]) / len(slice_0122), 4),\n",
    "      round(len(slice_0123['member_id'].loc[slice_0123['member_id'].isin(slice_0124['member_id'])]) / len(slice_0123), 4),\n",
    "      round(len(slice_0124['member_id'].loc[slice_0124['member_id'].isin(slice_0125['member_id'])]) / len(slice_0124), 4))"
   ]
  },
  {
   "cell_type": "markdown",
   "metadata": {},
   "source": [
    "<font size=4>\n",
    "**<font color='blue'>Method 2:  Compute Retention Rate of given five days by using loop and 'format'</font>**"
   ]
  },
  {
   "cell_type": "code",
   "execution_count": 33,
   "metadata": {},
   "outputs": [
    {
     "name": "stdout",
     "output_type": "stream",
     "text": [
      "The retention rate of 2019-01-21 to 2019-01-25: 0.1523, 0.2463, 0.2353, 0.2278, 0.221\n"
     ]
    }
   ],
   "source": [
    "slice_dt_all = [] # slice Data by dt(date)\n",
    "slice_dt_uni = [] # drop duplicates about users of slice_dt_all\n",
    "num_user_buy = [] # number of users purchasing on that day\n",
    "num_user_buy_again = [] # number of users purchasing again on the next day\n",
    "retention_rate = [] # the ratio of users purchasing again on the next day\n",
    "\n",
    "for j in range(6):\n",
    "    # The conditions of the slice will change with the specific dates\n",
    "    # We use the example 2019-01-21 to 2019-01-25 \n",
    "    slice_dt_all.append(Data[(Data['dt'] > '2019-01-{}'.format(j+19)) & (Data['dt'] < '2019-01-{}'.format(j+21))])\n",
    "    slice_dt_uni.append(slice_dt_all[j].drop_duplicates(subset = ['member_id'], keep = 'first', inplace = False))\n",
    "    num_user_buy.append(len(slice_dt_uni[j]))\n",
    "    if j > 0:\n",
    "        user_buy_again = slice_dt_uni[j-1].member_id.loc[slice_dt_uni[j-1].member_id.isin(slice_dt_uni[j].member_id)]\n",
    "        num_user_buy_again.append(len(user_buy_again))\n",
    "        if num_user_buy[j-1] == 0:\n",
    "            print('There are no users purchasing again on the next day!'\n",
    "                  'Thus, the retention rate of this day cannot be computed!')\n",
    "            break\n",
    "        retention_rate.append(round(num_user_buy_again[j-1] / num_user_buy[j-1], 4))\n",
    "      \n",
    "print('The retention rate of 2019-01-21 to 2019-01-25:', ', '.join(str(i) for i in retention_rate)) "
   ]
  },
  {
   "cell_type": "markdown",
   "metadata": {},
   "source": [
    "<font size=4>\n",
    "**<font color='blue'>Method 3: Compute Retention Rate of any five days by using loop and 'import datetime'</font>**"
   ]
  },
  {
   "cell_type": "code",
   "execution_count": 34,
   "metadata": {},
   "outputs": [
    {
     "name": "stdout",
     "output_type": "stream",
     "text": [
      "Please enter the first day that you want to compute the retention rate (from 2019-01-21 to 2019-02-25): 2019-01-21\n",
      "The retention rate of 2019-01-21 to 2019-01-25: 0.1523, 0.2463, 0.2353, 0.2278, 0.221\n"
     ]
    }
   ],
   "source": [
    "import datetime\n",
    "\n",
    "slice_dt_all = [] # slice Data by dt(date)\n",
    "slice_dt_uni = [] # drop duplicates about users of slice_dt_all\n",
    "num_user_buy = [] # number of users purchasing on that day\n",
    "num_user_buy_again = [] # number of users purchasing again on the next day\n",
    "retention_rate = [] # the ratio of users purchasing again on the next day\n",
    "\n",
    "first_dt = input('Please enter the first day that you want to compute the retention rate (from 2019-01-21 to 2019-02-25): ')\n",
    "date = datetime.datetime.strptime(first_dt, '%Y-%m-%d')\n",
    "\n",
    "if date <= datetime.datetime(2019, 1, 20, 0, 0) or date > datetime.datetime(2019, 2, 25, 0, 0):\n",
    "    last_date = date + datetime.timedelta(days=4) \n",
    "    last_dt = last_date.strftime(\"%Y-%m-%d\")\n",
    "    print('The retention rate of {} to {}'.format(first_dt, last_dt),\n",
    "          'cannot be computed! Some dates are not in the time span!')\n",
    "else:\n",
    "    for j in range(6):   \n",
    "        date1 = date - datetime.timedelta(days=2) \n",
    "        date2 = date \n",
    "        dt1 =  date1.strftime(\"%Y-%m-%d\")\n",
    "        dt2 =  date2.strftime(\"%Y-%m-%d\")\n",
    "        slice_dt_all.append(Data[(Data['dt'] > dt1) & (Data['dt'] < dt2)])\n",
    "        slice_dt_uni.append(slice_dt_all[j].drop_duplicates(subset = ['member_id'], keep = 'first', inplace = False))\n",
    "        num_user_buy.append(len(slice_dt_uni[j])) # number of users buying on one day\n",
    "        if j > 0:\n",
    "            user_buy_again = slice_dt_uni[j-1].member_id.loc[slice_dt_uni[j-1].member_id.isin(slice_dt_uni[j].member_id)]\n",
    "            num_user_buy_again.append(len(user_buy_again)) # number of users buying again on the next day\n",
    "            if num_user_buy[j-1] == 0:\n",
    "                print('There are no users purchasing on the day before that day!'\n",
    "                      'Thus, the retention rate of this day cannot be computed!')\n",
    "                break\n",
    "            else:\n",
    "                retention_rate.append(round(num_user_buy_again[j-1] / num_user_buy[j-1], 4))\n",
    "        date = date + datetime.timedelta(days=1) \n",
    "\n",
    "    last_date = date - datetime.timedelta(days=2) \n",
    "    last_dt = last_date.strftime(\"%Y-%m-%d\")\n",
    "    if num_user_buy[j-1] == 0:\n",
    "        pass\n",
    "    else:\n",
    "        print('The retention rate of {} to {}:'.format(first_dt, last_dt), ', '.join(str(i) for i in retention_rate)) "
   ]
  },
  {
   "cell_type": "markdown",
   "metadata": {},
   "source": [
    "## Problem 8&emsp;Find the *<font>Week Retention Rate</font>* of any day, which means finding users buying at that day and buying again within the next seven days."
   ]
  },
  {
   "cell_type": "markdown",
   "metadata": {},
   "source": [
    "<font size=4>\n",
    "**<font color='blue'>Method 1: Compute Week Retention Rate of the given day directly</font>**"
   ]
  },
  {
   "cell_type": "code",
   "execution_count": 35,
   "metadata": {},
   "outputs": [
    {
     "name": "stdout",
     "output_type": "stream",
     "text": [
      "The week retention rate of 2019-01-20: 0.5108\n"
     ]
    }
   ],
   "source": [
    "slice_0121_0127a = Data[(Data['dt'] > '2019-01-20') & (Data['dt'] < '2019-01-28')] # 2019-01-21 to 2019-01-27\n",
    "slice_0121_0127 = slice_0121_0127a.drop_duplicates(subset = ['member_id'], keep = 'first', inplace = False)\n",
    "\n",
    "print('The week retention rate of 2019-01-20:',\n",
    "      round(len(slice_0120['member_id'].loc[slice_0120['member_id'].isin(slice_0121_0127['member_id'])]) / len(slice_0120), 4))"
   ]
  },
  {
   "cell_type": "markdown",
   "metadata": {},
   "source": [
    "<font size=4>\n",
    "**<font color='blue'>Method 2: Compute Week Retention Rate of any day by using 'import datetime'</font>**"
   ]
  },
  {
   "cell_type": "code",
   "execution_count": 36,
   "metadata": {},
   "outputs": [
    {
     "name": "stdout",
     "output_type": "stream",
     "text": [
      "Please enter the day that you want to compute the week retention rate (from 2019-01-20 to 2019-02-22): 2019-01-20\n",
      "The week retention rate of 2019-01-20: 0.5108\n"
     ]
    }
   ],
   "source": [
    "import datetime\n",
    "\n",
    "slice_dt_all = [] # slice Data by dt(date)\n",
    "slice_dt_uni = [] # drop duplicates about users of slice_dt_all\n",
    "\n",
    "dt = input('Please enter the day that you want to compute the week retention rate (from 2019-01-20 to 2019-02-22): ')\n",
    "date = datetime.datetime.strptime(dt, '%Y-%m-%d')\n",
    "\n",
    "if date < datetime.datetime(2019, 1, 20, 0, 0) or date > datetime.datetime(2019, 2, 22, 0, 0):\n",
    "    print('The week retention rate of {}'.format(dt), 'cannot be computed! Some dates are not in the time span!')\n",
    "else:\n",
    "    # slice of that day\n",
    "    date1 = date - datetime.timedelta(days=1) \n",
    "    date2 = date + datetime.timedelta(days=1) \n",
    "    dt1 =  date1.strftime(\"%Y-%m-%d\")\n",
    "    dt2 =  date2.strftime(\"%Y-%m-%d\")\n",
    "    slice_dt_all.append(Data[(Data['dt'] > dt1) & (Data['dt'] < dt2)])\n",
    "    slice_dt_uni.append(slice_dt_all[0].drop_duplicates(subset = ['member_id'], keep = 'first', inplace = False))\n",
    "    num_user_buy = len(slice_dt_uni[0]) # number of users buying at that day\n",
    "    \n",
    "    # slice of the next seven days\n",
    "    date3 = date\n",
    "    date4 = date + datetime.timedelta(days=8) \n",
    "    dt3 =  date3.strftime(\"%Y-%m-%d\")\n",
    "    dt4 =  date4.strftime(\"%Y-%m-%d\")\n",
    "    slice_dt_all.append(Data[(Data['dt'] > dt3) & (Data['dt'] < dt4)])\n",
    "    slice_dt_uni.append(slice_dt_all[1].drop_duplicates(subset = ['member_id'], keep = 'first', inplace = False))\n",
    "    user_buy_again = slice_dt_uni[0].member_id.loc[slice_dt_uni[0].member_id.isin(slice_dt_uni[1].member_id)]\n",
    "    num_user_buy_again = len(user_buy_again) # number of users buying again within the next seven days\n",
    "    if num_user_buy == 0:\n",
    "        print('There are no users buying at that day!'\n",
    "              'Thus, the week retention rate of this day cannot be computed!')\n",
    "    else:\n",
    "        retention_rate = round(num_user_buy_again / num_user_buy, 4)\n",
    "        print('The week retention rate of {}:'.format(dt), retention_rate) "
   ]
  },
  {
   "cell_type": "markdown",
   "metadata": {},
   "source": [
    "## Problem 9&emsp;Find the *<font>Week Retention Rate</font>* of any day for *<font>new users</font>*, which means finding users buying at that day *<font>for the first time</font>*  and buying again within the next seven days."
   ]
  },
  {
   "cell_type": "markdown",
   "metadata": {},
   "source": [
    "<font size=4>\n",
    "**<font color='blue'>Method 1: Compute Week Retention Rate of the given day for new users directly</font>**"
   ]
  },
  {
   "cell_type": "code",
   "execution_count": 37,
   "metadata": {},
   "outputs": [
    {
     "name": "stdout",
     "output_type": "stream",
     "text": [
      "The week retention rate of 2019-01-21 for new users: 0.6026\n"
     ]
    }
   ],
   "source": [
    "slice_0122_0128a = Data[(Data['dt'] > '2019-01-21') & (Data['dt'] < '2019-01-29')] # 2019-01-22 to 2019-01-28\n",
    "slice_0122_0128 = slice_0122_0128a.drop_duplicates(subset = ['member_id'], keep = 'first', inplace = False)\n",
    "\n",
    "new_user = slice_0121[-slice_0121['member_id'].isin(slice_0120['member_id'])] # len(new_user)=68828, len(new_user_buy_again)=41475 \n",
    "new_user_buy_again = new_user['member_id'].loc[new_user['member_id'].isin(slice_0122_0128['member_id'])] \n",
    "\n",
    "week_retention_rate_new_user = round(len(new_user_buy_again) / len(new_user), 4)\n",
    "print('The week retention rate of 2019-01-21 for new users:', week_retention_rate_new_user)"
   ]
  },
  {
   "cell_type": "markdown",
   "metadata": {},
   "source": [
    "<font size=4>\n",
    "**<font color='blue'>Method 2: Compute Week Retention Rate of any day for new users by using 'import datetime'</font>**"
   ]
  },
  {
   "cell_type": "code",
   "execution_count": 38,
   "metadata": {},
   "outputs": [
    {
     "name": "stdout",
     "output_type": "stream",
     "text": [
      "Please enter the day that you want to compute the week retention rate for new users (from 2019-01-20 to 2019-02-22):\n",
      "2019-01-21\n",
      "The week retention rate of 2019-01-21 for new users: 0.6026\n"
     ]
    }
   ],
   "source": [
    "import datetime\n",
    "\n",
    "slice_dt_all = [] # slice Data by dt(date)\n",
    "slice_dt_uni = [] # drop duplicates about users of slice_dt_all\n",
    "\n",
    "print('Please enter the day that you want to compute the week retention rate for new users (from 2019-01-20 to 2019-02-22):')\n",
    "dt = input()\n",
    "date = datetime.datetime.strptime(dt, '%Y-%m-%d')\n",
    "\n",
    "if date < datetime.datetime(2019, 1, 20, 0, 0) or date > datetime.datetime(2019, 2, 22, 0, 0):\n",
    "    print('The week retention rate of {} for new users'.format(dt), \n",
    "          'cannot be computed! Some dates are not in the time span!')\n",
    "else:\n",
    "    # slice of that day\n",
    "    date1 = date - datetime.timedelta(days=1) \n",
    "    date2 = date + datetime.timedelta(days=1) \n",
    "    dt1 =  date1.strftime(\"%Y-%m-%d\")\n",
    "    dt2 =  date2.strftime(\"%Y-%m-%d\")\n",
    "    slice_dt_all.append(Data[(Data['dt'] > dt1) & (Data['dt'] < dt2)])\n",
    "    slice_dt_uni.append(slice_dt_all[0].drop_duplicates(subset = ['member_id'], keep = 'first', inplace = False))\n",
    "    \n",
    "    # slice of the next seven days\n",
    "    date3 = date\n",
    "    date4 = date + datetime.timedelta(days=8) \n",
    "    dt3 =  date3.strftime(\"%Y-%m-%d\")\n",
    "    dt4 =  date4.strftime(\"%Y-%m-%d\")\n",
    "    slice_dt_all.append(Data[(Data['dt'] > dt3) & (Data['dt'] < dt4)])\n",
    "    slice_dt_uni.append(slice_dt_all[1].drop_duplicates(subset = ['member_id'], keep = 'first', inplace = False))\n",
    "    \n",
    "    # slice of old users\n",
    "    slice_dt_all.append(Data[Data['dt'] < dt3])\n",
    "    slice_dt_uni.append(slice_dt_all[2].drop_duplicates(subset = ['member_id'], keep = 'first', inplace = False))\n",
    "    \n",
    "    new_user = slice_dt_uni[0][-slice_dt_uni[0].member_id.isin(slice_dt_uni[2].member_id)]\n",
    "    new_user_buy_again = new_user.member_id.loc[new_user.member_id.isin(slice_dt_uni[1].member_id)]\n",
    "    if len(new_user) == 0:\n",
    "        print('There are no new users buying at that day!'\n",
    "              'Thus, the week retention rate of this day for new users cannot be computed!')\n",
    "    else:\n",
    "        week_retention_rate_new_user = round(len(new_user_buy_again) / len(new_user), 4)\n",
    "        print('The week retention rate of {} for new users:'.format(dt), week_retention_rate_new_user) "
   ]
  },
  {
   "cell_type": "markdown",
   "metadata": {},
   "source": [
    "## Problem 10&emsp;Find the *<font>Retention Rate</font>* *<font>WITHIN</font>* one week of new users."
   ]
  },
  {
   "cell_type": "markdown",
   "metadata": {},
   "source": [
    "<font size=4>\n",
    "**<font color='blue'>Method 1: Compute the Retention Rate WITHIN one given week of new users step by step</font>**"
   ]
  },
  {
   "cell_type": "code",
   "execution_count": 39,
   "metadata": {},
   "outputs": [
    {
     "data": {
      "text/html": [
       "<div>\n",
       "<style scoped>\n",
       "    .dataframe tbody tr th:only-of-type {\n",
       "        vertical-align: middle;\n",
       "    }\n",
       "\n",
       "    .dataframe tbody tr th {\n",
       "        vertical-align: top;\n",
       "    }\n",
       "\n",
       "    .dataframe thead tr th {\n",
       "        text-align: left;\n",
       "    }\n",
       "\n",
       "    .dataframe thead tr:last-of-type th {\n",
       "        text-align: right;\n",
       "    }\n",
       "</style>\n",
       "<table border=\"1\" class=\"dataframe\">\n",
       "  <thead>\n",
       "    <tr>\n",
       "      <th></th>\n",
       "      <th></th>\n",
       "      <th>orders</th>\n",
       "    </tr>\n",
       "    <tr>\n",
       "      <th>member_id</th>\n",
       "      <th>dt</th>\n",
       "      <th></th>\n",
       "    </tr>\n",
       "  </thead>\n",
       "  <tbody>\n",
       "    <tr>\n",
       "      <th rowspan=\"2\" valign=\"top\">1520</th>\n",
       "      <th>2019-01-22</th>\n",
       "      <td>2</td>\n",
       "    </tr>\n",
       "    <tr>\n",
       "      <th>2019-01-25</th>\n",
       "      <td>2</td>\n",
       "    </tr>\n",
       "    <tr>\n",
       "      <th rowspan=\"2\" valign=\"top\">1525</th>\n",
       "      <th>2019-01-21</th>\n",
       "      <td>2</td>\n",
       "    </tr>\n",
       "    <tr>\n",
       "      <th>2019-01-25</th>\n",
       "      <td>1</td>\n",
       "    </tr>\n",
       "    <tr>\n",
       "      <th>1533</th>\n",
       "      <th>2019-01-22</th>\n",
       "      <td>3</td>\n",
       "    </tr>\n",
       "  </tbody>\n",
       "</table>\n",
       "</div>"
      ],
      "text/plain": [
       "                     orders\n",
       "member_id dt               \n",
       "1520      2019-01-22      2\n",
       "          2019-01-25      2\n",
       "1525      2019-01-21      2\n",
       "          2019-01-25      1\n",
       "1533      2019-01-22      3"
      ]
     },
     "execution_count": 39,
     "metadata": {},
     "output_type": "execute_result"
    }
   ],
   "source": [
    "# slice_0121_0127a = Data[(Data['dt'] > '2019-01-20') & (Data['dt'] < '2019-01-28')] # 2019-01-21 to 2019-01-27\n",
    "# slice_0121_0127 = slice_0121_0127a.drop_duplicates(subset = ['member_id'], keep = 'first', inplace = False)\n",
    "# new user in 2019-01-21 to 2019-01-27\n",
    "new_user = slice_0121_0127[-slice_0121_0127['member_id'].isin(slice_0120['member_id'])] # len(new_user)=285682\n",
    "\n",
    "slice_0121_0127_mem_dt_order = slice_0121_0127a.groupby(['member_id','dt'])['member_id'].count() # series\n",
    "slice_0121_0127_mem_dt_order = slice_0121_0127_mem_dt_order.to_frame()\n",
    "slice_0121_0127_mem_dt_order.columns = [['orders']]\n",
    "slice_0121_0127_mem_dt_order.head()"
   ]
  },
  {
   "cell_type": "code",
   "execution_count": 40,
   "metadata": {},
   "outputs": [
    {
     "data": {
      "text/html": [
       "<div>\n",
       "<style scoped>\n",
       "    .dataframe tbody tr th:only-of-type {\n",
       "        vertical-align: middle;\n",
       "    }\n",
       "\n",
       "    .dataframe tbody tr th {\n",
       "        vertical-align: top;\n",
       "    }\n",
       "\n",
       "    .dataframe thead th {\n",
       "        text-align: right;\n",
       "    }\n",
       "</style>\n",
       "<table border=\"1\" class=\"dataframe\">\n",
       "  <thead>\n",
       "    <tr style=\"text-align: right;\">\n",
       "      <th></th>\n",
       "      <th>member_id</th>\n",
       "      <th>dt</th>\n",
       "      <th>orders</th>\n",
       "    </tr>\n",
       "    <tr>\n",
       "      <th>num</th>\n",
       "      <th></th>\n",
       "      <th></th>\n",
       "      <th></th>\n",
       "    </tr>\n",
       "  </thead>\n",
       "  <tbody>\n",
       "    <tr>\n",
       "      <th>0</th>\n",
       "      <td>1520</td>\n",
       "      <td>2019-01-22</td>\n",
       "      <td>2</td>\n",
       "    </tr>\n",
       "    <tr>\n",
       "      <th>1</th>\n",
       "      <td>1520</td>\n",
       "      <td>2019-01-25</td>\n",
       "      <td>2</td>\n",
       "    </tr>\n",
       "    <tr>\n",
       "      <th>2</th>\n",
       "      <td>1525</td>\n",
       "      <td>2019-01-21</td>\n",
       "      <td>2</td>\n",
       "    </tr>\n",
       "    <tr>\n",
       "      <th>3</th>\n",
       "      <td>1525</td>\n",
       "      <td>2019-01-25</td>\n",
       "      <td>1</td>\n",
       "    </tr>\n",
       "    <tr>\n",
       "      <th>4</th>\n",
       "      <td>1533</td>\n",
       "      <td>2019-01-22</td>\n",
       "      <td>3</td>\n",
       "    </tr>\n",
       "  </tbody>\n",
       "</table>\n",
       "</div>"
      ],
      "text/plain": [
       "     member_id          dt  orders\n",
       "num                               \n",
       "0         1520  2019-01-22       2\n",
       "1         1520  2019-01-25       2\n",
       "2         1525  2019-01-21       2\n",
       "3         1525  2019-01-25       1\n",
       "4         1533  2019-01-22       3"
      ]
     },
     "execution_count": 40,
     "metadata": {},
     "output_type": "execute_result"
    }
   ],
   "source": [
    "slice_0121_0127_mem_dt_order = slice_0121_0127_mem_dt_order.reset_index()\n",
    "slice_0121_0127_mem_dt_order.index.names = ['num']\n",
    "slice_0121_0127_mem_dt_order.columns = ['member_id','dt','orders']\n",
    "slice_0121_0127_mem_dt_order.head()"
   ]
  },
  {
   "cell_type": "code",
   "execution_count": 41,
   "metadata": {},
   "outputs": [
    {
     "data": {
      "text/html": [
       "<div>\n",
       "<style scoped>\n",
       "    .dataframe tbody tr th:only-of-type {\n",
       "        vertical-align: middle;\n",
       "    }\n",
       "\n",
       "    .dataframe tbody tr th {\n",
       "        vertical-align: top;\n",
       "    }\n",
       "\n",
       "    .dataframe thead th {\n",
       "        text-align: right;\n",
       "    }\n",
       "</style>\n",
       "<table border=\"1\" class=\"dataframe\">\n",
       "  <thead>\n",
       "    <tr style=\"text-align: right;\">\n",
       "      <th></th>\n",
       "      <th>member_id</th>\n",
       "      <th>dt</th>\n",
       "    </tr>\n",
       "    <tr>\n",
       "      <th>num</th>\n",
       "      <th></th>\n",
       "      <th></th>\n",
       "    </tr>\n",
       "  </thead>\n",
       "  <tbody>\n",
       "    <tr>\n",
       "      <th>0</th>\n",
       "      <td>1520</td>\n",
       "      <td>True</td>\n",
       "    </tr>\n",
       "    <tr>\n",
       "      <th>1</th>\n",
       "      <td>1525</td>\n",
       "      <td>True</td>\n",
       "    </tr>\n",
       "    <tr>\n",
       "      <th>2</th>\n",
       "      <td>1557</td>\n",
       "      <td>True</td>\n",
       "    </tr>\n",
       "    <tr>\n",
       "      <th>3</th>\n",
       "      <td>1575</td>\n",
       "      <td>True</td>\n",
       "    </tr>\n",
       "    <tr>\n",
       "      <th>4</th>\n",
       "      <td>1613</td>\n",
       "      <td>True</td>\n",
       "    </tr>\n",
       "  </tbody>\n",
       "</table>\n",
       "</div>"
      ],
      "text/plain": [
       "     member_id    dt\n",
       "num                 \n",
       "0         1520  True\n",
       "1         1525  True\n",
       "2         1557  True\n",
       "3         1575  True\n",
       "4         1613  True"
      ]
     },
     "execution_count": 41,
     "metadata": {},
     "output_type": "execute_result"
    }
   ],
   "source": [
    "slice_0121_0127_mem_dt = slice_0121_0127_mem_dt_order.groupby('member_id')[['dt']].count()>1\n",
    "slice_0121_0127_mem_dt = slice_0121_0127_mem_dt[slice_0121_0127_mem_dt['dt'] == True]\n",
    "# slice_0121_0127_mem_dt.insert(0, 'member_id', slice_0121_0127_mem_dt.index)\n",
    "slice_0121_0127_mem_dt = slice_0121_0127_mem_dt.reset_index()\n",
    "slice_0121_0127_mem_dt.index.names = ['num'] \n",
    "slice_0121_0127_mem_dt.head()"
   ]
  },
  {
   "cell_type": "code",
   "execution_count": 42,
   "metadata": {},
   "outputs": [
    {
     "name": "stdout",
     "output_type": "stream",
     "text": [
      "The retention rate within 2019-01-21 to 2019-01-27 of new users: 0.3058\n"
     ]
    }
   ],
   "source": [
    "new_user_buy_again = new_user['member_id'].loc[new_user['member_id'].isin(slice_0121_0127_mem_dt['member_id'])] # len(new_user_buy_again)=87355\n",
    "\n",
    "retention_rate_within_one_week = round(len(new_user_buy_again) / len(new_user), 4) # 2019-01-21 to 2019-01-27\n",
    "print('The retention rate within 2019-01-21 to 2019-01-27 of new users:', retention_rate_within_one_week)"
   ]
  },
  {
   "cell_type": "markdown",
   "metadata": {},
   "source": [
    "<font size=4>\n",
    "**<font color='blue'>Method 2: Compute the Retention Rate WITHIN any week of new users by using 'import datetime'</font>**"
   ]
  },
  {
   "cell_type": "code",
   "execution_count": 43,
   "metadata": {},
   "outputs": [],
   "source": [
    "import datetime\n",
    "\n",
    "def retention_rate_within_one_week_of_new_users(dt):\n",
    "    slice_dt_all = []\n",
    "    slice_dt_uni = []\n",
    "    date = datetime.datetime.strptime(dt, '%Y-%m-%d')\n",
    "    # slice of one week\n",
    "    date1 = date - datetime.timedelta(days=1) \n",
    "    date2 = date + datetime.timedelta(days=7) \n",
    "    dt1 =  date1.strftime(\"%Y-%m-%d\")\n",
    "    dt2 =  date2.strftime(\"%Y-%m-%d\")\n",
    "    slice_dt_all.append(Data[(Data['dt'] > dt1) & (Data['dt'] < dt2)])\n",
    "    slice_dt_uni.append(slice_dt_all[0].drop_duplicates(subset = ['member_id'], keep = 'first', inplace = False))\n",
    "        \n",
    "    # slice of old users\n",
    "    date3 = date\n",
    "    dt3 =  date3.strftime(\"%Y-%m-%d\")\n",
    "    slice_dt_all.append(Data[Data['dt'] < dt3])\n",
    "    slice_dt_uni.append(slice_dt_all[1].drop_duplicates(subset = ['member_id'], keep = 'first', inplace = False))\n",
    "    \n",
    "    # new users in this week\n",
    "    new_user = slice_dt_uni[0][-slice_dt_uni[0].member_id.isin(slice_dt_uni[1].member_id)]\n",
    "    \n",
    "    slice_week_mem_dt_order = slice_dt_all[0].groupby(['member_id','dt'])['member_id'].count() # series\n",
    "    slice_week_mem_dt_order = slice_week_mem_dt_order.to_frame()\n",
    "    slice_week_mem_dt_order.columns = [['orders']]\n",
    "\n",
    "    slice_week_mem_dt_order = slice_week_mem_dt_order.reset_index()\n",
    "    slice_week_mem_dt_order.index.names = ['num']\n",
    "    slice_week_mem_dt_order.columns = ['member_id','dt','orders']\n",
    "\n",
    "    slice_week_mem_dt = slice_week_mem_dt_order.groupby('member_id')[['dt']].count()>1\n",
    "    slice_week_mem_dt = slice_week_mem_dt[slice_week_mem_dt['dt'] == True]\n",
    "    slice_week_mem_dt = slice_week_mem_dt.reset_index()\n",
    "    slice_week_mem_dt.index.names = ['num'] \n",
    "\n",
    "    new_user_buy_again = new_user['member_id'].loc[new_user['member_id'].isin(slice_week_mem_dt['member_id'])]\n",
    "    if len(new_user) == 0:\n",
    "        print('There are no new users buying this week!'\n",
    "              ' Thus, the retention rate within this week of new users cannot be computed!')\n",
    "        return\n",
    "    retention_rate_within_one_week = round(len(new_user_buy_again) / len(new_user), 4) \n",
    "    date4 = date + datetime.timedelta(days=6) \n",
    "    dt4 =  date4.strftime(\"%Y-%m-%d\")\n",
    "    print('The retention rate within {} to {} of new users:'.format(dt, dt4), retention_rate_within_one_week)"
   ]
  },
  {
   "cell_type": "code",
   "execution_count": 44,
   "metadata": {},
   "outputs": [
    {
     "data": {
      "text/html": [
       "<div>\n",
       "<style scoped>\n",
       "    .dataframe tbody tr th:only-of-type {\n",
       "        vertical-align: middle;\n",
       "    }\n",
       "\n",
       "    .dataframe tbody tr th {\n",
       "        vertical-align: top;\n",
       "    }\n",
       "\n",
       "    .dataframe thead tr th {\n",
       "        text-align: left;\n",
       "    }\n",
       "\n",
       "    .dataframe thead tr:last-of-type th {\n",
       "        text-align: right;\n",
       "    }\n",
       "</style>\n",
       "<table border=\"1\" class=\"dataframe\">\n",
       "  <thead>\n",
       "    <tr>\n",
       "      <th></th>\n",
       "      <th colspan=\"7\" halign=\"left\">dt</th>\n",
       "    </tr>\n",
       "    <tr>\n",
       "      <th>weekday</th>\n",
       "      <th>1</th>\n",
       "      <th>2</th>\n",
       "      <th>3</th>\n",
       "      <th>4</th>\n",
       "      <th>5</th>\n",
       "      <th>6</th>\n",
       "      <th>7</th>\n",
       "    </tr>\n",
       "    <tr>\n",
       "      <th>week_of_year</th>\n",
       "      <th></th>\n",
       "      <th></th>\n",
       "      <th></th>\n",
       "      <th></th>\n",
       "      <th></th>\n",
       "      <th></th>\n",
       "      <th></th>\n",
       "    </tr>\n",
       "  </thead>\n",
       "  <tbody>\n",
       "    <tr>\n",
       "      <th>3</th>\n",
       "      <td>0</td>\n",
       "      <td>0</td>\n",
       "      <td>0</td>\n",
       "      <td>0</td>\n",
       "      <td>0</td>\n",
       "      <td>0</td>\n",
       "      <td>2019-01-20</td>\n",
       "    </tr>\n",
       "    <tr>\n",
       "      <th>4</th>\n",
       "      <td>2019-01-21</td>\n",
       "      <td>2019-01-22</td>\n",
       "      <td>2019-01-23</td>\n",
       "      <td>2019-01-24</td>\n",
       "      <td>2019-01-25</td>\n",
       "      <td>2019-01-26</td>\n",
       "      <td>2019-01-27</td>\n",
       "    </tr>\n",
       "    <tr>\n",
       "      <th>5</th>\n",
       "      <td>2019-01-28</td>\n",
       "      <td>2019-01-29</td>\n",
       "      <td>2019-01-30</td>\n",
       "      <td>2019-01-31</td>\n",
       "      <td>2019-02-01</td>\n",
       "      <td>2019-02-02</td>\n",
       "      <td>2019-02-03</td>\n",
       "    </tr>\n",
       "    <tr>\n",
       "      <th>6</th>\n",
       "      <td>2019-02-04</td>\n",
       "      <td>2019-02-05</td>\n",
       "      <td>2019-02-06</td>\n",
       "      <td>2019-02-07</td>\n",
       "      <td>2019-02-08</td>\n",
       "      <td>2019-02-09</td>\n",
       "      <td>2019-02-10</td>\n",
       "    </tr>\n",
       "    <tr>\n",
       "      <th>7</th>\n",
       "      <td>2019-02-11</td>\n",
       "      <td>2019-02-12</td>\n",
       "      <td>2019-02-13</td>\n",
       "      <td>2019-02-14</td>\n",
       "      <td>2019-02-15</td>\n",
       "      <td>2019-02-16</td>\n",
       "      <td>2019-02-17</td>\n",
       "    </tr>\n",
       "    <tr>\n",
       "      <th>8</th>\n",
       "      <td>2019-02-18</td>\n",
       "      <td>2019-02-19</td>\n",
       "      <td>2019-02-20</td>\n",
       "      <td>2019-02-21</td>\n",
       "      <td>2019-02-22</td>\n",
       "      <td>2019-02-23</td>\n",
       "      <td>2019-02-24</td>\n",
       "    </tr>\n",
       "    <tr>\n",
       "      <th>9</th>\n",
       "      <td>2019-02-25</td>\n",
       "      <td>2019-02-26</td>\n",
       "      <td>2019-02-27</td>\n",
       "      <td>2019-02-28</td>\n",
       "      <td>2019-03-01</td>\n",
       "      <td>0</td>\n",
       "      <td>0</td>\n",
       "    </tr>\n",
       "  </tbody>\n",
       "</table>\n",
       "</div>"
      ],
      "text/plain": [
       "                      dt                                                  \\\n",
       "weekday                1           2           3           4           5   \n",
       "week_of_year                                                               \n",
       "3                      0           0           0           0           0   \n",
       "4             2019-01-21  2019-01-22  2019-01-23  2019-01-24  2019-01-25   \n",
       "5             2019-01-28  2019-01-29  2019-01-30  2019-01-31  2019-02-01   \n",
       "6             2019-02-04  2019-02-05  2019-02-06  2019-02-07  2019-02-08   \n",
       "7             2019-02-11  2019-02-12  2019-02-13  2019-02-14  2019-02-15   \n",
       "8             2019-02-18  2019-02-19  2019-02-20  2019-02-21  2019-02-22   \n",
       "9             2019-02-25  2019-02-26  2019-02-27  2019-02-28  2019-03-01   \n",
       "\n",
       "                                      \n",
       "weekday                6           7  \n",
       "week_of_year                          \n",
       "3                      0  2019-01-20  \n",
       "4             2019-01-26  2019-01-27  \n",
       "5             2019-02-02  2019-02-03  \n",
       "6             2019-02-09  2019-02-10  \n",
       "7             2019-02-16  2019-02-17  \n",
       "8             2019-02-23  2019-02-24  \n",
       "9                      0           0  "
      ]
     },
     "execution_count": 44,
     "metadata": {},
     "output_type": "execute_result"
    }
   ],
   "source": [
    "slice_Holiday = Holiday[(Holiday['dt'] > '2019-01-19') & (Holiday['dt'] < '2019-03-02')]\n",
    "slice_Holiday = slice_Holiday[['dt','weekday', 'week_of_year']]\n",
    "\n",
    "pd.pivot_table(slice_Holiday, index = 'week_of_year', columns = 'weekday', aggfunc = np.sum, fill_value = 0)"
   ]
  },
  {
   "cell_type": "code",
   "execution_count": 45,
   "metadata": {},
   "outputs": [
    {
     "name": "stdout",
     "output_type": "stream",
     "text": [
      "Please enter the week of year (from 4 to 8): 4\n",
      "The retention rate within 2019-01-21 to 2019-01-27 of new users: 0.3058\n"
     ]
    }
   ],
   "source": [
    "week_num = input('Please enter the week of year (from 4 to 8): ')\n",
    "week_num = eval(week_num)\n",
    "\n",
    "if type(week_num) == int:\n",
    "    if week_num < 4 or week_num > 8:\n",
    "        print('The retention rate within this week of new users cannot be computed! Some dates are not in the time span!')\n",
    "    else:\n",
    "        dt = '2019-01-21'\n",
    "        for j in range(4, 9):\n",
    "            if week_num == j:\n",
    "                retention_rate_within_one_week_of_new_users(dt)\n",
    "                break\n",
    "            else:\n",
    "                date = datetime.datetime.strptime(dt, '%Y-%m-%d')\n",
    "                date = date + datetime.timedelta(days=7)\n",
    "                dt =  date.strftime(\"%Y-%m-%d\")\n",
    "                j += 1\n",
    "else:\n",
    "    print('Please enter the correct digit format!')"
   ]
  },
  {
   "cell_type": "markdown",
   "metadata": {},
   "source": [
    "<font size=4, face=\"Calibri\"> \n",
    "Note: The retention rate within the 7$^{th}$ week (2019-02-11 to 2019-02-17) or 8$^{th}$ week (2019-02-18 to 2019-02-24)  of 2019 of new users cannot be computed since there are no new users that week.\n",
    "</font>"
   ]
  },
  {
   "cell_type": "markdown",
   "metadata": {},
   "source": [
    "## Problem 11&emsp;Find “Active Users” (which means the number of orders of one user is greater equal to 5)."
   ]
  },
  {
   "cell_type": "code",
   "execution_count": 46,
   "metadata": {},
   "outputs": [],
   "source": [
    "all_users_Data = Data.groupby(['member_id'])['commodity_code'].count()\n",
    "active_users_Data = all_users_Data[all_users_Data >= 5]\n",
    "active_users_index = active_users_Data.index\n",
    "active_users = Data.loc[Data['member_id'].isin(active_users_index)] # contain duplicates, len(active_users)=1732628"
   ]
  },
  {
   "cell_type": "markdown",
   "metadata": {},
   "source": [
    "## Problem 12&emsp;Write the table you get in 11 as a csv file with filename *<font>ActiveUser.csv</font>*."
   ]
  },
  {
   "cell_type": "code",
   "execution_count": 47,
   "metadata": {},
   "outputs": [],
   "source": [
    "active_users.to_csv('ActiveUser.csv')"
   ]
  },
  {
   "cell_type": "markdown",
   "metadata": {},
   "source": [
    "## Problem 13&emsp;Provide a description of the number of orders for each active user (# of ActiveUser, mean, range, std, variance, skewness and kurtosis). "
   ]
  },
  {
   "cell_type": "code",
   "execution_count": 48,
   "metadata": {},
   "outputs": [],
   "source": [
    "# # The number of ActiveUser is 166308\n",
    "# len(active_users.drop_duplicates(subset = ['member_id'], keep = 'first', inplace = False))\n",
    "# \n",
    "# from numpy import mean,ptp,var,std\n",
    "# print(mean(active_user_order), ptp(active_user_order), var(active_user_order), std(active_user_order)) # ptp(): range"
   ]
  },
  {
   "cell_type": "code",
   "execution_count": 49,
   "metadata": {},
   "outputs": [
    {
     "data": {
      "text/html": [
       "<div>\n",
       "<style scoped>\n",
       "    .dataframe tbody tr th:only-of-type {\n",
       "        vertical-align: middle;\n",
       "    }\n",
       "\n",
       "    .dataframe tbody tr th {\n",
       "        vertical-align: top;\n",
       "    }\n",
       "\n",
       "    .dataframe thead th {\n",
       "        text-align: right;\n",
       "    }\n",
       "</style>\n",
       "<table border=\"1\" class=\"dataframe\">\n",
       "  <thead>\n",
       "    <tr style=\"text-align: right;\">\n",
       "      <th></th>\n",
       "      <th>orders</th>\n",
       "    </tr>\n",
       "    <tr>\n",
       "      <th>member_id</th>\n",
       "      <th></th>\n",
       "    </tr>\n",
       "  </thead>\n",
       "  <tbody>\n",
       "    <tr>\n",
       "      <th>1525</th>\n",
       "      <td>7</td>\n",
       "    </tr>\n",
       "    <tr>\n",
       "      <th>1533</th>\n",
       "      <td>12</td>\n",
       "    </tr>\n",
       "    <tr>\n",
       "      <th>1557</th>\n",
       "      <td>50</td>\n",
       "    </tr>\n",
       "    <tr>\n",
       "      <th>1574</th>\n",
       "      <td>24</td>\n",
       "    </tr>\n",
       "    <tr>\n",
       "      <th>1575</th>\n",
       "      <td>139</td>\n",
       "    </tr>\n",
       "  </tbody>\n",
       "</table>\n",
       "</div>"
      ],
      "text/plain": [
       "           orders\n",
       "member_id        \n",
       "1525            7\n",
       "1533           12\n",
       "1557           50\n",
       "1574           24\n",
       "1575          139"
      ]
     },
     "execution_count": 49,
     "metadata": {},
     "output_type": "execute_result"
    }
   ],
   "source": [
    "active_user_order = active_users.groupby('member_id')[['commodity_name']].count()\n",
    "active_user_order.columns = ['orders']\n",
    "active_user_order.head()"
   ]
  },
  {
   "cell_type": "code",
   "execution_count": 50,
   "metadata": {},
   "outputs": [
    {
     "data": {
      "text/html": [
       "<div>\n",
       "<style scoped>\n",
       "    .dataframe tbody tr th:only-of-type {\n",
       "        vertical-align: middle;\n",
       "    }\n",
       "\n",
       "    .dataframe tbody tr th {\n",
       "        vertical-align: top;\n",
       "    }\n",
       "\n",
       "    .dataframe thead th {\n",
       "        text-align: right;\n",
       "    }\n",
       "</style>\n",
       "<table border=\"1\" class=\"dataframe\">\n",
       "  <thead>\n",
       "    <tr style=\"text-align: right;\">\n",
       "      <th></th>\n",
       "      <th>orders</th>\n",
       "    </tr>\n",
       "  </thead>\n",
       "  <tbody>\n",
       "    <tr>\n",
       "      <th>count</th>\n",
       "      <td>166308.000000</td>\n",
       "    </tr>\n",
       "    <tr>\n",
       "      <th>mean</th>\n",
       "      <td>10.418188</td>\n",
       "    </tr>\n",
       "    <tr>\n",
       "      <th>std</th>\n",
       "      <td>7.599244</td>\n",
       "    </tr>\n",
       "    <tr>\n",
       "      <th>min</th>\n",
       "      <td>5.000000</td>\n",
       "    </tr>\n",
       "    <tr>\n",
       "      <th>25%</th>\n",
       "      <td>6.000000</td>\n",
       "    </tr>\n",
       "    <tr>\n",
       "      <th>50%</th>\n",
       "      <td>8.000000</td>\n",
       "    </tr>\n",
       "    <tr>\n",
       "      <th>75%</th>\n",
       "      <td>12.000000</td>\n",
       "    </tr>\n",
       "    <tr>\n",
       "      <th>max</th>\n",
       "      <td>585.000000</td>\n",
       "    </tr>\n",
       "  </tbody>\n",
       "</table>\n",
       "</div>"
      ],
      "text/plain": [
       "              orders\n",
       "count  166308.000000\n",
       "mean       10.418188\n",
       "std         7.599244\n",
       "min         5.000000\n",
       "25%         6.000000\n",
       "50%         8.000000\n",
       "75%        12.000000\n",
       "max       585.000000"
      ]
     },
     "execution_count": 50,
     "metadata": {},
     "output_type": "execute_result"
    }
   ],
   "source": [
    "active_user_order.describe()"
   ]
  },
  {
   "cell_type": "code",
   "execution_count": 51,
   "metadata": {},
   "outputs": [
    {
     "name": "stdout",
     "output_type": "stream",
     "text": [
      "# of ActiveUser: 166308\n",
      "mean: 10.418188\n",
      "range: 580\n",
      "std: 7.599244\n",
      "variance: 57.748512\n",
      "skewness: 6.542469\n",
      "kurtosis: 241.357987\n"
     ]
    }
   ],
   "source": [
    "print('# of ActiveUser:',int(active_user_order.count()))\n",
    "print('mean:', round(float(active_user_order.mean()), 6))\n",
    "print('range:', int(active_user_order.max()-active_user_order.min()))\n",
    "print('std:', round(float(active_user_order.std()), 6))\n",
    "print('variance:', round(float(active_user_order.var()), 6))\n",
    "print('skewness:', round(float(active_user_order.skew()), 6))\n",
    "print('kurtosis:', round(float(active_user_order.kurt()), 6))"
   ]
  },
  {
   "cell_type": "markdown",
   "metadata": {},
   "source": [
    "# <font color='#6495ED'>Part 2: Data Preprocessing</font>"
   ]
  },
  {
   "cell_type": "markdown",
   "metadata": {},
   "source": [
    "<font size=4, face=\"Calibri\">\n",
    "    \n",
    "1. Remove the first column of the data in *<font>data.csv</font>* , because it is just a copy of index.<br/>\n",
    "\n",
    "2.\t<font color = blue>Boss: To implement Collaborative Filtering in recommendation systems, we need a user-item table to show the number of orders<br/>&emsp; for each user and each item.</font> <br/>\n",
    "&emsp;Try to construct *<font>user-item</font>* table. An example of user-item pair: (Phone_No, 标准美式)<br/>\n",
    "\n",
    "3.\t<font color = blue>Boss: Life is not like a Markov Chain, which means everyone's past behavior is correlated with his present one.  \n",
    "    &emsp;And that is why we could exploit past purchase behavior to predict their future buying trends.</font>  <br/>\n",
    "&emsp;Try to construct a dataset to show this past purchasing behavior trend. For convenience, several instructions are proposed as follows <br/>\n",
    "&emsp;a.\tTwo days correspond to one dimension. <br/>\n",
    "&emsp;b.\tThe last two days of the time span of the data should be the *<font>future</font>* , which means it corresponds to the *<font>target</font>*  field for the  \n",
    "&emsp;&emsp;following data mining models. <br/>\n",
    "&emsp;c.\tThe length of each user vector must be maximized. <br/>\n",
    "&emsp;d.\tThe dataset should be a <font face=\"Cambria Math\">DataFrame</font> in Pandas, so you could customize the columns as you wish. <br/>\n",
    "&emsp;&emsp;For example, if the time span is from 2019-02-01 to 2019-02-10, then there are 10 days altogether. So each user corresponds to  \n",
    "&emsp;&emsp;a 5-dimensional vector, with $4$ features and $1$ target dimension. The vector <font face=\"Cambria Math\">[4, 0, 0, 0, 1]</font> means this user bought one good  \n",
    "&emsp;&emsp;between 02-09 and 02-10, and four goods between 02-01 and 02-02. Additionally, the length of each user vector MUST BE $5$  \n",
    "&emsp;&emsp;because of the rule c.\n",
    "</font>"
   ]
  },
  {
   "cell_type": "markdown",
   "metadata": {},
   "source": [
    "## Problem 1&emsp;Remove the first column of the data in data.csv, because it is just a copy of index."
   ]
  },
  {
   "cell_type": "code",
   "execution_count": 52,
   "metadata": {},
   "outputs": [
    {
     "data": {
      "text/html": [
       "<div>\n",
       "<style scoped>\n",
       "    .dataframe tbody tr th:only-of-type {\n",
       "        vertical-align: middle;\n",
       "    }\n",
       "\n",
       "    .dataframe tbody tr th {\n",
       "        vertical-align: top;\n",
       "    }\n",
       "\n",
       "    .dataframe thead th {\n",
       "        text-align: right;\n",
       "    }\n",
       "</style>\n",
       "<table border=\"1\" class=\"dataframe\">\n",
       "  <thead>\n",
       "    <tr style=\"text-align: right;\">\n",
       "      <th></th>\n",
       "      <th>Unnamed: 0.1</th>\n",
       "      <th>dt</th>\n",
       "      <th>phone_no</th>\n",
       "      <th>member_id</th>\n",
       "      <th>commodity_code</th>\n",
       "      <th>commodity_name</th>\n",
       "      <th>commodity_origin_money</th>\n",
       "      <th>coupon_id</th>\n",
       "      <th>coupon_money</th>\n",
       "      <th>one_category_name</th>\n",
       "      <th>two_category_name</th>\n",
       "      <th>commodity_income</th>\n",
       "      <th>pay_money</th>\n",
       "      <th>coffeestore_share_money</th>\n",
       "      <th>discount_rate</th>\n",
       "    </tr>\n",
       "  </thead>\n",
       "  <tbody>\n",
       "    <tr>\n",
       "      <th>0</th>\n",
       "      <td>0</td>\n",
       "      <td>2019-01-25</td>\n",
       "      <td>13901387938</td>\n",
       "      <td>14442</td>\n",
       "      <td>SP025</td>\n",
       "      <td>榛果拿铁</td>\n",
       "      <td>27.0</td>\n",
       "      <td>7045.0</td>\n",
       "      <td>19.44</td>\n",
       "      <td>饮品</td>\n",
       "      <td>现磨咖啡</td>\n",
       "      <td>7.56</td>\n",
       "      <td>7.56</td>\n",
       "      <td>0.0</td>\n",
       "      <td>0.28</td>\n",
       "    </tr>\n",
       "    <tr>\n",
       "      <th>1</th>\n",
       "      <td>1</td>\n",
       "      <td>2019-01-27</td>\n",
       "      <td>13901387938</td>\n",
       "      <td>14442</td>\n",
       "      <td>SP209</td>\n",
       "      <td>NFC鲜榨橙汁</td>\n",
       "      <td>24.0</td>\n",
       "      <td>NaN</td>\n",
       "      <td>0.00</td>\n",
       "      <td>饮品</td>\n",
       "      <td>鲜榨果蔬汁</td>\n",
       "      <td>0.00</td>\n",
       "      <td>0.00</td>\n",
       "      <td>0.0</td>\n",
       "      <td>0.00</td>\n",
       "    </tr>\n",
       "    <tr>\n",
       "      <th>2</th>\n",
       "      <td>2</td>\n",
       "      <td>2019-01-23</td>\n",
       "      <td>13901387938</td>\n",
       "      <td>14442</td>\n",
       "      <td>SP025</td>\n",
       "      <td>榛果拿铁</td>\n",
       "      <td>27.0</td>\n",
       "      <td>5589.0</td>\n",
       "      <td>22.14</td>\n",
       "      <td>饮品</td>\n",
       "      <td>现磨咖啡</td>\n",
       "      <td>4.86</td>\n",
       "      <td>4.86</td>\n",
       "      <td>0.0</td>\n",
       "      <td>0.18</td>\n",
       "    </tr>\n",
       "    <tr>\n",
       "      <th>3</th>\n",
       "      <td>3</td>\n",
       "      <td>2019-02-01</td>\n",
       "      <td>13901387938</td>\n",
       "      <td>14442</td>\n",
       "      <td>SP025</td>\n",
       "      <td>榛果拿铁</td>\n",
       "      <td>27.0</td>\n",
       "      <td>6604.0</td>\n",
       "      <td>19.44</td>\n",
       "      <td>饮品</td>\n",
       "      <td>现磨咖啡</td>\n",
       "      <td>7.56</td>\n",
       "      <td>7.56</td>\n",
       "      <td>0.0</td>\n",
       "      <td>0.28</td>\n",
       "    </tr>\n",
       "    <tr>\n",
       "      <th>4</th>\n",
       "      <td>4</td>\n",
       "      <td>2019-01-27</td>\n",
       "      <td>13901387938</td>\n",
       "      <td>14442</td>\n",
       "      <td>SP010</td>\n",
       "      <td>巧克力瑞纳冰</td>\n",
       "      <td>27.0</td>\n",
       "      <td>6947.0</td>\n",
       "      <td>14.04</td>\n",
       "      <td>饮品</td>\n",
       "      <td>瑞纳冰</td>\n",
       "      <td>12.96</td>\n",
       "      <td>12.96</td>\n",
       "      <td>0.0</td>\n",
       "      <td>0.48</td>\n",
       "    </tr>\n",
       "  </tbody>\n",
       "</table>\n",
       "</div>"
      ],
      "text/plain": [
       "   Unnamed: 0.1          dt     phone_no  member_id commodity_code  \\\n",
       "0             0  2019-01-25  13901387938      14442          SP025   \n",
       "1             1  2019-01-27  13901387938      14442          SP209   \n",
       "2             2  2019-01-23  13901387938      14442          SP025   \n",
       "3             3  2019-02-01  13901387938      14442          SP025   \n",
       "4             4  2019-01-27  13901387938      14442          SP010   \n",
       "\n",
       "  commodity_name  commodity_origin_money  coupon_id  coupon_money  \\\n",
       "0           榛果拿铁                    27.0     7045.0         19.44   \n",
       "1        NFC鲜榨橙汁                    24.0        NaN          0.00   \n",
       "2           榛果拿铁                    27.0     5589.0         22.14   \n",
       "3           榛果拿铁                    27.0     6604.0         19.44   \n",
       "4         巧克力瑞纳冰                    27.0     6947.0         14.04   \n",
       "\n",
       "  one_category_name two_category_name  commodity_income  pay_money  \\\n",
       "0                饮品              现磨咖啡              7.56       7.56   \n",
       "1                饮品             鲜榨果蔬汁              0.00       0.00   \n",
       "2                饮品              现磨咖啡              4.86       4.86   \n",
       "3                饮品              现磨咖啡              7.56       7.56   \n",
       "4                饮品               瑞纳冰             12.96      12.96   \n",
       "\n",
       "   coffeestore_share_money  discount_rate  \n",
       "0                      0.0           0.28  \n",
       "1                      0.0           0.00  \n",
       "2                      0.0           0.18  \n",
       "3                      0.0           0.28  \n",
       "4                      0.0           0.48  "
      ]
     },
     "execution_count": 52,
     "metadata": {},
     "output_type": "execute_result"
    }
   ],
   "source": [
    "# Data.columns\n",
    "Data.drop(['Unnamed: 0'], axis = 1, inplace = True)\n",
    "Data.head()"
   ]
  },
  {
   "cell_type": "markdown",
   "metadata": {},
   "source": [
    "## Problem 2"
   ]
  },
  {
   "cell_type": "markdown",
   "metadata": {},
   "source": [
    "<font size=4, face=\"Calibri\"><font color = blue>Boss: To implement Collaborative Filtering in recommendation systems, we need a user-item table to show the number of orders for each user and each item.</font><br/>\n",
    "<font size=4, face=\"Calibri\">Try to construct *<font>user-item</font>* table. An example of user-item pair: (Phone_No, 标准美式)\n",
    "</font>"
   ]
  },
  {
   "cell_type": "code",
   "execution_count": 53,
   "metadata": {},
   "outputs": [],
   "source": [
    "slice_user_item = Data[['Unnamed: 0.1', 'phone_no', 'commodity_name']]\n",
    "# slice_user_item.rename(columns={'Unnamed: 0.1': 'orders'}, inplace = True)\n",
    "slice_user_item.columns = ['orders', 'phone_no', 'commodity_name'] \n",
    "\n",
    "user_item_table = pd.pivot_table(slice_user_item, index = 'phone_no', columns = 'commodity_name',\n",
    "                                 aggfunc = len, fill_value = 0)"
   ]
  },
  {
   "cell_type": "code",
   "execution_count": 54,
   "metadata": {},
   "outputs": [
    {
     "data": {
      "text/html": [
       "<div>\n",
       "<style scoped>\n",
       "    .dataframe tbody tr th:only-of-type {\n",
       "        vertical-align: middle;\n",
       "    }\n",
       "\n",
       "    .dataframe tbody tr th {\n",
       "        vertical-align: top;\n",
       "    }\n",
       "\n",
       "    .dataframe thead tr th {\n",
       "        text-align: left;\n",
       "    }\n",
       "\n",
       "    .dataframe thead tr:last-of-type th {\n",
       "        text-align: right;\n",
       "    }\n",
       "</style>\n",
       "<table border=\"1\" class=\"dataframe\">\n",
       "  <thead>\n",
       "    <tr>\n",
       "      <th></th>\n",
       "      <th colspan=\"21\" halign=\"left\">orders</th>\n",
       "    </tr>\n",
       "    <tr>\n",
       "      <th>commodity_name</th>\n",
       "      <th>NFC鲜榨橙汁</th>\n",
       "      <th>NFC鲜榨芒果汁</th>\n",
       "      <th>NFC鲜榨芒果混合果汁</th>\n",
       "      <th>NFC鲜榨荔枝汁</th>\n",
       "      <th>NFC鲜榨蓝莓草莓混合果汁</th>\n",
       "      <th>依云矿泉水330ml</th>\n",
       "      <th>加浓美式</th>\n",
       "      <th>卡布奇诺</th>\n",
       "      <th>卡布奇诺瑞纳冰</th>\n",
       "      <th>土豆烧牛方饭</th>\n",
       "      <th>...</th>\n",
       "      <th>蜜汁叉烧包</th>\n",
       "      <th>金枪鱼谷物沙拉</th>\n",
       "      <th>陈皮普洱</th>\n",
       "      <th>香椰提子麦芬</th>\n",
       "      <th>香草拿铁</th>\n",
       "      <th>香蕉核桃麦芬</th>\n",
       "      <th>鱼香茄子饭</th>\n",
       "      <th>鸡蛋马铃薯双拼三明治</th>\n",
       "      <th>黑森林蛋糕</th>\n",
       "      <th>黑金气泡美式</th>\n",
       "    </tr>\n",
       "    <tr>\n",
       "      <th>phone_no</th>\n",
       "      <th></th>\n",
       "      <th></th>\n",
       "      <th></th>\n",
       "      <th></th>\n",
       "      <th></th>\n",
       "      <th></th>\n",
       "      <th></th>\n",
       "      <th></th>\n",
       "      <th></th>\n",
       "      <th></th>\n",
       "      <th></th>\n",
       "      <th></th>\n",
       "      <th></th>\n",
       "      <th></th>\n",
       "      <th></th>\n",
       "      <th></th>\n",
       "      <th></th>\n",
       "      <th></th>\n",
       "      <th></th>\n",
       "      <th></th>\n",
       "      <th></th>\n",
       "    </tr>\n",
       "  </thead>\n",
       "  <tbody>\n",
       "    <tr>\n",
       "      <th>51379898</th>\n",
       "      <td>0</td>\n",
       "      <td>0</td>\n",
       "      <td>0</td>\n",
       "      <td>0</td>\n",
       "      <td>0</td>\n",
       "      <td>0</td>\n",
       "      <td>0</td>\n",
       "      <td>0</td>\n",
       "      <td>0</td>\n",
       "      <td>0</td>\n",
       "      <td>...</td>\n",
       "      <td>0</td>\n",
       "      <td>0</td>\n",
       "      <td>0</td>\n",
       "      <td>0</td>\n",
       "      <td>0</td>\n",
       "      <td>0</td>\n",
       "      <td>0</td>\n",
       "      <td>0</td>\n",
       "      <td>0</td>\n",
       "      <td>0</td>\n",
       "    </tr>\n",
       "    <tr>\n",
       "      <th>57047978</th>\n",
       "      <td>0</td>\n",
       "      <td>0</td>\n",
       "      <td>0</td>\n",
       "      <td>0</td>\n",
       "      <td>0</td>\n",
       "      <td>0</td>\n",
       "      <td>0</td>\n",
       "      <td>0</td>\n",
       "      <td>0</td>\n",
       "      <td>0</td>\n",
       "      <td>...</td>\n",
       "      <td>0</td>\n",
       "      <td>0</td>\n",
       "      <td>0</td>\n",
       "      <td>0</td>\n",
       "      <td>0</td>\n",
       "      <td>0</td>\n",
       "      <td>0</td>\n",
       "      <td>0</td>\n",
       "      <td>0</td>\n",
       "      <td>0</td>\n",
       "    </tr>\n",
       "    <tr>\n",
       "      <th>61120518</th>\n",
       "      <td>0</td>\n",
       "      <td>0</td>\n",
       "      <td>0</td>\n",
       "      <td>0</td>\n",
       "      <td>0</td>\n",
       "      <td>0</td>\n",
       "      <td>0</td>\n",
       "      <td>0</td>\n",
       "      <td>0</td>\n",
       "      <td>0</td>\n",
       "      <td>...</td>\n",
       "      <td>0</td>\n",
       "      <td>0</td>\n",
       "      <td>0</td>\n",
       "      <td>0</td>\n",
       "      <td>0</td>\n",
       "      <td>0</td>\n",
       "      <td>0</td>\n",
       "      <td>0</td>\n",
       "      <td>0</td>\n",
       "      <td>0</td>\n",
       "    </tr>\n",
       "    <tr>\n",
       "      <th>62288158</th>\n",
       "      <td>0</td>\n",
       "      <td>0</td>\n",
       "      <td>0</td>\n",
       "      <td>0</td>\n",
       "      <td>1</td>\n",
       "      <td>0</td>\n",
       "      <td>0</td>\n",
       "      <td>0</td>\n",
       "      <td>0</td>\n",
       "      <td>0</td>\n",
       "      <td>...</td>\n",
       "      <td>0</td>\n",
       "      <td>0</td>\n",
       "      <td>0</td>\n",
       "      <td>0</td>\n",
       "      <td>0</td>\n",
       "      <td>0</td>\n",
       "      <td>0</td>\n",
       "      <td>0</td>\n",
       "      <td>0</td>\n",
       "      <td>0</td>\n",
       "    </tr>\n",
       "    <tr>\n",
       "      <th>64618166</th>\n",
       "      <td>0</td>\n",
       "      <td>0</td>\n",
       "      <td>0</td>\n",
       "      <td>0</td>\n",
       "      <td>0</td>\n",
       "      <td>0</td>\n",
       "      <td>0</td>\n",
       "      <td>0</td>\n",
       "      <td>0</td>\n",
       "      <td>0</td>\n",
       "      <td>...</td>\n",
       "      <td>0</td>\n",
       "      <td>0</td>\n",
       "      <td>0</td>\n",
       "      <td>0</td>\n",
       "      <td>0</td>\n",
       "      <td>0</td>\n",
       "      <td>0</td>\n",
       "      <td>0</td>\n",
       "      <td>0</td>\n",
       "      <td>0</td>\n",
       "    </tr>\n",
       "  </tbody>\n",
       "</table>\n",
       "<p>5 rows × 73 columns</p>\n",
       "</div>"
      ],
      "text/plain": [
       "                orders                                                         \\\n",
       "commodity_name NFC鲜榨橙汁 NFC鲜榨芒果汁 NFC鲜榨芒果混合果汁 NFC鲜榨荔枝汁 NFC鲜榨蓝莓草莓混合果汁 依云矿泉水330ml   \n",
       "phone_no                                                                        \n",
       "51379898             0        0           0        0             0          0   \n",
       "57047978             0        0           0        0             0          0   \n",
       "61120518             0        0           0        0             0          0   \n",
       "62288158             0        0           0        0             1          0   \n",
       "64618166             0        0           0        0             0          0   \n",
       "\n",
       "                                         ...                                   \\\n",
       "commodity_name 加浓美式 卡布奇诺 卡布奇诺瑞纳冰 土豆烧牛方饭  ...   蜜汁叉烧包 金枪鱼谷物沙拉 陈皮普洱 香椰提子麦芬 香草拿铁   \n",
       "phone_no                                 ...                                    \n",
       "51379898          0    0       0      0  ...       0       0    0      0    0   \n",
       "57047978          0    0       0      0  ...       0       0    0      0    0   \n",
       "61120518          0    0       0      0  ...       0       0    0      0    0   \n",
       "62288158          0    0       0      0  ...       0       0    0      0    0   \n",
       "64618166          0    0       0      0  ...       0       0    0      0    0   \n",
       "\n",
       "                                                     \n",
       "commodity_name 香蕉核桃麦芬 鱼香茄子饭 鸡蛋马铃薯双拼三明治 黑森林蛋糕 黑金气泡美式  \n",
       "phone_no                                             \n",
       "51379898            0     0          0     0      0  \n",
       "57047978            0     0          0     0      0  \n",
       "61120518            0     0          0     0      0  \n",
       "62288158            0     0          0     0      0  \n",
       "64618166            0     0          0     0      0  \n",
       "\n",
       "[5 rows x 73 columns]"
      ]
     },
     "execution_count": 54,
     "metadata": {},
     "output_type": "execute_result"
    }
   ],
   "source": [
    "user_item_table.head() # len(user_item_table)=466886"
   ]
  },
  {
   "cell_type": "markdown",
   "metadata": {},
   "source": [
    "## Problem 3"
   ]
  },
  {
   "cell_type": "markdown",
   "metadata": {},
   "source": [
    "<font size=4, face=\"Calibri\">\n",
    "<font color = blue>Boss: Life is not like a Markov Chain, which means everyone's past behavior is correlated with his present one.<br/>\n",
    "    And that is why we could exploit past purchase behavior to predict their future buying trends.</font>  <br/>\n",
    "Try to construct a dataset to show this past purchasing behavior trend."
   ]
  },
  {
   "cell_type": "code",
   "execution_count": 55,
   "metadata": {},
   "outputs": [
    {
     "name": "stdout",
     "output_type": "stream",
     "text": [
      "The length of each user vector: 20\n"
     ]
    }
   ],
   "source": [
    "import math\n",
    "print('The length of each user vector:', math.floor(len(orders)/2)) # len(order) = 41"
   ]
  },
  {
   "cell_type": "code",
   "execution_count": 56,
   "metadata": {},
   "outputs": [
    {
     "data": {
      "text/html": [
       "<div>\n",
       "<style scoped>\n",
       "    .dataframe tbody tr th:only-of-type {\n",
       "        vertical-align: middle;\n",
       "    }\n",
       "\n",
       "    .dataframe tbody tr th {\n",
       "        vertical-align: top;\n",
       "    }\n",
       "\n",
       "    .dataframe thead th {\n",
       "        text-align: right;\n",
       "    }\n",
       "</style>\n",
       "<table border=\"1\" class=\"dataframe\">\n",
       "  <thead>\n",
       "    <tr style=\"text-align: right;\">\n",
       "      <th></th>\n",
       "      <th>orders</th>\n",
       "      <th>phone_no</th>\n",
       "      <th>dt</th>\n",
       "    </tr>\n",
       "  </thead>\n",
       "  <tbody>\n",
       "    <tr>\n",
       "      <th>0</th>\n",
       "      <td>0</td>\n",
       "      <td>13901387938</td>\n",
       "      <td>2019-01-25</td>\n",
       "    </tr>\n",
       "    <tr>\n",
       "      <th>1</th>\n",
       "      <td>1</td>\n",
       "      <td>13901387938</td>\n",
       "      <td>2019-01-27</td>\n",
       "    </tr>\n",
       "    <tr>\n",
       "      <th>2</th>\n",
       "      <td>2</td>\n",
       "      <td>13901387938</td>\n",
       "      <td>2019-01-23</td>\n",
       "    </tr>\n",
       "    <tr>\n",
       "      <th>3</th>\n",
       "      <td>3</td>\n",
       "      <td>13901387938</td>\n",
       "      <td>2019-02-01</td>\n",
       "    </tr>\n",
       "    <tr>\n",
       "      <th>4</th>\n",
       "      <td>4</td>\n",
       "      <td>13901387938</td>\n",
       "      <td>2019-01-27</td>\n",
       "    </tr>\n",
       "  </tbody>\n",
       "</table>\n",
       "</div>"
      ],
      "text/plain": [
       "   orders     phone_no          dt\n",
       "0       0  13901387938  2019-01-25\n",
       "1       1  13901387938  2019-01-27\n",
       "2       2  13901387938  2019-01-23\n",
       "3       3  13901387938  2019-02-01\n",
       "4       4  13901387938  2019-01-27"
      ]
     },
     "execution_count": 56,
     "metadata": {},
     "output_type": "execute_result"
    }
   ],
   "source": [
    "slice_0121_0301 = Data[Data['dt'] > '2019-01-20']\n",
    "slice_user_date = slice_0121_0301[['Unnamed: 0.1', 'phone_no', 'dt']]\n",
    "# slice_user_date.rename(columns={'Unnamed: 0.1': 'orders'}, inplace = True)\n",
    "slice_user_date.columns = ['orders', 'phone_no', 'dt']\n",
    "slice_user_date.head()"
   ]
  },
  {
   "cell_type": "markdown",
   "metadata": {},
   "source": [
    "<font size=4, face=\"Calibri\">\n",
    "<font color = red>The following function is used to make two days correspond to one dimension.</font>"
   ]
  },
  {
   "cell_type": "code",
   "execution_count": 57,
   "metadata": {},
   "outputs": [],
   "source": [
    "import datetime\n",
    "\n",
    "def determine_period(dt):\n",
    "    dt = datetime.datetime.strptime(dt, '%Y-%m-%d')\n",
    "    j = 1\n",
    "    period = -1\n",
    "    first_day = datetime.datetime(2019, 1, 20, 0, 0)\n",
    "    last_day = datetime.datetime(2019, 3, 1, 0, 0)\n",
    "    if dt <= first_day or dt > last_day:\n",
    "        return period\n",
    "    while (first_day + datetime.timedelta(days=(2*j-1))) < last_day: \n",
    "        period_day_1 = first_day + datetime.timedelta(days=(2*j-1))\n",
    "        period_day_2 = first_day + datetime.timedelta(days=(2*j))\n",
    "        if (dt == period_day_1) or (dt == period_day_2):\n",
    "            period = j\n",
    "            break\n",
    "        else:\n",
    "            j += 1\n",
    "        \n",
    "    return period  "
   ]
  },
  {
   "cell_type": "code",
   "execution_count": 58,
   "metadata": {},
   "outputs": [
    {
     "data": {
      "text/html": [
       "<div>\n",
       "<style scoped>\n",
       "    .dataframe tbody tr th:only-of-type {\n",
       "        vertical-align: middle;\n",
       "    }\n",
       "\n",
       "    .dataframe tbody tr th {\n",
       "        vertical-align: top;\n",
       "    }\n",
       "\n",
       "    .dataframe thead th {\n",
       "        text-align: right;\n",
       "    }\n",
       "</style>\n",
       "<table border=\"1\" class=\"dataframe\">\n",
       "  <thead>\n",
       "    <tr style=\"text-align: right;\">\n",
       "      <th></th>\n",
       "      <th>orders</th>\n",
       "      <th>phone_no</th>\n",
       "      <th>period</th>\n",
       "    </tr>\n",
       "  </thead>\n",
       "  <tbody>\n",
       "    <tr>\n",
       "      <th>0</th>\n",
       "      <td>0</td>\n",
       "      <td>13901387938</td>\n",
       "      <td>3</td>\n",
       "    </tr>\n",
       "    <tr>\n",
       "      <th>1</th>\n",
       "      <td>1</td>\n",
       "      <td>13901387938</td>\n",
       "      <td>4</td>\n",
       "    </tr>\n",
       "    <tr>\n",
       "      <th>2</th>\n",
       "      <td>2</td>\n",
       "      <td>13901387938</td>\n",
       "      <td>2</td>\n",
       "    </tr>\n",
       "    <tr>\n",
       "      <th>3</th>\n",
       "      <td>3</td>\n",
       "      <td>13901387938</td>\n",
       "      <td>6</td>\n",
       "    </tr>\n",
       "    <tr>\n",
       "      <th>4</th>\n",
       "      <td>4</td>\n",
       "      <td>13901387938</td>\n",
       "      <td>4</td>\n",
       "    </tr>\n",
       "  </tbody>\n",
       "</table>\n",
       "</div>"
      ],
      "text/plain": [
       "   orders     phone_no  period\n",
       "0       0  13901387938       3\n",
       "1       1  13901387938       4\n",
       "2       2  13901387938       2\n",
       "3       3  13901387938       6\n",
       "4       4  13901387938       4"
      ]
     },
     "execution_count": 58,
     "metadata": {},
     "output_type": "execute_result"
    }
   ],
   "source": [
    "dim = slice_user_date.dt.apply(lambda x: determine_period(x))\n",
    "dim = dim.to_frame()\n",
    "dim.columns=['period'] \n",
    "slice_user_date = pd.concat([slice_user_date, dim], axis = 1)\n",
    "slice_user_date.drop(['dt'], axis = 1, inplace = True)\n",
    "slice_user_date.head()"
   ]
  },
  {
   "cell_type": "code",
   "execution_count": 59,
   "metadata": {},
   "outputs": [
    {
     "data": {
      "text/html": [
       "<div>\n",
       "<style scoped>\n",
       "    .dataframe tbody tr th:only-of-type {\n",
       "        vertical-align: middle;\n",
       "    }\n",
       "\n",
       "    .dataframe tbody tr th {\n",
       "        vertical-align: top;\n",
       "    }\n",
       "\n",
       "    .dataframe thead tr th {\n",
       "        text-align: left;\n",
       "    }\n",
       "\n",
       "    .dataframe thead tr:last-of-type th {\n",
       "        text-align: right;\n",
       "    }\n",
       "</style>\n",
       "<table border=\"1\" class=\"dataframe\">\n",
       "  <thead>\n",
       "    <tr>\n",
       "      <th></th>\n",
       "      <th colspan=\"20\" halign=\"left\">orders</th>\n",
       "    </tr>\n",
       "    <tr>\n",
       "      <th>period</th>\n",
       "      <th>1</th>\n",
       "      <th>2</th>\n",
       "      <th>3</th>\n",
       "      <th>4</th>\n",
       "      <th>5</th>\n",
       "      <th>6</th>\n",
       "      <th>7</th>\n",
       "      <th>8</th>\n",
       "      <th>9</th>\n",
       "      <th>10</th>\n",
       "      <th>11</th>\n",
       "      <th>12</th>\n",
       "      <th>13</th>\n",
       "      <th>14</th>\n",
       "      <th>15</th>\n",
       "      <th>16</th>\n",
       "      <th>17</th>\n",
       "      <th>18</th>\n",
       "      <th>19</th>\n",
       "      <th>20</th>\n",
       "    </tr>\n",
       "    <tr>\n",
       "      <th>phone_no</th>\n",
       "      <th></th>\n",
       "      <th></th>\n",
       "      <th></th>\n",
       "      <th></th>\n",
       "      <th></th>\n",
       "      <th></th>\n",
       "      <th></th>\n",
       "      <th></th>\n",
       "      <th></th>\n",
       "      <th></th>\n",
       "      <th></th>\n",
       "      <th></th>\n",
       "      <th></th>\n",
       "      <th></th>\n",
       "      <th></th>\n",
       "      <th></th>\n",
       "      <th></th>\n",
       "      <th></th>\n",
       "      <th></th>\n",
       "      <th></th>\n",
       "    </tr>\n",
       "  </thead>\n",
       "  <tbody>\n",
       "    <tr>\n",
       "      <th>51379898</th>\n",
       "      <td>0</td>\n",
       "      <td>0</td>\n",
       "      <td>0</td>\n",
       "      <td>1</td>\n",
       "      <td>0</td>\n",
       "      <td>0</td>\n",
       "      <td>0</td>\n",
       "      <td>0</td>\n",
       "      <td>0</td>\n",
       "      <td>0</td>\n",
       "      <td>0</td>\n",
       "      <td>0</td>\n",
       "      <td>0</td>\n",
       "      <td>0</td>\n",
       "      <td>0</td>\n",
       "      <td>0</td>\n",
       "      <td>0</td>\n",
       "      <td>0</td>\n",
       "      <td>0</td>\n",
       "      <td>0</td>\n",
       "    </tr>\n",
       "    <tr>\n",
       "      <th>62288158</th>\n",
       "      <td>0</td>\n",
       "      <td>0</td>\n",
       "      <td>0</td>\n",
       "      <td>0</td>\n",
       "      <td>1</td>\n",
       "      <td>0</td>\n",
       "      <td>0</td>\n",
       "      <td>0</td>\n",
       "      <td>0</td>\n",
       "      <td>0</td>\n",
       "      <td>1</td>\n",
       "      <td>0</td>\n",
       "      <td>1</td>\n",
       "      <td>0</td>\n",
       "      <td>0</td>\n",
       "      <td>1</td>\n",
       "      <td>1</td>\n",
       "      <td>0</td>\n",
       "      <td>0</td>\n",
       "      <td>1</td>\n",
       "    </tr>\n",
       "    <tr>\n",
       "      <th>65310185</th>\n",
       "      <td>1</td>\n",
       "      <td>0</td>\n",
       "      <td>0</td>\n",
       "      <td>0</td>\n",
       "      <td>0</td>\n",
       "      <td>0</td>\n",
       "      <td>0</td>\n",
       "      <td>0</td>\n",
       "      <td>0</td>\n",
       "      <td>0</td>\n",
       "      <td>0</td>\n",
       "      <td>0</td>\n",
       "      <td>0</td>\n",
       "      <td>0</td>\n",
       "      <td>1</td>\n",
       "      <td>0</td>\n",
       "      <td>0</td>\n",
       "      <td>0</td>\n",
       "      <td>0</td>\n",
       "      <td>0</td>\n",
       "    </tr>\n",
       "    <tr>\n",
       "      <th>67443044</th>\n",
       "      <td>0</td>\n",
       "      <td>0</td>\n",
       "      <td>1</td>\n",
       "      <td>0</td>\n",
       "      <td>0</td>\n",
       "      <td>0</td>\n",
       "      <td>0</td>\n",
       "      <td>0</td>\n",
       "      <td>0</td>\n",
       "      <td>0</td>\n",
       "      <td>0</td>\n",
       "      <td>0</td>\n",
       "      <td>0</td>\n",
       "      <td>0</td>\n",
       "      <td>0</td>\n",
       "      <td>0</td>\n",
       "      <td>0</td>\n",
       "      <td>0</td>\n",
       "      <td>0</td>\n",
       "      <td>0</td>\n",
       "    </tr>\n",
       "    <tr>\n",
       "      <th>67469370</th>\n",
       "      <td>1</td>\n",
       "      <td>0</td>\n",
       "      <td>0</td>\n",
       "      <td>0</td>\n",
       "      <td>0</td>\n",
       "      <td>0</td>\n",
       "      <td>0</td>\n",
       "      <td>0</td>\n",
       "      <td>0</td>\n",
       "      <td>0</td>\n",
       "      <td>0</td>\n",
       "      <td>0</td>\n",
       "      <td>0</td>\n",
       "      <td>0</td>\n",
       "      <td>0</td>\n",
       "      <td>0</td>\n",
       "      <td>0</td>\n",
       "      <td>0</td>\n",
       "      <td>0</td>\n",
       "      <td>0</td>\n",
       "    </tr>\n",
       "  </tbody>\n",
       "</table>\n",
       "</div>"
      ],
      "text/plain": [
       "         orders                                                         \n",
       "period       1  2  3  4  5  6  7  8  9  10 11 12 13 14 15 16 17 18 19 20\n",
       "phone_no                                                                \n",
       "51379898      0  0  0  1  0  0  0  0  0  0  0  0  0  0  0  0  0  0  0  0\n",
       "62288158      0  0  0  0  1  0  0  0  0  0  1  0  1  0  0  1  1  0  0  1\n",
       "65310185      1  0  0  0  0  0  0  0  0  0  0  0  0  0  1  0  0  0  0  0\n",
       "67443044      0  0  1  0  0  0  0  0  0  0  0  0  0  0  0  0  0  0  0  0\n",
       "67469370      1  0  0  0  0  0  0  0  0  0  0  0  0  0  0  0  0  0  0  0"
      ]
     },
     "execution_count": 59,
     "metadata": {},
     "output_type": "execute_result"
    }
   ],
   "source": [
    "user_date_table = pd.pivot_table(slice_user_date, index = 'phone_no', columns = 'period', aggfunc = len, fill_value = 0)\n",
    "user_date_table.head()"
   ]
  },
  {
   "cell_type": "markdown",
   "metadata": {},
   "source": [
    "# <font color='#6495ED'>Part 3: Model Training and Prediction</font>"
   ]
  },
  {
   "cell_type": "markdown",
   "metadata": {},
   "source": [
    "<font face=\"Calibri\"> \n",
    "<font size=4, color = blue>Boss: For the target field, 1 means he purchased in the future and 0 means he did not. Then you could use traditional classification algorithms to predict the future behaviors of all users.</font>"
   ]
  },
  {
   "cell_type": "markdown",
   "metadata": {},
   "source": [
    "<font size=4, face=\"Calibri\">\n",
    "    \n",
    "1.\tTransform the data you got from the last section into an <font face=\"Cambria Math\">array</font> in Numpy.<br/>\n",
    "\n",
    "2.\tSplit the data into features <font face=\"Cambria Math\">X</font> and targets <font face=\"Cambria Math\">Y</font>.<br/>\n",
    "3.\tUse *<font>Adaboost</font>*, *<font>Random Forest</font>* in Sklearn to construct the model for prediction with 3-fold cross validation  \n",
    "    &emsp;a.\t(Optional) Use *<font>Xgboost</font>*.  <br/>\n",
    "    &emsp;b.\t<font size=4, color = blue>Boss: Please do not use *<font>Naive-Bayes</font>* or *<font>Support Vector Machine</font>* in this project.</font>  <br/>\n",
    "    &emsp;&emsp;True or False? Explain.<br/>\n",
    "4.\tTune your model and report the best metrics you could get for your model and the corresponding confusion matrix and model name. <br/>\n",
    "&emsp;At least Adaboost and Random Forest should be used for tuning. Here are some suggestions.   \n",
    "    &emsp;a.\tTry to do oversampling or undersampling. This is an imbalanced classification problem. <br/>\n",
    "    &emsp;b.\tChange the parameters of each model (e.g. *<font>scale_pos_weight</font>* in *<font>Xgboost</font>* and probability threshold), more information could  \n",
    "    &emsp;&emsp;be found in the Official Documentations.   <br/>\n",
    "    &emsp;c.\tAccuracy is not suitable to be an evaluation metric in this case. Use F1-measure.   <br/>\n",
    "    &emsp;d.\tTry to not record the # of orders for each user. Record whether he bought the goods instead, 1 if he bought and 0 otherwise.   <br/>\n",
    "    &emsp;e.\tTry to record the active-user feature. Many users did not only buy one cup of drink during two days, so whether one user is  \n",
    "    &emsp;&emsp;active should be taken into consideration. <br/>\n",
    "    &emsp;f.  Try to split the data with respect to Workdays and Weekends and train two different models. If that is the best choice, then  \n",
    "   &emsp;&ensp;&nbsp;you should report two metrics, one for Workdays Model and the other one for Weekends Model. <br/>\n",
    "5.\tAfter tuning, try to explain why your model works better.\n",
    "</font>"
   ]
  },
  {
   "cell_type": "markdown",
   "metadata": {},
   "source": [
    "## Problem 1&emsp;Transform the data you got from the last section into an array in Numpy."
   ]
  },
  {
   "cell_type": "code",
   "execution_count": 60,
   "metadata": {},
   "outputs": [],
   "source": [
    "dataset = np.array(user_date_table) # user_date_table.values"
   ]
  },
  {
   "cell_type": "markdown",
   "metadata": {},
   "source": [
    "## Problem 2&emsp;Split the data into features X and targets Y."
   ]
  },
  {
   "cell_type": "code",
   "execution_count": 61,
   "metadata": {},
   "outputs": [],
   "source": [
    "X, Y = dataset[:,0:19], dataset[:,19] "
   ]
  },
  {
   "cell_type": "code",
   "execution_count": 62,
   "metadata": {},
   "outputs": [
    {
     "data": {
      "text/plain": [
       "array([[0, 0, 0, ..., 0, 0, 0],\n",
       "       [0, 0, 0, ..., 1, 0, 0],\n",
       "       [1, 0, 0, ..., 0, 0, 0],\n",
       "       ...,\n",
       "       [0, 5, 0, ..., 0, 0, 0],\n",
       "       [0, 0, 1, ..., 0, 0, 0],\n",
       "       [0, 0, 1, ..., 0, 0, 0]], dtype=int64)"
      ]
     },
     "execution_count": 62,
     "metadata": {},
     "output_type": "execute_result"
    }
   ],
   "source": [
    "X"
   ]
  },
  {
   "cell_type": "code",
   "execution_count": 63,
   "metadata": {},
   "outputs": [
    {
     "data": {
      "text/plain": [
       "array([0, 1, 0, ..., 3, 0, 0], dtype=int64)"
      ]
     },
     "execution_count": 63,
     "metadata": {},
     "output_type": "execute_result"
    }
   ],
   "source": [
    "Y"
   ]
  },
  {
   "cell_type": "markdown",
   "metadata": {},
   "source": [
    "<font face=\"Calibri\"> \n",
    "<font size=4, color = blue>Boss: For the target field, 1 means he purchased in the future and 0 means he did not. Then you could use traditional classification algorithms to predict the future behaviors of all users.</font>"
   ]
  },
  {
   "cell_type": "code",
   "execution_count": 64,
   "metadata": {},
   "outputs": [
    {
     "data": {
      "text/plain": [
       "array([0, 1, 0, ..., 1, 0, 0], dtype=int64)"
      ]
     },
     "execution_count": 64,
     "metadata": {},
     "output_type": "execute_result"
    }
   ],
   "source": [
    "y = Y\n",
    "y[y > 0] = 1\n",
    "y"
   ]
  },
  {
   "cell_type": "markdown",
   "metadata": {},
   "source": [
    "## Problem 3&emsp;Use Adaboost, Random Forest in Sklearn to construct the model for prediction with 3-fold cross validation."
   ]
  },
  {
   "cell_type": "code",
   "execution_count": 65,
   "metadata": {},
   "outputs": [],
   "source": [
    "from sklearn.model_selection import train_test_split\n",
    "\n",
    "X_train, X_test, y_train, y_test = train_test_split(X, y, random_state = 42) # test_size = 0.25 (default)"
   ]
  },
  {
   "cell_type": "markdown",
   "metadata": {},
   "source": [
    "<font size=5, font='Calibri'>\n",
    "**<font color='blue'>Adaboost</font>**"
   ]
  },
  {
   "cell_type": "code",
   "execution_count": 66,
   "metadata": {
    "scrolled": true
   },
   "outputs": [
    {
     "name": "stdout",
     "output_type": "stream",
     "text": [
      "Train score: 0.888\n",
      "Test score: 0.887\n",
      "              precision    recall  f1-score   support\n",
      "\n",
      "           0       0.90      0.98      0.94     99407\n",
      "           1       0.62      0.25      0.35     14217\n",
      "\n",
      "    accuracy                           0.89    113624\n",
      "   macro avg       0.76      0.61      0.65    113624\n",
      "weighted avg       0.87      0.89      0.86    113624\n",
      "\n"
     ]
    }
   ],
   "source": [
    "from sklearn.metrics import classification_report\n",
    "from sklearn.ensemble import AdaBoostClassifier\n",
    "from sklearn.model_selection import cross_val_score\n",
    "\n",
    "AdaBoost_clf = AdaBoostClassifier(n_estimators = 10)    # default # of weak classifier = 50\n",
    "AdaBoost_clf.fit(X_train, y_train)\n",
    "y_prediction = AdaBoost_clf.predict(X_test)\n",
    "print('Train score: {:.3f}'.format(AdaBoost_clf.score(X_train, y_train))) \n",
    "print('Test score: {:.3f}'.format(AdaBoost_clf.score(X_test, y_test))) \n",
    "print(classification_report(y_test, y_prediction))"
   ]
  },
  {
   "cell_type": "code",
   "execution_count": 67,
   "metadata": {},
   "outputs": [
    {
     "name": "stdout",
     "output_type": "stream",
     "text": [
      "[0.88711892 0.88814863 0.88802542]\n"
     ]
    }
   ],
   "source": [
    "# 3-fold cross validation\n",
    "acc_scores = cross_val_score(AdaBoost_clf, X_train, y_train, cv = 3) # model, raw_data, raw_target, fold # of cv\n",
    "print(acc_scores) # accuracy"
   ]
  },
  {
   "cell_type": "markdown",
   "metadata": {},
   "source": [
    "<font size=5, face=\"Calibri\">\n",
    "**<font color='blue'>Random Forest</font>**"
   ]
  },
  {
   "cell_type": "code",
   "execution_count": 68,
   "metadata": {
    "scrolled": true
   },
   "outputs": [
    {
     "name": "stdout",
     "output_type": "stream",
     "text": [
      "Train score: 0.952\n",
      "Test score: 0.879\n",
      "              precision    recall  f1-score   support\n",
      "\n",
      "           0       0.90      0.97      0.93     99407\n",
      "           1       0.54      0.24      0.33     14217\n",
      "\n",
      "    accuracy                           0.88    113624\n",
      "   macro avg       0.72      0.60      0.63    113624\n",
      "weighted avg       0.85      0.88      0.86    113624\n",
      "\n"
     ]
    }
   ],
   "source": [
    "from sklearn.ensemble import RandomForestClassifier\n",
    "\n",
    "random_forest_clf = RandomForestClassifier()\n",
    "random_forest_clf.fit(X_train, y_train)\n",
    "y_prediction = random_forest_clf.predict(X_test)\n",
    "print('Train score: {:.3f}'.format(random_forest_clf.score(X_train, y_train)))\n",
    "print('Test score: {:.3f}'.format(random_forest_clf.score(X_test, y_test)))\n",
    "print(classification_report(y_test, y_prediction))"
   ]
  },
  {
   "cell_type": "code",
   "execution_count": 69,
   "metadata": {},
   "outputs": [
    {
     "name": "stdout",
     "output_type": "stream",
     "text": [
      "[0.87932127 0.87910125 0.88008695]\n"
     ]
    }
   ],
   "source": [
    "# 3-fold cross validation\n",
    "acc_scores = cross_val_score(random_forest_clf, X_train, y_train, cv = 3) # model, raw_data, raw_target, fold # of cv\n",
    "print(acc_scores) # accuracy"
   ]
  },
  {
   "cell_type": "markdown",
   "metadata": {},
   "source": [
    "### Problem 3-a&emsp;Xgboost"
   ]
  },
  {
   "cell_type": "code",
   "execution_count": 70,
   "metadata": {},
   "outputs": [
    {
     "name": "stdout",
     "output_type": "stream",
     "text": [
      "Train accuracy: 0.888\n",
      "Test accuracy: 0.888\n",
      "\n",
      "              precision    recall  f1-score   support\n",
      "\n",
      "           0       0.90      0.98      0.94     99407\n",
      "           1       0.64      0.24      0.35     14217\n",
      "\n",
      "    accuracy                           0.89    113624\n",
      "   macro avg       0.77      0.61      0.64    113624\n",
      "weighted avg       0.87      0.89      0.87    113624\n",
      "\n",
      "confusion matrix:\n",
      "                       not buy [0]  buy [1]\n",
      "predict not buy [0]        97437     1970\n",
      "predict buy [1]            10773     3444\n"
     ]
    }
   ],
   "source": [
    "import xgboost as xgb\n",
    "from xgboost import XGBClassifier\n",
    "from sklearn.metrics import accuracy_score\n",
    "from sklearn import metrics\n",
    "\n",
    "dtrain = xgb.DMatrix(X_train, label = y_train)\n",
    "dtest = xgb.DMatrix(X_test, label = y_test)\n",
    "                                                                                                               \n",
    "params={'booster':'gbtree', 'max_depth': 2, 'eta': 1,  #  Booster parameters:  max_depth [default=6], eta [default=0.3], gamma [default=0]\n",
    "        'objective': 'binary:logistic', # objective [ default=reg:linear], logistic regression of dichotomies, the output is probability \n",
    "        'eval_metric': 'auc', # The evaluation index needed to verify the data, auc: area under the curve for ranking evaluation. \n",
    "                              #'nthread': 4, # of CPU threads\n",
    "        'lambda': 0, # [default=0], L2 regular penalty coefficient, the larger the parameter, the less likely it is overfitting\n",
    "                      # alpha [default=0], L1 regular penalty coefficient, can make the algorithm run faster \n",
    "        'subsample': 1, # subsample [default=1], random sampling of training samples\n",
    "        'colsample_bytree': 1, # colsample_bytree [default=1], the proportion of random sampling of features in the establishment of a tree \n",
    "        'min_child_weight': 2,  # min_child_weight [default=1], max_delta_step [default=0]  \n",
    "        'seed': 0} # seed [default=0]  \n",
    "\n",
    "num_round = 10\n",
    "bst1 = xgb.train(params, dtrain, num_round)\n",
    "\n",
    "train_pred = bst1.predict(dtrain)\n",
    "train_prediction = (train_pred >= 0.5)*1 # let 0.5 be the threshold\n",
    "\n",
    "y_pred = bst1.predict(dtest)\n",
    "y_prediction = (y_pred >= 0.5)*1 # let 0.5 be the threshold\n",
    "\n",
    "\n",
    "print('Train accuracy: {:.3f}'.format(accuracy_score(y_train, train_prediction)))\n",
    "print('Test accuracy: {:.3f}\\n'.format(accuracy_score(y_test, y_prediction)))\n",
    "print(classification_report(y_test, y_prediction))\n",
    "\n",
    "confusion_matrix = pd.DataFrame(metrics.confusion_matrix(y_test, y_prediction))\n",
    "confusion_matrix.columns = ['not buy [0]', 'buy [1]']\n",
    "confusion_matrix.index = ['predict not buy [0]', 'predict buy [1]']\n",
    "print('confusion matrix:\\n ', confusion_matrix)"
   ]
  },
  {
   "cell_type": "code",
   "execution_count": 71,
   "metadata": {},
   "outputs": [
    {
     "data": {
      "image/png": "[encoded data removed]",
      "text/plain": [
       "<Figure size 432x288 with 1 Axes>"
      ]
     },
     "metadata": {},
     "output_type": "display_data"
    }
   ],
   "source": [
    "from xgboost import plot_importance # display importance of feature\n",
    "plot_importance(bst1)\n",
    "plt.show()"
   ]
  },
  {
   "cell_type": "code",
   "execution_count": 72,
   "metadata": {},
   "outputs": [
    {
     "name": "stdout",
     "output_type": "stream",
     "text": [
      "Train accuracy: 0.888\n",
      "Test accuracy: 0.887\n",
      "\n",
      "              precision    recall  f1-score   support\n",
      "\n",
      "           0       0.89      0.99      0.94     99407\n",
      "           1       0.70      0.17      0.27     14217\n",
      "\n",
      "    accuracy                           0.89    113624\n",
      "   macro avg       0.80      0.58      0.61    113624\n",
      "weighted avg       0.87      0.89      0.86    113624\n",
      "\n",
      "confusion matrix:\n",
      "                       not buy [0]  buy [1]\n",
      "predict not buy [0]        98358     1049\n",
      "predict buy [1]            11795     2422\n",
      "\n",
      "3-fold cross validation:\n",
      "[0.88766458 0.88846547 0.88833345]\n"
     ]
    }
   ],
   "source": [
    "bst2 = XGBClassifier(max_depth = 2, n_estimators = num_round, silent = True, objective = 'binary:logistic')\n",
    "bst2.fit(X_train, y_train)\n",
    "\n",
    "train_prediction = bst2.predict(X_train)\n",
    "y_prediction = bst2.predict(X_test)\n",
    "\n",
    "print('Train accuracy: {:.3f}'.format(accuracy_score(y_train, train_prediction)))\n",
    "print('Test accuracy: {:.3f}\\n'.format(accuracy_score(y_test, y_prediction)))\n",
    "print(classification_report(y_test, y_prediction))\n",
    "\n",
    "confusion_matrix = pd.DataFrame(metrics.confusion_matrix(y_test, y_prediction))\n",
    "confusion_matrix.columns = ['not buy [0]', 'buy [1]']\n",
    "confusion_matrix.index = ['predict not buy [0]', 'predict buy [1]']\n",
    "print('confusion matrix:\\n ', confusion_matrix)\n",
    "\n",
    "# 3-fold cross validation\n",
    "acc_scores = cross_val_score(bst2, X_train, y_train, cv = 3)\n",
    "print('\\n3-fold cross validation:')\n",
    "print(acc_scores)"
   ]
  },
  {
   "cell_type": "markdown",
   "metadata": {},
   "source": [
    "### Problem 3-b&emsp;"
   ]
  },
  {
   "cell_type": "markdown",
   "metadata": {},
   "source": [
    "<font face=\"Calibri\"> \n",
    "<font size=4, color = blue>Boss: We could, but we do not use Naive Bayes or Support Vector Machine in this project.</font>"
   ]
  },
  {
   "cell_type": "markdown",
   "metadata": {},
   "source": [
    "**<font size=4, face=\"Calibri\">Answer:</font>**\n",
    "<font size=4, face=\"Calibri\"> True. Reasons are as follows.<br/>\n",
    "</font>"
   ]
  },
  {
   "cell_type": "markdown",
   "metadata": {},
   "source": [
    "<font size=4, face=\"Calibri\">\n",
    "**<font color='red'>Why do we not use Naive Bayes in this project?</font>** <br/>\n",
    "Because Naive Bayes model assumes that attributes are independent from each other, this assumption is often not valid in practical applications. When the correlation between attributes is large, the result of classification is not good.\n",
    "In this project, whether the users will purchased in the future is correlated with their past behaviors. Meanwhile, we need to know the prior probability, which usually depends on the assumption.\n",
    "</font>"
   ]
  },
  {
   "cell_type": "markdown",
   "metadata": {},
   "source": [
    "<font size=4, face=\"Calibri\">\n",
    "**<font color='red'>Why do we not use Support Vector Machine in this project?</font>** <br/>\n",
    "If we use linear SVM, the data of users' purchasing behavior may be linearly indivisible. If we use kernel trick, it may be overfitting.\n",
    "Moreover, finding the best model requires us to test different combinations of kernel functions and model parameters.<br/> \n",
    "When the sample data is very large, the process of training is very time-consuming, which will also consume a lot of memory.\n",
    "</font>"
   ]
  },
  {
   "cell_type": "markdown",
   "metadata": {},
   "source": [
    "## Problem 4&emsp;Tune your model and report the best metrics you could get for your model and the corresponding confusion matrix and model name. At least Adaboost and Random Forest should be used for tuning."
   ]
  },
  {
   "cell_type": "markdown",
   "metadata": {},
   "source": [
    "<font size=4, face=\"Calibri\">\n",
    "d. Try to not record the # of orders for each user. Record whether he bought the goods instead, 1 if he bought and 0 otherwise.\n",
    "</font>"
   ]
  },
  {
   "cell_type": "code",
   "execution_count": 73,
   "metadata": {},
   "outputs": [],
   "source": [
    "dataset = np.array(user_date_table)\n",
    "X, Y = dataset[:,0:19], dataset[:,19] \n",
    "X[X > 0] = 1\n",
    "y = Y\n",
    "y[y > 0] = 1\n",
    "\n",
    "X_train, X_test, y_train, y_test = train_test_split(X, y, random_state = 42) # test_size = 0.25 (default)"
   ]
  },
  {
   "cell_type": "markdown",
   "metadata": {},
   "source": [
    "<font size=4, face=\"Calibri\">\n",
    "a. Try to do oversampling or undersampling. This is an imbalanced classification problem.\n",
    "</font>"
   ]
  },
  {
   "cell_type": "markdown",
   "metadata": {},
   "source": [
    "### <font color='red'>To be continued..."
   ]
  },
  {
   "cell_type": "code",
   "execution_count": 74,
   "metadata": {},
   "outputs": [],
   "source": [
    "from imblearn.over_sampling import SMOTE\n",
    "from imblearn.under_sampling import ClusterCentroids\n",
    "\n",
    "X_resampled_over, y_resampled_over = SMOTE().fit_sample(X_train, y_train)\n",
    "\n",
    "X_resampled_under, y_resampled_under = ClusterCentroids().fit_sample(X_train, y_train)"
   ]
  },
  {
   "cell_type": "markdown",
   "metadata": {},
   "source": [
    "<font size=5, font='Calibri'>\n",
    "**<font color='blue'>Adaboost</font>**"
   ]
  },
  {
   "cell_type": "code",
   "execution_count": 76,
   "metadata": {},
   "outputs": [
    {
     "name": "stdout",
     "output_type": "stream",
     "text": [
      "f1 scoce: 0.337\n",
      "confusion matrix:\n",
      " [[97601  1806]\n",
      " [10970  3247]]\n",
      "The best f1 score: 0.347\n",
      "The best measure： AdaBoostClassifier(algorithm='SAMME.R', base_estimator=None, learning_rate=1.0,\n",
      "                   n_estimators=21, random_state=None)\n"
     ]
    }
   ],
   "source": [
    "from sklearn.model_selection import GridSearchCV, RandomizedSearchCV\n",
    "from sklearn.metrics import f1_score\n",
    "\n",
    "# default_model = AdaBoostClassifier(base_estimator = None, n_estimators = 50, learning_rate = 1.0, algorithms = 'SAMME.R', random_state=None)\n",
    "# learning rate: if too large, it is easy to miss the optimal value; if too small, the convergence speed will be very slow\n",
    "# algorithms = 'SAMME.R' or 'SAMME'\n",
    "\n",
    "AdaBoost_clf = AdaBoostClassifier()    \n",
    "param_test = {'n_estimators': list(range(20, 71))}\n",
    "clf = GridSearchCV(AdaBoost_clf, param_grid = param_test, scoring = 'f1', cv = 3)\n",
    "clf.fit(X_train, y_train)\n",
    "y_preds = clf.predict(X_test)\n",
    "test_f1 = f1_score(y_test, y_preds)\n",
    "\n",
    "print('f1 scoce: {:.3f}'.format(test_f1))\n",
    "print('confusion matrix:\\n', metrics.confusion_matrix(y_test, y_preds))\n",
    "print('The best f1 score: {:.3f}'.format(clf.best_score_))\n",
    "print('The best measure：', clf.best_estimator_)  # get the classification model for the best measure"
   ]
  },
  {
   "cell_type": "markdown",
   "metadata": {},
   "source": [
    "<font size=5, face=\"Calibri\">\n",
    "**<font color='blue'>Random Forest</font>**"
   ]
  },
  {
   "cell_type": "code",
   "execution_count": 77,
   "metadata": {},
   "outputs": [
    {
     "name": "stdout",
     "output_type": "stream",
     "text": [
      "f1 scoce: 0.333\n",
      "confusion matrix:\n",
      " [[96645  2762]\n",
      " [10823  3394]]\n",
      "The best f1 score: 0.333\n",
      "The best measure： RandomForestClassifier(bootstrap=True, ccp_alpha=0.0, class_weight=None,\n",
      "                       criterion='gini', max_depth=None, max_features='auto',\n",
      "                       max_leaf_nodes=None, max_samples=None,\n",
      "                       min_impurity_decrease=0.0, min_impurity_split=None,\n",
      "                       min_samples_leaf=1, min_samples_split=2,\n",
      "                       min_weight_fraction_leaf=0.0, n_estimators=13,\n",
      "                       n_jobs=None, oob_score=False, random_state=None,\n",
      "                       verbose=0, warm_start=False)\n"
     ]
    }
   ],
   "source": [
    "from sklearn.model_selection import GridSearchCV, RandomizedSearchCV\n",
    "from sklearn.metrics import f1_score\n",
    "\n",
    "# default model\n",
    "# n_estimators = 10, criterion='gini', max_depth = None, min_samples_split = 2, min_samples_leaf = 1, min_weight_fraction_leaf = 0.0,\n",
    "# max_features = 'auto', max_leaf_nodes = None, min_impurity_decrease = 0.0, min_impurity_split = None, \n",
    "# bootstrap = True, oob_score = False, n_jobs = 1, random_state = None, verbose = 0, warm_start = False, class_weight = None\n",
    "\n",
    "random_forest_clf = RandomForestClassifier()\n",
    "param_test = {'n_estimators': list(range(5, 16))}\n",
    "clf = GridSearchCV(random_forest_clf, param_grid = param_test, scoring = 'f1', cv = 3)\n",
    "clf.fit(X_train, y_train)\n",
    "y_preds = clf.predict(X_test)\n",
    "test_f1 = f1_score(y_test, y_preds)\n",
    "\n",
    "print('f1 scoce: {:.3f}'.format(test_f1))\n",
    "print('confusion matrix:\\n', metrics.confusion_matrix(y_test, y_preds))\n",
    "print('The best f1 score: {:.3f}'.format(clf.best_score_))\n",
    "print('The best measure：', clf.best_estimator_)  # get the classification model for the best measure"
   ]
  },
  {
   "cell_type": "markdown",
   "metadata": {},
   "source": [
    "<font size=5, face=\"Calibri\">\n",
    "**<font color='blue'>Xgboost</font>**"
   ]
  },
  {
   "cell_type": "code",
   "execution_count": 78,
   "metadata": {},
   "outputs": [
    {
     "name": "stdout",
     "output_type": "stream",
     "text": [
      "f1 scoce: 0.336\n",
      "confusion matrix:\n",
      " [[97667  1740]\n",
      " [11000  3217]]\n",
      "The best f1 score: 0.341\n",
      "The best measure： XGBClassifier(base_score=0.5, booster=None, colsample_bylevel=1,\n",
      "              colsample_bynode=1, colsample_bytree=1, gamma=0, gpu_id=-1,\n",
      "              importance_type='gain', interaction_constraints=None,\n",
      "              learning_rate=0.1, max_delta_step=0, max_depth=2,\n",
      "              min_child_weight=1, missing=nan, monotone_constraints=None,\n",
      "              n_estimators=137, n_jobs=0, num_parallel_tree=1,\n",
      "              objective='binary:logistic', random_state=0, reg_alpha=0,\n",
      "              reg_lambda=1, scale_pos_weight=1, silent=True, subsample=1,\n",
      "              tree_method=None, validate_parameters=False, verbosity=None)\n"
     ]
    }
   ],
   "source": [
    "from sklearn.model_selection import GridSearchCV, RandomizedSearchCV\n",
    "from sklearn.metrics import f1_score\n",
    "\n",
    "# params = {'max_depth': 2, 'eta': 0.1, 'silent': 1, 'objective': 'binary:logistic' }\n",
    "bst = XGBClassifier(max_depth = 2, learning_rate = 0.1, silent = True, objective = 'binary:logistic')\n",
    "param_test = {'n_estimators': list(range(100, 141, 1))}\n",
    "clf = GridSearchCV(estimator = bst, param_grid = param_test, scoring = 'f1', cv = 3)\n",
    "clf.fit(X_train, y_train) \n",
    "y_preds = clf.predict(X_test)\n",
    "test_f1 = f1_score(y_test, y_preds)\n",
    "\n",
    "print('f1 scoce: {:.3f}'.format(test_f1))\n",
    "print('confusion matrix:\\n', metrics.confusion_matrix(y_test, y_preds))\n",
    "print('The best f1 score: {:.3f}'.format(clf.best_score_))\n",
    "print('The best measure：', clf.best_estimator_)  # get the classification model for the best measure"
   ]
  },
  {
   "cell_type": "markdown",
   "metadata": {},
   "source": [
    "<font size=4, face=\"Calibri\">\n",
    "e. Try to record the active-user feature. Many users did not only buy one cup of drink during two days, so whether one user is active should be taken into consideration.\n",
    "</font>"
   ]
  },
  {
   "cell_type": "code",
   "execution_count": 79,
   "metadata": {},
   "outputs": [
    {
     "data": {
      "text/html": [
       "<div>\n",
       "<style scoped>\n",
       "    .dataframe tbody tr th:only-of-type {\n",
       "        vertical-align: middle;\n",
       "    }\n",
       "\n",
       "    .dataframe tbody tr th {\n",
       "        vertical-align: top;\n",
       "    }\n",
       "\n",
       "    .dataframe thead th {\n",
       "        text-align: right;\n",
       "    }\n",
       "</style>\n",
       "<table border=\"1\" class=\"dataframe\">\n",
       "  <thead>\n",
       "    <tr style=\"text-align: right;\">\n",
       "      <th></th>\n",
       "      <th>1</th>\n",
       "      <th>2</th>\n",
       "      <th>3</th>\n",
       "      <th>4</th>\n",
       "      <th>5</th>\n",
       "      <th>6</th>\n",
       "      <th>7</th>\n",
       "      <th>8</th>\n",
       "      <th>9</th>\n",
       "      <th>10</th>\n",
       "      <th>11</th>\n",
       "      <th>12</th>\n",
       "      <th>13</th>\n",
       "      <th>14</th>\n",
       "      <th>15</th>\n",
       "      <th>16</th>\n",
       "      <th>17</th>\n",
       "      <th>18</th>\n",
       "      <th>19</th>\n",
       "      <th>20</th>\n",
       "    </tr>\n",
       "    <tr>\n",
       "      <th>phone_no</th>\n",
       "      <th></th>\n",
       "      <th></th>\n",
       "      <th></th>\n",
       "      <th></th>\n",
       "      <th></th>\n",
       "      <th></th>\n",
       "      <th></th>\n",
       "      <th></th>\n",
       "      <th></th>\n",
       "      <th></th>\n",
       "      <th></th>\n",
       "      <th></th>\n",
       "      <th></th>\n",
       "      <th></th>\n",
       "      <th></th>\n",
       "      <th></th>\n",
       "      <th></th>\n",
       "      <th></th>\n",
       "      <th></th>\n",
       "      <th></th>\n",
       "    </tr>\n",
       "  </thead>\n",
       "  <tbody>\n",
       "    <tr>\n",
       "      <th>51379898</th>\n",
       "      <td>0</td>\n",
       "      <td>0</td>\n",
       "      <td>0</td>\n",
       "      <td>1</td>\n",
       "      <td>0</td>\n",
       "      <td>0</td>\n",
       "      <td>0</td>\n",
       "      <td>0</td>\n",
       "      <td>0</td>\n",
       "      <td>0</td>\n",
       "      <td>0</td>\n",
       "      <td>0</td>\n",
       "      <td>0</td>\n",
       "      <td>0</td>\n",
       "      <td>0</td>\n",
       "      <td>0</td>\n",
       "      <td>0</td>\n",
       "      <td>0</td>\n",
       "      <td>0</td>\n",
       "      <td>0</td>\n",
       "    </tr>\n",
       "    <tr>\n",
       "      <th>62288158</th>\n",
       "      <td>0</td>\n",
       "      <td>0</td>\n",
       "      <td>0</td>\n",
       "      <td>0</td>\n",
       "      <td>1</td>\n",
       "      <td>0</td>\n",
       "      <td>0</td>\n",
       "      <td>0</td>\n",
       "      <td>0</td>\n",
       "      <td>0</td>\n",
       "      <td>1</td>\n",
       "      <td>0</td>\n",
       "      <td>1</td>\n",
       "      <td>0</td>\n",
       "      <td>0</td>\n",
       "      <td>1</td>\n",
       "      <td>1</td>\n",
       "      <td>0</td>\n",
       "      <td>0</td>\n",
       "      <td>1</td>\n",
       "    </tr>\n",
       "    <tr>\n",
       "      <th>65310185</th>\n",
       "      <td>1</td>\n",
       "      <td>0</td>\n",
       "      <td>0</td>\n",
       "      <td>0</td>\n",
       "      <td>0</td>\n",
       "      <td>0</td>\n",
       "      <td>0</td>\n",
       "      <td>0</td>\n",
       "      <td>0</td>\n",
       "      <td>0</td>\n",
       "      <td>0</td>\n",
       "      <td>0</td>\n",
       "      <td>0</td>\n",
       "      <td>0</td>\n",
       "      <td>1</td>\n",
       "      <td>0</td>\n",
       "      <td>0</td>\n",
       "      <td>0</td>\n",
       "      <td>0</td>\n",
       "      <td>0</td>\n",
       "    </tr>\n",
       "    <tr>\n",
       "      <th>67443044</th>\n",
       "      <td>0</td>\n",
       "      <td>0</td>\n",
       "      <td>1</td>\n",
       "      <td>0</td>\n",
       "      <td>0</td>\n",
       "      <td>0</td>\n",
       "      <td>0</td>\n",
       "      <td>0</td>\n",
       "      <td>0</td>\n",
       "      <td>0</td>\n",
       "      <td>0</td>\n",
       "      <td>0</td>\n",
       "      <td>0</td>\n",
       "      <td>0</td>\n",
       "      <td>0</td>\n",
       "      <td>0</td>\n",
       "      <td>0</td>\n",
       "      <td>0</td>\n",
       "      <td>0</td>\n",
       "      <td>0</td>\n",
       "    </tr>\n",
       "    <tr>\n",
       "      <th>67469370</th>\n",
       "      <td>1</td>\n",
       "      <td>0</td>\n",
       "      <td>0</td>\n",
       "      <td>0</td>\n",
       "      <td>0</td>\n",
       "      <td>0</td>\n",
       "      <td>0</td>\n",
       "      <td>0</td>\n",
       "      <td>0</td>\n",
       "      <td>0</td>\n",
       "      <td>0</td>\n",
       "      <td>0</td>\n",
       "      <td>0</td>\n",
       "      <td>0</td>\n",
       "      <td>0</td>\n",
       "      <td>0</td>\n",
       "      <td>0</td>\n",
       "      <td>0</td>\n",
       "      <td>0</td>\n",
       "      <td>0</td>\n",
       "    </tr>\n",
       "  </tbody>\n",
       "</table>\n",
       "</div>"
      ],
      "text/plain": [
       "          1  2  3  4  5  6  7  8  9  10  11  12  13  14  15  16  17  18  19  \\\n",
       "phone_no                                                                      \n",
       "51379898  0  0  0  1  0  0  0  0  0   0   0   0   0   0   0   0   0   0   0   \n",
       "62288158  0  0  0  0  1  0  0  0  0   0   1   0   1   0   0   1   1   0   0   \n",
       "65310185  1  0  0  0  0  0  0  0  0   0   0   0   0   0   1   0   0   0   0   \n",
       "67443044  0  0  1  0  0  0  0  0  0   0   0   0   0   0   0   0   0   0   0   \n",
       "67469370  1  0  0  0  0  0  0  0  0   0   0   0   0   0   0   0   0   0   0   \n",
       "\n",
       "          20  \n",
       "phone_no      \n",
       "51379898   0  \n",
       "62288158   1  \n",
       "65310185   0  \n",
       "67443044   0  \n",
       "67469370   0  "
      ]
     },
     "execution_count": 79,
     "metadata": {},
     "output_type": "execute_result"
    }
   ],
   "source": [
    "user_date_table_temp = pd.DataFrame(np.array(user_date_table), index = user_date_table.index, columns = [str(i) for i in range(1,21)])\n",
    "user_date_table_temp.head()"
   ]
  },
  {
   "cell_type": "code",
   "execution_count": 80,
   "metadata": {},
   "outputs": [
    {
     "data": {
      "text/html": [
       "<div>\n",
       "<style scoped>\n",
       "    .dataframe tbody tr th:only-of-type {\n",
       "        vertical-align: middle;\n",
       "    }\n",
       "\n",
       "    .dataframe tbody tr th {\n",
       "        vertical-align: top;\n",
       "    }\n",
       "\n",
       "    .dataframe thead th {\n",
       "        text-align: right;\n",
       "    }\n",
       "</style>\n",
       "<table border=\"1\" class=\"dataframe\">\n",
       "  <thead>\n",
       "    <tr style=\"text-align: right;\">\n",
       "      <th></th>\n",
       "      <th>active-user</th>\n",
       "      <th>1</th>\n",
       "      <th>2</th>\n",
       "      <th>3</th>\n",
       "      <th>4</th>\n",
       "      <th>5</th>\n",
       "      <th>6</th>\n",
       "      <th>7</th>\n",
       "      <th>8</th>\n",
       "      <th>9</th>\n",
       "      <th>...</th>\n",
       "      <th>11</th>\n",
       "      <th>12</th>\n",
       "      <th>13</th>\n",
       "      <th>14</th>\n",
       "      <th>15</th>\n",
       "      <th>16</th>\n",
       "      <th>17</th>\n",
       "      <th>18</th>\n",
       "      <th>19</th>\n",
       "      <th>20</th>\n",
       "    </tr>\n",
       "    <tr>\n",
       "      <th>phone_no</th>\n",
       "      <th></th>\n",
       "      <th></th>\n",
       "      <th></th>\n",
       "      <th></th>\n",
       "      <th></th>\n",
       "      <th></th>\n",
       "      <th></th>\n",
       "      <th></th>\n",
       "      <th></th>\n",
       "      <th></th>\n",
       "      <th></th>\n",
       "      <th></th>\n",
       "      <th></th>\n",
       "      <th></th>\n",
       "      <th></th>\n",
       "      <th></th>\n",
       "      <th></th>\n",
       "      <th></th>\n",
       "      <th></th>\n",
       "      <th></th>\n",
       "      <th></th>\n",
       "    </tr>\n",
       "  </thead>\n",
       "  <tbody>\n",
       "    <tr>\n",
       "      <th>51379898</th>\n",
       "      <td>0</td>\n",
       "      <td>0</td>\n",
       "      <td>0</td>\n",
       "      <td>0</td>\n",
       "      <td>1</td>\n",
       "      <td>0</td>\n",
       "      <td>0</td>\n",
       "      <td>0</td>\n",
       "      <td>0</td>\n",
       "      <td>0</td>\n",
       "      <td>...</td>\n",
       "      <td>0</td>\n",
       "      <td>0</td>\n",
       "      <td>0</td>\n",
       "      <td>0</td>\n",
       "      <td>0</td>\n",
       "      <td>0</td>\n",
       "      <td>0</td>\n",
       "      <td>0</td>\n",
       "      <td>0</td>\n",
       "      <td>0</td>\n",
       "    </tr>\n",
       "    <tr>\n",
       "      <th>62288158</th>\n",
       "      <td>1</td>\n",
       "      <td>0</td>\n",
       "      <td>0</td>\n",
       "      <td>0</td>\n",
       "      <td>0</td>\n",
       "      <td>1</td>\n",
       "      <td>0</td>\n",
       "      <td>0</td>\n",
       "      <td>0</td>\n",
       "      <td>0</td>\n",
       "      <td>...</td>\n",
       "      <td>1</td>\n",
       "      <td>0</td>\n",
       "      <td>1</td>\n",
       "      <td>0</td>\n",
       "      <td>0</td>\n",
       "      <td>1</td>\n",
       "      <td>1</td>\n",
       "      <td>0</td>\n",
       "      <td>0</td>\n",
       "      <td>1</td>\n",
       "    </tr>\n",
       "    <tr>\n",
       "      <th>65310185</th>\n",
       "      <td>0</td>\n",
       "      <td>1</td>\n",
       "      <td>0</td>\n",
       "      <td>0</td>\n",
       "      <td>0</td>\n",
       "      <td>0</td>\n",
       "      <td>0</td>\n",
       "      <td>0</td>\n",
       "      <td>0</td>\n",
       "      <td>0</td>\n",
       "      <td>...</td>\n",
       "      <td>0</td>\n",
       "      <td>0</td>\n",
       "      <td>0</td>\n",
       "      <td>0</td>\n",
       "      <td>1</td>\n",
       "      <td>0</td>\n",
       "      <td>0</td>\n",
       "      <td>0</td>\n",
       "      <td>0</td>\n",
       "      <td>0</td>\n",
       "    </tr>\n",
       "    <tr>\n",
       "      <th>67443044</th>\n",
       "      <td>0</td>\n",
       "      <td>0</td>\n",
       "      <td>0</td>\n",
       "      <td>1</td>\n",
       "      <td>0</td>\n",
       "      <td>0</td>\n",
       "      <td>0</td>\n",
       "      <td>0</td>\n",
       "      <td>0</td>\n",
       "      <td>0</td>\n",
       "      <td>...</td>\n",
       "      <td>0</td>\n",
       "      <td>0</td>\n",
       "      <td>0</td>\n",
       "      <td>0</td>\n",
       "      <td>0</td>\n",
       "      <td>0</td>\n",
       "      <td>0</td>\n",
       "      <td>0</td>\n",
       "      <td>0</td>\n",
       "      <td>0</td>\n",
       "    </tr>\n",
       "    <tr>\n",
       "      <th>67469370</th>\n",
       "      <td>0</td>\n",
       "      <td>1</td>\n",
       "      <td>0</td>\n",
       "      <td>0</td>\n",
       "      <td>0</td>\n",
       "      <td>0</td>\n",
       "      <td>0</td>\n",
       "      <td>0</td>\n",
       "      <td>0</td>\n",
       "      <td>0</td>\n",
       "      <td>...</td>\n",
       "      <td>0</td>\n",
       "      <td>0</td>\n",
       "      <td>0</td>\n",
       "      <td>0</td>\n",
       "      <td>0</td>\n",
       "      <td>0</td>\n",
       "      <td>0</td>\n",
       "      <td>0</td>\n",
       "      <td>0</td>\n",
       "      <td>0</td>\n",
       "    </tr>\n",
       "  </tbody>\n",
       "</table>\n",
       "<p>5 rows × 21 columns</p>\n",
       "</div>"
      ],
      "text/plain": [
       "          active-user  1  2  3  4  5  6  7  8  9 ...  11  12  13  14  15  16  \\\n",
       "phone_no                                         ...                           \n",
       "51379898            0  0  0  0  1  0  0  0  0  0 ...   0   0   0   0   0   0   \n",
       "62288158            1  0  0  0  0  1  0  0  0  0 ...   1   0   1   0   0   1   \n",
       "65310185            0  1  0  0  0  0  0  0  0  0 ...   0   0   0   0   1   0   \n",
       "67443044            0  0  0  1  0  0  0  0  0  0 ...   0   0   0   0   0   0   \n",
       "67469370            0  1  0  0  0  0  0  0  0  0 ...   0   0   0   0   0   0   \n",
       "\n",
       "          17  18  19  20  \n",
       "phone_no                  \n",
       "51379898   0   0   0   0  \n",
       "62288158   1   0   0   1  \n",
       "65310185   0   0   0   0  \n",
       "67443044   0   0   0   0  \n",
       "67469370   0   0   0   0  \n",
       "\n",
       "[5 rows x 21 columns]"
      ]
     },
     "execution_count": 80,
     "metadata": {},
     "output_type": "execute_result"
    }
   ],
   "source": [
    "active_state = user_date_table_temp.index.isin(active_users['phone_no']) # array of True and False\n",
    "active_state = active_state.astype(int) # array of 1 and 0\n",
    "active_state = pd.DataFrame(active_state, index = user_date_table.index, columns = ['active-user'])\n",
    "\n",
    "user_date_active_table = pd.concat([active_state, user_date_table_temp], axis = 1)\n",
    "user_date_active_table.head()"
   ]
  },
  {
   "cell_type": "code",
   "execution_count": 81,
   "metadata": {},
   "outputs": [],
   "source": [
    "dataset_new = np.array(user_date_active_table)"
   ]
  },
  {
   "cell_type": "code",
   "execution_count": 82,
   "metadata": {},
   "outputs": [],
   "source": [
    "X, Y = dataset_new[:,0:20], dataset_new[:,20]"
   ]
  },
  {
   "cell_type": "code",
   "execution_count": 83,
   "metadata": {},
   "outputs": [],
   "source": [
    "y = Y\n",
    "X[X > 0] = 1\n",
    "y[y > 0] = 1"
   ]
  },
  {
   "cell_type": "code",
   "execution_count": 84,
   "metadata": {},
   "outputs": [
    {
     "data": {
      "text/plain": [
       "array([[0, 0, 0, ..., 0, 0, 0],\n",
       "       [1, 0, 0, ..., 1, 0, 0],\n",
       "       [0, 1, 0, ..., 0, 0, 0],\n",
       "       ...,\n",
       "       [1, 0, 1, ..., 0, 0, 0],\n",
       "       [0, 0, 0, ..., 0, 0, 0],\n",
       "       [0, 0, 0, ..., 0, 0, 0]], dtype=int64)"
      ]
     },
     "execution_count": 84,
     "metadata": {},
     "output_type": "execute_result"
    }
   ],
   "source": [
    "X"
   ]
  },
  {
   "cell_type": "code",
   "execution_count": 85,
   "metadata": {},
   "outputs": [
    {
     "data": {
      "text/plain": [
       "array([0, 1, 0, ..., 1, 0, 0], dtype=int64)"
      ]
     },
     "execution_count": 85,
     "metadata": {},
     "output_type": "execute_result"
    }
   ],
   "source": [
    "y"
   ]
  },
  {
   "cell_type": "markdown",
   "metadata": {},
   "source": [
    "### <font color='red'>To be continued..."
   ]
  },
  {
   "cell_type": "markdown",
   "metadata": {},
   "source": [
    "<font size=4, face=\"Calibri\">\n",
    "f. Split the data with respect to Weekdays and Weekends and train two different models.\n",
    "</font>"
   ]
  },
  {
   "cell_type": "markdown",
   "metadata": {},
   "source": [
    "### <font color='red'>To be continued..."
   ]
  },
  {
   "cell_type": "code",
   "execution_count": null,
   "metadata": {},
   "outputs": [],
   "source": []
  },
  {
   "cell_type": "markdown",
   "metadata": {},
   "source": [
    "## Problem 5&emsp;After tuning, try to explain why your model works better."
   ]
  },
  {
   "cell_type": "markdown",
   "metadata": {},
   "source": [
    "<font size=4, face=\"Calibri\">\n",
    "Hint: For every case you try in Problem 4, please record the result and the trend. Does the model behave better or worse? <br/>The performances will show you the hidden information of the data and you could use business intuition to explain the phenomenons. <br/>\n",
    "    That is the answer of Problem 5.\n",
    "</font>"
   ]
  },
  {
   "cell_type": "markdown",
   "metadata": {},
   "source": [
    "### <font color='red'>To be continued..."
   ]
  },
  {
   "cell_type": "markdown",
   "metadata": {},
   "source": [
    "<font size=4, face=\"Calibri\">\n",
    "Indeed, tuning models is the most difficult problem of this project and it is very time-consuming since there are many cases for us to consider. Frankly speaking, I am not very familiar with some models and I still have a long way to go.\n",
    "</font>"
   ]
  },
  {
   "cell_type": "code",
   "execution_count": null,
   "metadata": {},
   "outputs": [],
   "source": []
  }
 ],
 "metadata": {
  "kernelspec": {
   "display_name": "Python 3",
   "language": "python",
   "name": "python3"
  },
  "language_info": {
   "codemirror_mode": {
    "name": "ipython",
    "version": 3
   },
   "file_extension": ".py",
   "mimetype": "text/x-python",
   "name": "python",
   "nbconvert_exporter": "python",
   "pygments_lexer": "ipython3",
   "version": "3.6.5"
  },
  "toc": {
   "base_numbering": "0",
   "nav_menu": {},
   "number_sections": false,
   "sideBar": true,
   "skip_h1_title": false,
   "title_cell": "Table of Contents",
   "title_sidebar": "Contents",
   "toc_cell": false,
   "toc_position": {
    "height": "calc(100% - 180px)",
    "left": "10px",
    "top": "150px",
    "width": "265px"
   },
   "toc_section_display": true,
   "toc_window_display": false
  }
 },
 "nbformat": 4,
 "nbformat_minor": 2
}
