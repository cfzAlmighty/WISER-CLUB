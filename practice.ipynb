{
 "cells": [
  {
   "cell_type": "markdown",
   "metadata": {},
   "source": [
    "# groupby"
   ]
  },
  {
   "cell_type": "markdown",
   "metadata": {},
   "source": [
    "### groupby('分组变量')[['度量变量']].max()"
   ]
  },
  {
   "cell_type": "code",
   "execution_count": null,
   "metadata": {},
   "outputs": [],
   "source": [
    "# sample.groupby('grade')[['math']].max()"
   ]
  },
  {
   "cell_type": "code",
   "execution_count": null,
   "metadata": {},
   "outputs": [],
   "source": [
    "# sample.groupby(['grade','class'])[['math']].mean()"
   ]
  },
  {
   "cell_type": "code",
   "execution_count": 1,
   "metadata": {},
   "outputs": [],
   "source": [
    "import numpy as np\n",
    "import pandas as pd\n",
    "import matplotlib.pyplot as plt\n",
    "import matplotlib\n",
    "matplotlib.rcParams['font.family'] = 'SimHei'\n",
    "\n",
    "Data = pd.read_csv(\"data.csv\", encoding = \"UTF-8\")"
   ]
  },
  {
   "cell_type": "code",
   "execution_count": 2,
   "metadata": {},
   "outputs": [
    {
     "data": {
      "text/html": [
       "<div>\n",
       "<style scoped>\n",
       "    .dataframe tbody tr th:only-of-type {\n",
       "        vertical-align: middle;\n",
       "    }\n",
       "\n",
       "    .dataframe tbody tr th {\n",
       "        vertical-align: top;\n",
       "    }\n",
       "\n",
       "    .dataframe thead th {\n",
       "        text-align: right;\n",
       "    }\n",
       "</style>\n",
       "<table border=\"1\" class=\"dataframe\">\n",
       "  <thead>\n",
       "    <tr style=\"text-align: right;\">\n",
       "      <th></th>\n",
       "      <th>Unnamed: 0</th>\n",
       "      <th>Unnamed: 0.1</th>\n",
       "      <th>dt</th>\n",
       "      <th>phone_no</th>\n",
       "      <th>member_id</th>\n",
       "      <th>commodity_code</th>\n",
       "      <th>commodity_name</th>\n",
       "      <th>commodity_origin_money</th>\n",
       "      <th>coupon_id</th>\n",
       "      <th>coupon_money</th>\n",
       "      <th>one_category_name</th>\n",
       "      <th>two_category_name</th>\n",
       "      <th>commodity_income</th>\n",
       "      <th>pay_money</th>\n",
       "      <th>coffeestore_share_money</th>\n",
       "    </tr>\n",
       "  </thead>\n",
       "  <tbody>\n",
       "    <tr>\n",
       "      <th>0</th>\n",
       "      <td>0</td>\n",
       "      <td>0</td>\n",
       "      <td>2019-01-25</td>\n",
       "      <td>13901387938</td>\n",
       "      <td>14442</td>\n",
       "      <td>SP025</td>\n",
       "      <td>榛果拿铁</td>\n",
       "      <td>27.0</td>\n",
       "      <td>7045.0</td>\n",
       "      <td>19.44</td>\n",
       "      <td>饮品</td>\n",
       "      <td>现磨咖啡</td>\n",
       "      <td>7.56</td>\n",
       "      <td>7.56</td>\n",
       "      <td>0.0</td>\n",
       "    </tr>\n",
       "    <tr>\n",
       "      <th>1</th>\n",
       "      <td>1</td>\n",
       "      <td>1</td>\n",
       "      <td>2019-01-27</td>\n",
       "      <td>13901387938</td>\n",
       "      <td>14442</td>\n",
       "      <td>SP209</td>\n",
       "      <td>NFC鲜榨橙汁</td>\n",
       "      <td>24.0</td>\n",
       "      <td>NaN</td>\n",
       "      <td>0.00</td>\n",
       "      <td>饮品</td>\n",
       "      <td>鲜榨果蔬汁</td>\n",
       "      <td>0.00</td>\n",
       "      <td>0.00</td>\n",
       "      <td>0.0</td>\n",
       "    </tr>\n",
       "    <tr>\n",
       "      <th>2</th>\n",
       "      <td>2</td>\n",
       "      <td>2</td>\n",
       "      <td>2019-01-23</td>\n",
       "      <td>13901387938</td>\n",
       "      <td>14442</td>\n",
       "      <td>SP025</td>\n",
       "      <td>榛果拿铁</td>\n",
       "      <td>27.0</td>\n",
       "      <td>5589.0</td>\n",
       "      <td>22.14</td>\n",
       "      <td>饮品</td>\n",
       "      <td>现磨咖啡</td>\n",
       "      <td>4.86</td>\n",
       "      <td>4.86</td>\n",
       "      <td>0.0</td>\n",
       "    </tr>\n",
       "    <tr>\n",
       "      <th>3</th>\n",
       "      <td>3</td>\n",
       "      <td>3</td>\n",
       "      <td>2019-02-01</td>\n",
       "      <td>13901387938</td>\n",
       "      <td>14442</td>\n",
       "      <td>SP025</td>\n",
       "      <td>榛果拿铁</td>\n",
       "      <td>27.0</td>\n",
       "      <td>6604.0</td>\n",
       "      <td>19.44</td>\n",
       "      <td>饮品</td>\n",
       "      <td>现磨咖啡</td>\n",
       "      <td>7.56</td>\n",
       "      <td>7.56</td>\n",
       "      <td>0.0</td>\n",
       "    </tr>\n",
       "    <tr>\n",
       "      <th>4</th>\n",
       "      <td>4</td>\n",
       "      <td>4</td>\n",
       "      <td>2019-01-27</td>\n",
       "      <td>13901387938</td>\n",
       "      <td>14442</td>\n",
       "      <td>SP010</td>\n",
       "      <td>巧克力瑞纳冰</td>\n",
       "      <td>27.0</td>\n",
       "      <td>6947.0</td>\n",
       "      <td>14.04</td>\n",
       "      <td>饮品</td>\n",
       "      <td>瑞纳冰</td>\n",
       "      <td>12.96</td>\n",
       "      <td>12.96</td>\n",
       "      <td>0.0</td>\n",
       "    </tr>\n",
       "  </tbody>\n",
       "</table>\n",
       "</div>"
      ],
      "text/plain": [
       "   Unnamed: 0  Unnamed: 0.1          dt     phone_no  member_id  \\\n",
       "0           0             0  2019-01-25  13901387938      14442   \n",
       "1           1             1  2019-01-27  13901387938      14442   \n",
       "2           2             2  2019-01-23  13901387938      14442   \n",
       "3           3             3  2019-02-01  13901387938      14442   \n",
       "4           4             4  2019-01-27  13901387938      14442   \n",
       "\n",
       "  commodity_code commodity_name  commodity_origin_money  coupon_id  \\\n",
       "0          SP025           榛果拿铁                    27.0     7045.0   \n",
       "1          SP209        NFC鲜榨橙汁                    24.0        NaN   \n",
       "2          SP025           榛果拿铁                    27.0     5589.0   \n",
       "3          SP025           榛果拿铁                    27.0     6604.0   \n",
       "4          SP010         巧克力瑞纳冰                    27.0     6947.0   \n",
       "\n",
       "   coupon_money one_category_name two_category_name  commodity_income  \\\n",
       "0         19.44                饮品              现磨咖啡              7.56   \n",
       "1          0.00                饮品             鲜榨果蔬汁              0.00   \n",
       "2         22.14                饮品              现磨咖啡              4.86   \n",
       "3         19.44                饮品              现磨咖啡              7.56   \n",
       "4         14.04                饮品               瑞纳冰             12.96   \n",
       "\n",
       "   pay_money  coffeestore_share_money  \n",
       "0       7.56                      0.0  \n",
       "1       0.00                      0.0  \n",
       "2       4.86                      0.0  \n",
       "3       7.56                      0.0  \n",
       "4      12.96                      0.0  "
      ]
     },
     "execution_count": 2,
     "metadata": {},
     "output_type": "execute_result"
    }
   ],
   "source": [
    "Data.head()"
   ]
  },
  {
   "cell_type": "markdown",
   "metadata": {},
   "source": [
    "### Problem 1&emsp;Find the time span of the order data."
   ]
  },
  {
   "cell_type": "code",
   "execution_count": 3,
   "metadata": {},
   "outputs": [
    {
     "name": "stdout",
     "output_type": "stream",
     "text": [
      "The time span of the order data: 2019-01-20 to 2019-03-01\n"
     ]
    }
   ],
   "source": [
    "# loop\n",
    "print('The time span of the order data:',Data['dt'].min(),'to', Data['dt'].max())"
   ]
  },
  {
   "cell_type": "markdown",
   "metadata": {},
   "source": [
    "### Problem 2&emsp;Find the number of orders each day."
   ]
  },
  {
   "cell_type": "code",
   "execution_count": 4,
   "metadata": {},
   "outputs": [
    {
     "name": "stdout",
     "output_type": "stream",
     "text": [
      "The number of orders each day:\n"
     ]
    },
    {
     "data": {
      "text/html": [
       "<div>\n",
       "<style scoped>\n",
       "    .dataframe tbody tr th:only-of-type {\n",
       "        vertical-align: middle;\n",
       "    }\n",
       "\n",
       "    .dataframe tbody tr th {\n",
       "        vertical-align: top;\n",
       "    }\n",
       "\n",
       "    .dataframe thead th {\n",
       "        text-align: right;\n",
       "    }\n",
       "</style>\n",
       "<table border=\"1\" class=\"dataframe\">\n",
       "  <thead>\n",
       "    <tr style=\"text-align: right;\">\n",
       "      <th></th>\n",
       "      <th>daily_sales</th>\n",
       "    </tr>\n",
       "    <tr>\n",
       "      <th>dt</th>\n",
       "      <th></th>\n",
       "    </tr>\n",
       "  </thead>\n",
       "  <tbody>\n",
       "    <tr>\n",
       "      <th>2019-01-20</th>\n",
       "      <td>69859</td>\n",
       "    </tr>\n",
       "    <tr>\n",
       "      <th>2019-01-21</th>\n",
       "      <td>117686</td>\n",
       "    </tr>\n",
       "    <tr>\n",
       "      <th>2019-01-22</th>\n",
       "      <td>118409</td>\n",
       "    </tr>\n",
       "    <tr>\n",
       "      <th>2019-01-23</th>\n",
       "      <td>126331</td>\n",
       "    </tr>\n",
       "    <tr>\n",
       "      <th>2019-01-24</th>\n",
       "      <td>125764</td>\n",
       "    </tr>\n",
       "    <tr>\n",
       "      <th>2019-01-25</th>\n",
       "      <td>122092</td>\n",
       "    </tr>\n",
       "    <tr>\n",
       "      <th>2019-01-26</th>\n",
       "      <td>77779</td>\n",
       "    </tr>\n",
       "    <tr>\n",
       "      <th>2019-01-27</th>\n",
       "      <td>66399</td>\n",
       "    </tr>\n",
       "    <tr>\n",
       "      <th>2019-01-28</th>\n",
       "      <td>106025</td>\n",
       "    </tr>\n",
       "    <tr>\n",
       "      <th>2019-01-29</th>\n",
       "      <td>104704</td>\n",
       "    </tr>\n",
       "    <tr>\n",
       "      <th>2019-01-30</th>\n",
       "      <td>101047</td>\n",
       "    </tr>\n",
       "    <tr>\n",
       "      <th>2019-01-31</th>\n",
       "      <td>97701</td>\n",
       "    </tr>\n",
       "    <tr>\n",
       "      <th>2019-02-01</th>\n",
       "      <td>87458</td>\n",
       "    </tr>\n",
       "    <tr>\n",
       "      <th>2019-02-02</th>\n",
       "      <td>64267</td>\n",
       "    </tr>\n",
       "    <tr>\n",
       "      <th>2019-02-03</th>\n",
       "      <td>43106</td>\n",
       "    </tr>\n",
       "    <tr>\n",
       "      <th>2019-02-04</th>\n",
       "      <td>7113</td>\n",
       "    </tr>\n",
       "    <tr>\n",
       "      <th>2019-02-05</th>\n",
       "      <td>8516</td>\n",
       "    </tr>\n",
       "    <tr>\n",
       "      <th>2019-02-06</th>\n",
       "      <td>7769</td>\n",
       "    </tr>\n",
       "    <tr>\n",
       "      <th>2019-02-07</th>\n",
       "      <td>7655</td>\n",
       "    </tr>\n",
       "    <tr>\n",
       "      <th>2019-02-08</th>\n",
       "      <td>7822</td>\n",
       "    </tr>\n",
       "    <tr>\n",
       "      <th>2019-02-09</th>\n",
       "      <td>8452</td>\n",
       "    </tr>\n",
       "    <tr>\n",
       "      <th>2019-02-10</th>\n",
       "      <td>8241</td>\n",
       "    </tr>\n",
       "    <tr>\n",
       "      <th>2019-02-11</th>\n",
       "      <td>40365</td>\n",
       "    </tr>\n",
       "    <tr>\n",
       "      <th>2019-02-12</th>\n",
       "      <td>43334</td>\n",
       "    </tr>\n",
       "    <tr>\n",
       "      <th>2019-02-13</th>\n",
       "      <td>50789</td>\n",
       "    </tr>\n",
       "    <tr>\n",
       "      <th>2019-02-14</th>\n",
       "      <td>49092</td>\n",
       "    </tr>\n",
       "    <tr>\n",
       "      <th>2019-02-15</th>\n",
       "      <td>49836</td>\n",
       "    </tr>\n",
       "    <tr>\n",
       "      <th>2019-02-16</th>\n",
       "      <td>29672</td>\n",
       "    </tr>\n",
       "    <tr>\n",
       "      <th>2019-02-17</th>\n",
       "      <td>25179</td>\n",
       "    </tr>\n",
       "    <tr>\n",
       "      <th>2019-02-18</th>\n",
       "      <td>52260</td>\n",
       "    </tr>\n",
       "    <tr>\n",
       "      <th>2019-02-19</th>\n",
       "      <td>51624</td>\n",
       "    </tr>\n",
       "    <tr>\n",
       "      <th>2019-02-20</th>\n",
       "      <td>53121</td>\n",
       "    </tr>\n",
       "    <tr>\n",
       "      <th>2019-02-21</th>\n",
       "      <td>51817</td>\n",
       "    </tr>\n",
       "    <tr>\n",
       "      <th>2019-02-22</th>\n",
       "      <td>53685</td>\n",
       "    </tr>\n",
       "    <tr>\n",
       "      <th>2019-02-23</th>\n",
       "      <td>31964</td>\n",
       "    </tr>\n",
       "    <tr>\n",
       "      <th>2019-02-24</th>\n",
       "      <td>27414</td>\n",
       "    </tr>\n",
       "    <tr>\n",
       "      <th>2019-02-25</th>\n",
       "      <td>53969</td>\n",
       "    </tr>\n",
       "    <tr>\n",
       "      <th>2019-02-26</th>\n",
       "      <td>50018</td>\n",
       "    </tr>\n",
       "    <tr>\n",
       "      <th>2019-02-27</th>\n",
       "      <td>48970</td>\n",
       "    </tr>\n",
       "    <tr>\n",
       "      <th>2019-02-28</th>\n",
       "      <td>51272</td>\n",
       "    </tr>\n",
       "    <tr>\n",
       "      <th>2019-03-01</th>\n",
       "      <td>53279</td>\n",
       "    </tr>\n",
       "  </tbody>\n",
       "</table>\n",
       "</div>"
      ],
      "text/plain": [
       "            daily_sales\n",
       "dt                     \n",
       "2019-01-20        69859\n",
       "2019-01-21       117686\n",
       "2019-01-22       118409\n",
       "2019-01-23       126331\n",
       "2019-01-24       125764\n",
       "2019-01-25       122092\n",
       "2019-01-26        77779\n",
       "2019-01-27        66399\n",
       "2019-01-28       106025\n",
       "2019-01-29       104704\n",
       "2019-01-30       101047\n",
       "2019-01-31        97701\n",
       "2019-02-01        87458\n",
       "2019-02-02        64267\n",
       "2019-02-03        43106\n",
       "2019-02-04         7113\n",
       "2019-02-05         8516\n",
       "2019-02-06         7769\n",
       "2019-02-07         7655\n",
       "2019-02-08         7822\n",
       "2019-02-09         8452\n",
       "2019-02-10         8241\n",
       "2019-02-11        40365\n",
       "2019-02-12        43334\n",
       "2019-02-13        50789\n",
       "2019-02-14        49092\n",
       "2019-02-15        49836\n",
       "2019-02-16        29672\n",
       "2019-02-17        25179\n",
       "2019-02-18        52260\n",
       "2019-02-19        51624\n",
       "2019-02-20        53121\n",
       "2019-02-21        51817\n",
       "2019-02-22        53685\n",
       "2019-02-23        31964\n",
       "2019-02-24        27414\n",
       "2019-02-25        53969\n",
       "2019-02-26        50018\n",
       "2019-02-27        48970\n",
       "2019-02-28        51272\n",
       "2019-03-01        53279"
      ]
     },
     "execution_count": 4,
     "metadata": {},
     "output_type": "execute_result"
    }
   ],
   "source": [
    "dates_sales=Data.groupby('dt')[['dt']].count()\n",
    "dates_sales.columns=['daily_sales']\n",
    "print('The number of orders each day:')\n",
    "dates_sales[['daily_sales']]"
   ]
  },
  {
   "cell_type": "markdown",
   "metadata": {},
   "source": [
    "### Problem 2-a"
   ]
  },
  {
   "cell_type": "markdown",
   "metadata": {},
   "source": [
    "### Problem 3&emsp;Find the number of users."
   ]
  },
  {
   "cell_type": "markdown",
   "metadata": {},
   "source": [
    "### Problem 4&emsp;Find ten commodities with the highest sales. \n",
    "### Draw graphs with x-axis the commodity name and y-axis the # of orders."
   ]
  },
  {
   "cell_type": "markdown",
   "metadata": {},
   "source": [
    "### Problem 5&emsp;Find the discount rate of each order and concat it onto the original dataset with column name *<font>discount_rate</font>*."
   ]
  },
  {
   "cell_type": "markdown",
   "metadata": {},
   "source": [
    "### Problem 6&emsp;Find the average discount of each week. (One week should consist of Sunday to Saturday.)"
   ]
  },
  {
   "cell_type": "markdown",
   "metadata": {},
   "source": [
    "### Problem 7&emsp;Find the *<font>Retention Rate</font>* of any five days. It is the ratio of users purchasing again on the next day."
   ]
  },
  {
   "cell_type": "code",
   "execution_count": null,
   "metadata": {},
   "outputs": [],
   "source": []
  },
  {
   "cell_type": "markdown",
   "metadata": {},
   "source": [
    "### Problem 8&emsp;Find the *<font>Week Retention Rate</font>* of any day, which means finding users buying at that day and buying again within the next seven days."
   ]
  },
  {
   "cell_type": "code",
   "execution_count": null,
   "metadata": {},
   "outputs": [],
   "source": []
  },
  {
   "cell_type": "markdown",
   "metadata": {},
   "source": [
    "### Problem 9&emsp;Find the *<font>Week Retention Rate</font>* of any day for *<font>new users</font>* , which means finding users buying at that day *<font>for the first time</font>*  and buying again within the next seven days."
   ]
  },
  {
   "cell_type": "code",
   "execution_count": null,
   "metadata": {},
   "outputs": [],
   "source": []
  },
  {
   "cell_type": "markdown",
   "metadata": {},
   "source": [
    "### Problem 10&emsp;Find the *<font>Retention Rate</font>* *<font>WITHIN</font>* one week of new users."
   ]
  },
  {
   "cell_type": "code",
   "execution_count": null,
   "metadata": {},
   "outputs": [],
   "source": []
  },
  {
   "cell_type": "markdown",
   "metadata": {},
   "source": [
    "### Problem 11&emsp;Find “Active Users” (which means the number of orders of one user is greater equal to 5)."
   ]
  },
  {
   "cell_type": "code",
   "execution_count": null,
   "metadata": {},
   "outputs": [],
   "source": []
  },
  {
   "cell_type": "markdown",
   "metadata": {},
   "source": [
    "### Problem 12&emsp;Write the table you get in 11 as a csv file with filename *<font>ActiveUser.csv</font>*."
   ]
  },
  {
   "cell_type": "code",
   "execution_count": null,
   "metadata": {},
   "outputs": [],
   "source": []
  },
  {
   "cell_type": "markdown",
   "metadata": {},
   "source": [
    "### Problem 13&emsp;Provide a description of the number of orders for each active user (# of ActiveUser, mean, range, std, variance, skewness and kurtosis). "
   ]
  },
  {
   "cell_type": "code",
   "execution_count": null,
   "metadata": {},
   "outputs": [],
   "source": []
  },
  {
   "cell_type": "markdown",
   "metadata": {},
   "source": [
    "### Problem 1"
   ]
  },
  {
   "cell_type": "code",
   "execution_count": null,
   "metadata": {},
   "outputs": [],
   "source": []
  },
  {
   "cell_type": "markdown",
   "metadata": {},
   "source": [
    "### Problem 2"
   ]
  },
  {
   "cell_type": "code",
   "execution_count": null,
   "metadata": {},
   "outputs": [],
   "source": []
  },
  {
   "cell_type": "markdown",
   "metadata": {},
   "source": [
    "### Problem 3"
   ]
  },
  {
   "cell_type": "code",
   "execution_count": null,
   "metadata": {},
   "outputs": [],
   "source": []
  },
  {
   "cell_type": "code",
   "execution_count": null,
   "metadata": {},
   "outputs": [],
   "source": []
  }
 ],
 "metadata": {
  "kernelspec": {
   "display_name": "Python 3",
   "language": "python",
   "name": "python3"
  },
  "language_info": {
   "codemirror_mode": {
    "name": "ipython",
    "version": 3
   },
   "file_extension": ".py",
   "mimetype": "text/x-python",
   "name": "python",
   "nbconvert_exporter": "python",
   "pygments_lexer": "ipython3",
   "version": "3.7.0"
  }
 },
 "nbformat": 4,
 "nbformat_minor": 2
}
